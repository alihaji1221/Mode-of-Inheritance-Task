{
  "cells": [
    {
      "cell_type": "code",
      "execution_count": 2,
      "metadata": {
        "colab": {
          "base_uri": "https://localhost:8080/"
        },
        "id": "dzRGWmYPwZ5N",
        "outputId": "6ee1ec8a-f30a-40fc-a8dc-de60047ca68a"
      },
      "outputs": [
        {
          "output_type": "stream",
          "name": "stdout",
          "text": [
            "Drive already mounted at /content/drive; to attempt to forcibly remount, call drive.mount(\"/content/drive\", force_remount=True).\n"
          ]
        }
      ],
      "source": [
        "from google.colab import drive\n",
        "drive.mount('/content/drive')"
      ]
    },
    {
      "cell_type": "code",
      "source": [
        "# install pysam to work with vcf files\n",
        "!pip install pysam"
      ],
      "metadata": {
        "colab": {
          "base_uri": "https://localhost:8080/"
        },
        "id": "WoehS_RZt-Fp",
        "outputId": "8c508f82-f150-45ce-a3ac-af5567ee822c"
      },
      "execution_count": 4,
      "outputs": [
        {
          "output_type": "stream",
          "name": "stdout",
          "text": [
            "Collecting pysam\n",
            "  Downloading pysam-0.22.0-cp310-cp310-manylinux_2_28_x86_64.whl (21.9 MB)\n",
            "\u001b[2K     \u001b[90m━━━━━━━━━━━━━━━━━━━━━━━━━━━━━━━━━━━━━━━━\u001b[0m \u001b[32m21.9/21.9 MB\u001b[0m \u001b[31m27.4 MB/s\u001b[0m eta \u001b[36m0:00:00\u001b[0m\n",
            "\u001b[?25hInstalling collected packages: pysam\n",
            "Successfully installed pysam-0.22.0\n"
          ]
        }
      ]
    },
    {
      "cell_type": "code",
      "source": [
        "import pysam"
      ],
      "metadata": {
        "id": "ZC_JVzcmuLUn"
      },
      "execution_count": 5,
      "outputs": []
    },
    {
      "cell_type": "code",
      "source": [
        "import os"
      ],
      "metadata": {
        "id": "fZnMgIt6xbg-"
      },
      "execution_count": 6,
      "outputs": []
    },
    {
      "cell_type": "code",
      "source": [
        "# step 1 : save pos of all varients in a list\n",
        "\n",
        "vcf_directory = '/content/drive/MyDrive/Mode of Inheritance Task/Mode of Inheritance Task files/vcf_files'\n",
        "pos_list = []\n",
        "for filename in os.listdir(vcf_directory):\n",
        "  vcf_path = os.path.join(vcf_directory, filename)\n",
        "  vcf_file = pysam.VariantFile(vcf_path)\n",
        "  for varient in vcf_file:\n",
        "    pos_list.append(varient.pos)\n",
        "  vcf_file.close()"
      ],
      "metadata": {
        "id": "PtvlX-A1uPqR"
      },
      "execution_count": 10,
      "outputs": []
    },
    {
      "cell_type": "code",
      "source": [
        "len(pos_list)"
      ],
      "metadata": {
        "colab": {
          "base_uri": "https://localhost:8080/"
        },
        "id": "yQetBgKawC14",
        "outputId": "c286bdfe-3adb-42c0-abea-57b0e02cc132"
      },
      "execution_count": 9,
      "outputs": [
        {
          "output_type": "execute_result",
          "data": {
            "text/plain": [
              "22554"
            ]
          },
          "metadata": {},
          "execution_count": 9
        }
      ]
    },
    {
      "cell_type": "code",
      "execution_count": null,
      "metadata": {
        "id": "tcJSydCyhKtS"
      },
      "outputs": [],
      "source": [
        "import pandas as pd\n",
        "\n",
        "# Specify the file path\n",
        "file_path = \"/content/drive/MyDrive/Mode of Inheritance Task/Mode of Inheritance Task files/OMIM_genemap2_chr17.txt\"\n",
        "\n",
        "# Read the text file into a DataFrame, skipping initial rows starting with #\n",
        "data = pd.read_csv(file_path, delimiter='\\t', comment='#')\n"
      ]
    },
    {
      "cell_type": "code",
      "execution_count": null,
      "metadata": {
        "colab": {
          "background_save": true
        },
        "id": "ImRtzYfo6K8w",
        "outputId": "3a365040-7b1b-4bdb-a699-61bc328c5915"
      },
      "outputs": [
        {
          "data": {
            "application/vnd.google.colaboratory.intrinsic+json": {
              "summary": "{\n  \"name\": \"data\",\n  \"rows\": 1067,\n  \"fields\": [\n    {\n      \"column\": \"Chromosome\",\n      \"properties\": {\n        \"dtype\": \"category\",\n        \"samples\": [\n          \"chr17\"\n        ],\n        \"num_unique_values\": 1,\n        \"semantic_type\": \"\",\n        \"description\": \"\"\n      }\n    },\n    {\n      \"column\": \"Genomic Position Start\",\n      \"properties\": {\n        \"dtype\": \"number\",\n        \"std\": 25050618,\n        \"min\": 1,\n        \"max\": 83079609,\n        \"samples\": [\n          41866917\n        ],\n        \"num_unique_values\": 1019,\n        \"semantic_type\": \"\",\n        \"description\": \"\"\n      }\n    },\n    {\n      \"column\": \"Genomic Position End\",\n      \"properties\": {\n        \"dtype\": \"number\",\n        \"std\": 25141352,\n        \"min\": 181650,\n        \"max\": 83257441,\n        \"samples\": [\n          59215230\n        ],\n        \"num_unique_values\": 1016,\n        \"semantic_type\": \"\",\n        \"description\": \"\"\n      }\n    },\n    {\n      \"column\": \"Cyto Location\",\n      \"properties\": {\n        \"dtype\": \"category\",\n        \"samples\": [\n          \"17q24.3\"\n        ],\n        \"num_unique_values\": 101,\n        \"semantic_type\": \"\",\n        \"description\": \"\"\n      }\n    },\n    {\n      \"column\": \"Computed Cyto Location\",\n      \"properties\": {\n        \"dtype\": \"category\",\n        \"samples\": [\n          \"17q25.1\"\n        ],\n        \"num_unique_values\": 38,\n        \"semantic_type\": \"\",\n        \"description\": \"\"\n      }\n    },\n    {\n      \"column\": \"MIM Number\",\n      \"properties\": {\n        \"dtype\": \"number\",\n        \"std\": 162956,\n        \"min\": 100660,\n        \"max\": 620650,\n        \"samples\": [\n          610465\n        ],\n        \"num_unique_values\": 1067,\n        \"semantic_type\": \"\",\n        \"description\": \"\"\n      }\n    },\n    {\n      \"column\": \"Gene/Locus And Other Related Symbols\",\n      \"properties\": {\n        \"dtype\": \"string\",\n        \"samples\": [\n          \"ACSF2, FLJ20920\"\n        ],\n        \"num_unique_values\": 1067,\n        \"semantic_type\": \"\",\n        \"description\": \"\"\n      }\n    },\n    {\n      \"column\": \"Gene Name\",\n      \"properties\": {\n        \"dtype\": \"string\",\n        \"samples\": [\n          \"Micro RNA 22\"\n        ],\n        \"num_unique_values\": 1066,\n        \"semantic_type\": \"\",\n        \"description\": \"\"\n      }\n    },\n    {\n      \"column\": \"Approved Gene Symbol\",\n      \"properties\": {\n        \"dtype\": \"string\",\n        \"samples\": [\n          \"DNAH17\"\n        ],\n        \"num_unique_values\": 1006,\n        \"semantic_type\": \"\",\n        \"description\": \"\"\n      }\n    },\n    {\n      \"column\": \"Entrez Gene ID\",\n      \"properties\": {\n        \"dtype\": \"number\",\n        \"std\": 17776538.963555794,\n        \"min\": 15.0,\n        \"max\": 117204002.0,\n        \"samples\": [\n          1366.0\n        ],\n        \"num_unique_values\": 1041,\n        \"semantic_type\": \"\",\n        \"description\": \"\"\n      }\n    },\n    {\n      \"column\": \"Ensembl Gene ID\",\n      \"properties\": {\n        \"dtype\": \"string\",\n        \"samples\": [\n          \"ENSG00000006744\"\n        ],\n        \"num_unique_values\": 989,\n        \"semantic_type\": \"\",\n        \"description\": \"\"\n      }\n    },\n    {\n      \"column\": \"Comments\",\n      \"properties\": {\n        \"dtype\": \"category\",\n        \"samples\": [\n          \"mutation identified in 1 MGORS5 patient\"\n        ],\n        \"num_unique_values\": 151,\n        \"semantic_type\": \"\",\n        \"description\": \"\"\n      }\n    },\n    {\n      \"column\": \"Phenotypes\",\n      \"properties\": {\n        \"dtype\": \"category\",\n        \"samples\": [\n          \"Osteogenesis imperfecta, type II, 166210 (3), Autosomal dominant; Caffey disease, 114000 (3), Autosomal dominant; Ehlers-Danlos syndrome, arthrochalasia type, 1, 130060 (3), Autosomal dominant; Osteogenesis imperfecta, type I, 166200 (3), Autosomal dominant; {Bone mineral density variation QTL, osteoporosis}, 166710 (3), Autosomal dominant; Combined osteogenesis imperfecta and Ehlers-Danlos syndrome 1, 619115 (3), Autosomal dominant; Osteogenesis imperfecta, type IV, 166220 (3), Autosomal dominant; Osteogenesis imperfecta, type III, 259420 (3), Autosomal dominant\"\n        ],\n        \"num_unique_values\": 352,\n        \"semantic_type\": \"\",\n        \"description\": \"\"\n      }\n    },\n    {\n      \"column\": \"Mouse Gene Symbol/ID\",\n      \"properties\": {\n        \"dtype\": \"string\",\n        \"samples\": [\n          \"Ube2o (MGI:2444266)\"\n        ],\n        \"num_unique_values\": 932,\n        \"semantic_type\": \"\",\n        \"description\": \"\"\n      }\n    }\n  ]\n}",
              "type": "dataframe",
              "variable_name": "data"
            },
            "text/html": [
              "\n",
              "  <div id=\"df-62e7ce76-528d-49cd-a2ad-d18bf96d3f28\" class=\"colab-df-container\">\n",
              "    <div>\n",
              "<style scoped>\n",
              "    .dataframe tbody tr th:only-of-type {\n",
              "        vertical-align: middle;\n",
              "    }\n",
              "\n",
              "    .dataframe tbody tr th {\n",
              "        vertical-align: top;\n",
              "    }\n",
              "\n",
              "    .dataframe thead th {\n",
              "        text-align: right;\n",
              "    }\n",
              "</style>\n",
              "<table border=\"1\" class=\"dataframe\">\n",
              "  <thead>\n",
              "    <tr style=\"text-align: right;\">\n",
              "      <th></th>\n",
              "      <th>Chromosome</th>\n",
              "      <th>Genomic Position Start</th>\n",
              "      <th>Genomic Position End</th>\n",
              "      <th>Cyto Location</th>\n",
              "      <th>Computed Cyto Location</th>\n",
              "      <th>MIM Number</th>\n",
              "      <th>Gene/Locus And Other Related Symbols</th>\n",
              "      <th>Gene Name</th>\n",
              "      <th>Approved Gene Symbol</th>\n",
              "      <th>Entrez Gene ID</th>\n",
              "      <th>Ensembl Gene ID</th>\n",
              "      <th>Comments</th>\n",
              "      <th>Phenotypes</th>\n",
              "      <th>Mouse Gene Symbol/ID</th>\n",
              "    </tr>\n",
              "  </thead>\n",
              "  <tbody>\n",
              "  </tbody>\n",
              "</table>\n",
              "</div>\n",
              "    <div class=\"colab-df-buttons\">\n",
              "\n",
              "  <div class=\"colab-df-container\">\n",
              "    <button class=\"colab-df-convert\" onclick=\"convertToInteractive('df-62e7ce76-528d-49cd-a2ad-d18bf96d3f28')\"\n",
              "            title=\"Convert this dataframe to an interactive table.\"\n",
              "            style=\"display:none;\">\n",
              "\n",
              "  <svg xmlns=\"http://www.w3.org/2000/svg\" height=\"24px\" viewBox=\"0 -960 960 960\">\n",
              "    <path d=\"M120-120v-720h720v720H120Zm60-500h600v-160H180v160Zm220 220h160v-160H400v160Zm0 220h160v-160H400v160ZM180-400h160v-160H180v160Zm440 0h160v-160H620v160ZM180-180h160v-160H180v160Zm440 0h160v-160H620v160Z\"/>\n",
              "  </svg>\n",
              "    </button>\n",
              "\n",
              "  <style>\n",
              "    .colab-df-container {\n",
              "      display:flex;\n",
              "      gap: 12px;\n",
              "    }\n",
              "\n",
              "    .colab-df-convert {\n",
              "      background-color: #E8F0FE;\n",
              "      border: none;\n",
              "      border-radius: 50%;\n",
              "      cursor: pointer;\n",
              "      display: none;\n",
              "      fill: #1967D2;\n",
              "      height: 32px;\n",
              "      padding: 0 0 0 0;\n",
              "      width: 32px;\n",
              "    }\n",
              "\n",
              "    .colab-df-convert:hover {\n",
              "      background-color: #E2EBFA;\n",
              "      box-shadow: 0px 1px 2px rgba(60, 64, 67, 0.3), 0px 1px 3px 1px rgba(60, 64, 67, 0.15);\n",
              "      fill: #174EA6;\n",
              "    }\n",
              "\n",
              "    .colab-df-buttons div {\n",
              "      margin-bottom: 4px;\n",
              "    }\n",
              "\n",
              "    [theme=dark] .colab-df-convert {\n",
              "      background-color: #3B4455;\n",
              "      fill: #D2E3FC;\n",
              "    }\n",
              "\n",
              "    [theme=dark] .colab-df-convert:hover {\n",
              "      background-color: #434B5C;\n",
              "      box-shadow: 0px 1px 3px 1px rgba(0, 0, 0, 0.15);\n",
              "      filter: drop-shadow(0px 1px 2px rgba(0, 0, 0, 0.3));\n",
              "      fill: #FFFFFF;\n",
              "    }\n",
              "  </style>\n",
              "\n",
              "    <script>\n",
              "      const buttonEl =\n",
              "        document.querySelector('#df-62e7ce76-528d-49cd-a2ad-d18bf96d3f28 button.colab-df-convert');\n",
              "      buttonEl.style.display =\n",
              "        google.colab.kernel.accessAllowed ? 'block' : 'none';\n",
              "\n",
              "      async function convertToInteractive(key) {\n",
              "        const element = document.querySelector('#df-62e7ce76-528d-49cd-a2ad-d18bf96d3f28');\n",
              "        const dataTable =\n",
              "          await google.colab.kernel.invokeFunction('convertToInteractive',\n",
              "                                                    [key], {});\n",
              "        if (!dataTable) return;\n",
              "\n",
              "        const docLinkHtml = 'Like what you see? Visit the ' +\n",
              "          '<a target=\"_blank\" href=https://colab.research.google.com/notebooks/data_table.ipynb>data table notebook</a>'\n",
              "          + ' to learn more about interactive tables.';\n",
              "        element.innerHTML = '';\n",
              "        dataTable['output_type'] = 'display_data';\n",
              "        await google.colab.output.renderOutput(dataTable, element);\n",
              "        const docLink = document.createElement('div');\n",
              "        docLink.innerHTML = docLinkHtml;\n",
              "        element.appendChild(docLink);\n",
              "      }\n",
              "    </script>\n",
              "  </div>\n",
              "\n",
              "    </div>\n",
              "  </div>\n"
            ],
            "text/plain": [
              "Empty DataFrame\n",
              "Columns: [Chromosome, Genomic Position Start, Genomic Position End, Cyto Location, Computed Cyto Location, MIM Number, Gene/Locus And Other Related Symbols, Gene Name, Approved Gene Symbol, Entrez Gene ID, Ensembl Gene ID, Comments, Phenotypes, Mouse Gene Symbol/ID]\n",
              "Index: []"
            ]
          },
          "execution_count": 5,
          "metadata": {},
          "output_type": "execute_result"
        }
      ],
      "source": [
        "# Display the DataFrame\n",
        "data.head(0)"
      ]
    },
    {
      "cell_type": "code",
      "execution_count": null,
      "metadata": {
        "colab": {
          "base_uri": "https://localhost:8080/",
          "height": 36
        },
        "id": "4PwgVrkkTt_9",
        "outputId": "8138d9e9-57f9-4a63-84a1-327fb22b5867"
      },
      "outputs": [
        {
          "data": {
            "application/vnd.google.colaboratory.intrinsic+json": {
              "type": "string"
            },
            "text/plain": [
              "'{Asperger syndrome susceptibility 2}, 608631 (2), Multifactorial, Isolated cases'"
            ]
          },
          "execution_count": 34,
          "metadata": {},
          "output_type": "execute_result"
        }
      ],
      "source": [
        "data['Phenotypes'][0]"
      ]
    },
    {
      "cell_type": "code",
      "execution_count": null,
      "metadata": {
        "colab": {
          "base_uri": "https://localhost:8080/",
          "height": 36
        },
        "id": "Vn3-_DJ-URcl",
        "outputId": "793ec920-c9c2-48c1-8413-d8da31ebf5a0"
      },
      "outputs": [
        {
          "data": {
            "application/vnd.google.colaboratory.intrinsic+json": {
              "type": "string"
            },
            "text/plain": [
              "'Breast cancer (1)'"
            ]
          },
          "execution_count": 35,
          "metadata": {},
          "output_type": "execute_result"
        }
      ],
      "source": [
        "data['Phenotypes'][1]"
      ]
    },
    {
      "cell_type": "code",
      "execution_count": null,
      "metadata": {
        "colab": {
          "base_uri": "https://localhost:8080/",
          "height": 36
        },
        "id": "sstpEth5Ubwt",
        "outputId": "96caa460-d7a4-4967-8d15-81d7cc844eb3"
      },
      "outputs": [
        {
          "data": {
            "application/vnd.google.colaboratory.intrinsic+json": {
              "type": "string"
            },
            "text/plain": [
              "'Cataract 24, anterior polar, 601202 (2), Autosomal dominant'"
            ]
          },
          "execution_count": 36,
          "metadata": {},
          "output_type": "execute_result"
        }
      ],
      "source": [
        "data['Phenotypes'][2]"
      ]
    },
    {
      "cell_type": "code",
      "execution_count": null,
      "metadata": {
        "colab": {
          "base_uri": "https://localhost:8080/"
        },
        "id": "xd5_By-GUfTJ",
        "outputId": "45bec79c-3340-459a-cc88-097d898a3631"
      },
      "outputs": [
        {
          "name": "stdout",
          "output_type": "stream",
          "text": [
            "{Asperger syndrome susceptibility 2}, 608631 (2), Multifactorial, Isolated cases\n",
            "Breast cancer (1)\n",
            "Cataract 24, anterior polar, 601202 (2), Autosomal dominant\n",
            "Dowling-Degos disease 3, 615674 (2), Autosomal dominant\n",
            "Chromosome 17p13.3 duplication syndrome, 613215 (4)\n",
            "Miller-Dieker lissencephaly syndrome, 247200 (4), Autosomal dominant\n",
            "Nail disorder, nonsyndromic congenital, 7, 605779 (2), Autosomal dominant\n",
            "Split-hand/foot malformation with long bone deficiency 3, 612576 (4), Autosomal dominant\n",
            "[Sex hormone-binding globulin circulating level QTL 1], 613498 (2)\n",
            "nan\n",
            "nan\n",
            "nan\n",
            "Pontocerebellar hypoplasia, type 2E, 615851 (3), Autosomal recessive\n",
            "nan\n",
            "Neurodevelopmental disorder with microcephaly, cataracts, and renal abnormalities, 617913 (3), Autosomal recessive\n",
            "nan\n",
            "nan\n",
            "Robinow syndrome, autosomal recessive 2, 618529 (3), Autosomal recessive\n",
            "?Combined oxidative phosphorylation deficiency 43, 618851 (3), Autosomal recessive\n",
            "nan\n"
          ]
        }
      ],
      "source": [
        "for i in range(20):\n",
        "  print(data['Phenotypes'][i])"
      ]
    },
    {
      "cell_type": "code",
      "execution_count": null,
      "metadata": {
        "id": "7IkkD7luUpPN"
      },
      "outputs": [],
      "source": []
    }
  ],
  "metadata": {
    "colab": {
      "provenance": []
    },
    "kernelspec": {
      "display_name": "Python 3",
      "name": "python3"
    },
    "language_info": {
      "name": "python"
    }
  },
  "nbformat": 4,
  "nbformat_minor": 0
}