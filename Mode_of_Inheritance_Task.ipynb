{
  "cells": [
    {
      "cell_type": "code",
      "execution_count": 1,
      "metadata": {
        "colab": {
          "base_uri": "https://localhost:8080/"
        },
        "id": "dzRGWmYPwZ5N",
        "outputId": "fc8aba76-2a3d-40ea-c215-bb8128617ad6"
      },
      "outputs": [
        {
          "output_type": "stream",
          "name": "stdout",
          "text": [
            "Mounted at /content/drive\n"
          ]
        }
      ],
      "source": [
        "from google.colab import drive\n",
        "drive.mount('/content/drive')"
      ]
    },
    {
      "cell_type": "code",
      "source": [
        "# install pysam to work with vcf files\n",
        "!pip install pysam"
      ],
      "metadata": {
        "colab": {
          "base_uri": "https://localhost:8080/"
        },
        "id": "WoehS_RZt-Fp",
        "outputId": "0a606358-06b4-40dc-f4b3-058f92fbf845"
      },
      "execution_count": 2,
      "outputs": [
        {
          "output_type": "stream",
          "name": "stdout",
          "text": [
            "Collecting pysam\n",
            "  Downloading pysam-0.22.0-cp310-cp310-manylinux_2_28_x86_64.whl (21.9 MB)\n",
            "\u001b[2K     \u001b[90m━━━━━━━━━━━━━━━━━━━━━━━━━━━━━━━━━━━━━━━━\u001b[0m \u001b[32m21.9/21.9 MB\u001b[0m \u001b[31m18.6 MB/s\u001b[0m eta \u001b[36m0:00:00\u001b[0m\n",
            "\u001b[?25hInstalling collected packages: pysam\n",
            "Successfully installed pysam-0.22.0\n"
          ]
        }
      ]
    },
    {
      "cell_type": "code",
      "source": [
        "import pysam\n",
        "import os\n",
        "import pandas as pd"
      ],
      "metadata": {
        "id": "ZC_JVzcmuLUn"
      },
      "execution_count": 27,
      "outputs": []
    },
    {
      "cell_type": "code",
      "source": [
        "# step 1 : save ID and pos of all varients in a list\n",
        "vcf_directory = '/content/drive/MyDrive/Mode of Inheritance Task/Mode of Inheritance Task files/vcf_files'\n",
        "ID_list = []\n",
        "pos_list = []\n",
        "for filename in os.listdir(vcf_directory):\n",
        "  vcf_path = os.path.join(vcf_directory, filename)\n",
        "  vcf_file = pysam.VariantFile(vcf_path)\n",
        "  for variant in vcf_file:\n",
        "    ID_list.append(variant.id)\n",
        "    pos_list.append(variant.pos)\n",
        "  vcf_file.close()\n"
      ],
      "metadata": {
        "id": "GObt6KYsITuJ"
      },
      "execution_count": 29,
      "outputs": []
    },
    {
      "cell_type": "code",
      "source": [
        "# step 2 : create a csv file temp_output.csv\n",
        "\n",
        "csv_data = {'ID': ID_list,\n",
        "            'pos': pos_list,\n",
        "\n",
        "            'symbol_OMIM': [None for i in range(len(ID_list))],\n",
        "            'MOI_OMIM': [None for i in range(len(ID_list))],\n",
        "\n",
        "            'symbol_CGD': [None for i in range(len(ID_list))],\n",
        "            'MOI_CGD': [None for i in range(len(ID_list))],\n",
        "\n",
        "            'symbol_ClinGen': [None for i in range(len(ID_list))],\n",
        "            'MOI_ClinGen': [None for i in range(len(ID_list))],\n",
        "\n",
        "            'symbol_gene2phenotype': [None for i in range(len(ID_list))],\n",
        "            'MOI_gene2phenotype': [None for i in range(len(ID_list))],\n",
        "\n",
        "            'symbol_GenCC': [None for i in range(len(ID_list))],\n",
        "            'MOI_GenCC': [None for i in range(len(ID_list))],\n",
        "\n",
        "            'P_AD': [None for i in range(len(ID_list))]}\n",
        "\n",
        "df = pd.DataFrame(csv_data)\n",
        "\n",
        "df.to_csv('/content/drive/MyDrive/Mode of Inheritance Task/Mode of Inheritance Task files/temp_output.csv', index=False)"
      ],
      "metadata": {
        "id": "PtvlX-A1uPqR"
      },
      "execution_count": 32,
      "outputs": []
    },
    {
      "cell_type": "code",
      "source": [
        "len(pos_list)"
      ],
      "metadata": {
        "colab": {
          "base_uri": "https://localhost:8080/"
        },
        "id": "yQetBgKawC14",
        "outputId": "cb36f242-fc71-4989-c82e-ad49914b08b1"
      },
      "execution_count": null,
      "outputs": [
        {
          "output_type": "execute_result",
          "data": {
            "text/plain": [
              "22554"
            ]
          },
          "metadata": {},
          "execution_count": 7
        }
      ]
    },
    {
      "cell_type": "code",
      "execution_count": null,
      "metadata": {
        "id": "tcJSydCyhKtS"
      },
      "outputs": [],
      "source": [
        "import pandas as pd\n",
        "\n",
        "# Specify the file path\n",
        "file_path = \"/content/drive/MyDrive/Mode of Inheritance Task/Mode of Inheritance Task files/databases/OMIM_genemap2_chr17.txt\"\n",
        "\n",
        "# Read the text file into a DataFrame, skipping initial rows starting with #\n",
        "data = pd.read_csv(file_path, delimiter='\\t', comment='#')\n"
      ]
    },
    {
      "cell_type": "code",
      "execution_count": null,
      "metadata": {
        "colab": {
          "base_uri": "https://localhost:8080/",
          "height": 449
        },
        "id": "ImRtzYfo6K8w",
        "outputId": "27ebdf8e-29f1-4dff-a9c0-78178ba6b152"
      },
      "outputs": [
        {
          "output_type": "execute_result",
          "data": {
            "text/plain": [
              "  Chromosome  Genomic Position Start  Genomic Position End Cyto Location  \\\n",
              "0      chr17                       1              10800000         17p13   \n",
              "1      chr17                       1               3400000       17p13.3   \n",
              "2      chr17                       1              10800000         17p13   \n",
              "3      chr17                       1               3400000       17p13.3   \n",
              "4      chr17                       1               3400000       17p13.3   \n",
              "\n",
              "  Computed Cyto Location  MIM Number Gene/Locus And Other Related Symbols  \\\n",
              "0                    NaN      608631                                ASPG2   \n",
              "1                    NaN      113721                                 BCPR   \n",
              "2                    NaN      601202                       CTRCT24, CTAA2   \n",
              "3                    NaN      615674                                 DDD3   \n",
              "4                    NaN      613215              DUP17p13.3, C17DUPp13.3   \n",
              "\n",
              "                                 Gene Name Approved Gene Symbol  \\\n",
              "0  Asperger syndrome, susceptibility to, 2                  NaN   \n",
              "1  Breast cancer-related regulator of TP53                  NaN   \n",
              "2              Cataract 24, anterior polar                  NaN   \n",
              "3                  Dowling-Degos disease 3                  NaN   \n",
              "4  Chromosome 17p13.3 duplication syndrome                  NaN   \n",
              "\n",
              "   Entrez Gene ID Ensembl Gene ID                             Comments  \\\n",
              "0        431711.0             NaN  breakpoints between CHRNE and GP1BA   \n",
              "1             NaN             NaN                                  NaN   \n",
              "2          1484.0             NaN                                  NaN   \n",
              "3     102997065.0             NaN                  max lod at D17S1529   \n",
              "4             NaN             NaN           includes LIS1 and/or YWHAE   \n",
              "\n",
              "                                          Phenotypes Mouse Gene Symbol/ID  \n",
              "0  {Asperger syndrome susceptibility 2}, 608631 (...                  NaN  \n",
              "1                                  Breast cancer (1)                  NaN  \n",
              "2  Cataract 24, anterior polar, 601202 (2), Autos...                  NaN  \n",
              "3  Dowling-Degos disease 3, 615674 (2), Autosomal...                  NaN  \n",
              "4  Chromosome 17p13.3 duplication syndrome, 61321...                  NaN  "
            ],
            "text/html": [
              "\n",
              "  <div id=\"df-ec7c1333-8572-4eff-b4b3-c5576e2c162c\" class=\"colab-df-container\">\n",
              "    <div>\n",
              "<style scoped>\n",
              "    .dataframe tbody tr th:only-of-type {\n",
              "        vertical-align: middle;\n",
              "    }\n",
              "\n",
              "    .dataframe tbody tr th {\n",
              "        vertical-align: top;\n",
              "    }\n",
              "\n",
              "    .dataframe thead th {\n",
              "        text-align: right;\n",
              "    }\n",
              "</style>\n",
              "<table border=\"1\" class=\"dataframe\">\n",
              "  <thead>\n",
              "    <tr style=\"text-align: right;\">\n",
              "      <th></th>\n",
              "      <th>Chromosome</th>\n",
              "      <th>Genomic Position Start</th>\n",
              "      <th>Genomic Position End</th>\n",
              "      <th>Cyto Location</th>\n",
              "      <th>Computed Cyto Location</th>\n",
              "      <th>MIM Number</th>\n",
              "      <th>Gene/Locus And Other Related Symbols</th>\n",
              "      <th>Gene Name</th>\n",
              "      <th>Approved Gene Symbol</th>\n",
              "      <th>Entrez Gene ID</th>\n",
              "      <th>Ensembl Gene ID</th>\n",
              "      <th>Comments</th>\n",
              "      <th>Phenotypes</th>\n",
              "      <th>Mouse Gene Symbol/ID</th>\n",
              "    </tr>\n",
              "  </thead>\n",
              "  <tbody>\n",
              "    <tr>\n",
              "      <th>0</th>\n",
              "      <td>chr17</td>\n",
              "      <td>1</td>\n",
              "      <td>10800000</td>\n",
              "      <td>17p13</td>\n",
              "      <td>NaN</td>\n",
              "      <td>608631</td>\n",
              "      <td>ASPG2</td>\n",
              "      <td>Asperger syndrome, susceptibility to, 2</td>\n",
              "      <td>NaN</td>\n",
              "      <td>431711.0</td>\n",
              "      <td>NaN</td>\n",
              "      <td>breakpoints between CHRNE and GP1BA</td>\n",
              "      <td>{Asperger syndrome susceptibility 2}, 608631 (...</td>\n",
              "      <td>NaN</td>\n",
              "    </tr>\n",
              "    <tr>\n",
              "      <th>1</th>\n",
              "      <td>chr17</td>\n",
              "      <td>1</td>\n",
              "      <td>3400000</td>\n",
              "      <td>17p13.3</td>\n",
              "      <td>NaN</td>\n",
              "      <td>113721</td>\n",
              "      <td>BCPR</td>\n",
              "      <td>Breast cancer-related regulator of TP53</td>\n",
              "      <td>NaN</td>\n",
              "      <td>NaN</td>\n",
              "      <td>NaN</td>\n",
              "      <td>NaN</td>\n",
              "      <td>Breast cancer (1)</td>\n",
              "      <td>NaN</td>\n",
              "    </tr>\n",
              "    <tr>\n",
              "      <th>2</th>\n",
              "      <td>chr17</td>\n",
              "      <td>1</td>\n",
              "      <td>10800000</td>\n",
              "      <td>17p13</td>\n",
              "      <td>NaN</td>\n",
              "      <td>601202</td>\n",
              "      <td>CTRCT24, CTAA2</td>\n",
              "      <td>Cataract 24, anterior polar</td>\n",
              "      <td>NaN</td>\n",
              "      <td>1484.0</td>\n",
              "      <td>NaN</td>\n",
              "      <td>NaN</td>\n",
              "      <td>Cataract 24, anterior polar, 601202 (2), Autos...</td>\n",
              "      <td>NaN</td>\n",
              "    </tr>\n",
              "    <tr>\n",
              "      <th>3</th>\n",
              "      <td>chr17</td>\n",
              "      <td>1</td>\n",
              "      <td>3400000</td>\n",
              "      <td>17p13.3</td>\n",
              "      <td>NaN</td>\n",
              "      <td>615674</td>\n",
              "      <td>DDD3</td>\n",
              "      <td>Dowling-Degos disease 3</td>\n",
              "      <td>NaN</td>\n",
              "      <td>102997065.0</td>\n",
              "      <td>NaN</td>\n",
              "      <td>max lod at D17S1529</td>\n",
              "      <td>Dowling-Degos disease 3, 615674 (2), Autosomal...</td>\n",
              "      <td>NaN</td>\n",
              "    </tr>\n",
              "    <tr>\n",
              "      <th>4</th>\n",
              "      <td>chr17</td>\n",
              "      <td>1</td>\n",
              "      <td>3400000</td>\n",
              "      <td>17p13.3</td>\n",
              "      <td>NaN</td>\n",
              "      <td>613215</td>\n",
              "      <td>DUP17p13.3, C17DUPp13.3</td>\n",
              "      <td>Chromosome 17p13.3 duplication syndrome</td>\n",
              "      <td>NaN</td>\n",
              "      <td>NaN</td>\n",
              "      <td>NaN</td>\n",
              "      <td>includes LIS1 and/or YWHAE</td>\n",
              "      <td>Chromosome 17p13.3 duplication syndrome, 61321...</td>\n",
              "      <td>NaN</td>\n",
              "    </tr>\n",
              "  </tbody>\n",
              "</table>\n",
              "</div>\n",
              "    <div class=\"colab-df-buttons\">\n",
              "\n",
              "  <div class=\"colab-df-container\">\n",
              "    <button class=\"colab-df-convert\" onclick=\"convertToInteractive('df-ec7c1333-8572-4eff-b4b3-c5576e2c162c')\"\n",
              "            title=\"Convert this dataframe to an interactive table.\"\n",
              "            style=\"display:none;\">\n",
              "\n",
              "  <svg xmlns=\"http://www.w3.org/2000/svg\" height=\"24px\" viewBox=\"0 -960 960 960\">\n",
              "    <path d=\"M120-120v-720h720v720H120Zm60-500h600v-160H180v160Zm220 220h160v-160H400v160Zm0 220h160v-160H400v160ZM180-400h160v-160H180v160Zm440 0h160v-160H620v160ZM180-180h160v-160H180v160Zm440 0h160v-160H620v160Z\"/>\n",
              "  </svg>\n",
              "    </button>\n",
              "\n",
              "  <style>\n",
              "    .colab-df-container {\n",
              "      display:flex;\n",
              "      gap: 12px;\n",
              "    }\n",
              "\n",
              "    .colab-df-convert {\n",
              "      background-color: #E8F0FE;\n",
              "      border: none;\n",
              "      border-radius: 50%;\n",
              "      cursor: pointer;\n",
              "      display: none;\n",
              "      fill: #1967D2;\n",
              "      height: 32px;\n",
              "      padding: 0 0 0 0;\n",
              "      width: 32px;\n",
              "    }\n",
              "\n",
              "    .colab-df-convert:hover {\n",
              "      background-color: #E2EBFA;\n",
              "      box-shadow: 0px 1px 2px rgba(60, 64, 67, 0.3), 0px 1px 3px 1px rgba(60, 64, 67, 0.15);\n",
              "      fill: #174EA6;\n",
              "    }\n",
              "\n",
              "    .colab-df-buttons div {\n",
              "      margin-bottom: 4px;\n",
              "    }\n",
              "\n",
              "    [theme=dark] .colab-df-convert {\n",
              "      background-color: #3B4455;\n",
              "      fill: #D2E3FC;\n",
              "    }\n",
              "\n",
              "    [theme=dark] .colab-df-convert:hover {\n",
              "      background-color: #434B5C;\n",
              "      box-shadow: 0px 1px 3px 1px rgba(0, 0, 0, 0.15);\n",
              "      filter: drop-shadow(0px 1px 2px rgba(0, 0, 0, 0.3));\n",
              "      fill: #FFFFFF;\n",
              "    }\n",
              "  </style>\n",
              "\n",
              "    <script>\n",
              "      const buttonEl =\n",
              "        document.querySelector('#df-ec7c1333-8572-4eff-b4b3-c5576e2c162c button.colab-df-convert');\n",
              "      buttonEl.style.display =\n",
              "        google.colab.kernel.accessAllowed ? 'block' : 'none';\n",
              "\n",
              "      async function convertToInteractive(key) {\n",
              "        const element = document.querySelector('#df-ec7c1333-8572-4eff-b4b3-c5576e2c162c');\n",
              "        const dataTable =\n",
              "          await google.colab.kernel.invokeFunction('convertToInteractive',\n",
              "                                                    [key], {});\n",
              "        if (!dataTable) return;\n",
              "\n",
              "        const docLinkHtml = 'Like what you see? Visit the ' +\n",
              "          '<a target=\"_blank\" href=https://colab.research.google.com/notebooks/data_table.ipynb>data table notebook</a>'\n",
              "          + ' to learn more about interactive tables.';\n",
              "        element.innerHTML = '';\n",
              "        dataTable['output_type'] = 'display_data';\n",
              "        await google.colab.output.renderOutput(dataTable, element);\n",
              "        const docLink = document.createElement('div');\n",
              "        docLink.innerHTML = docLinkHtml;\n",
              "        element.appendChild(docLink);\n",
              "      }\n",
              "    </script>\n",
              "  </div>\n",
              "\n",
              "\n",
              "<div id=\"df-ede916ca-5429-42c5-9b18-c1ed06121ba5\">\n",
              "  <button class=\"colab-df-quickchart\" onclick=\"quickchart('df-ede916ca-5429-42c5-9b18-c1ed06121ba5')\"\n",
              "            title=\"Suggest charts\"\n",
              "            style=\"display:none;\">\n",
              "\n",
              "<svg xmlns=\"http://www.w3.org/2000/svg\" height=\"24px\"viewBox=\"0 0 24 24\"\n",
              "     width=\"24px\">\n",
              "    <g>\n",
              "        <path d=\"M19 3H5c-1.1 0-2 .9-2 2v14c0 1.1.9 2 2 2h14c1.1 0 2-.9 2-2V5c0-1.1-.9-2-2-2zM9 17H7v-7h2v7zm4 0h-2V7h2v10zm4 0h-2v-4h2v4z\"/>\n",
              "    </g>\n",
              "</svg>\n",
              "  </button>\n",
              "\n",
              "<style>\n",
              "  .colab-df-quickchart {\n",
              "      --bg-color: #E8F0FE;\n",
              "      --fill-color: #1967D2;\n",
              "      --hover-bg-color: #E2EBFA;\n",
              "      --hover-fill-color: #174EA6;\n",
              "      --disabled-fill-color: #AAA;\n",
              "      --disabled-bg-color: #DDD;\n",
              "  }\n",
              "\n",
              "  [theme=dark] .colab-df-quickchart {\n",
              "      --bg-color: #3B4455;\n",
              "      --fill-color: #D2E3FC;\n",
              "      --hover-bg-color: #434B5C;\n",
              "      --hover-fill-color: #FFFFFF;\n",
              "      --disabled-bg-color: #3B4455;\n",
              "      --disabled-fill-color: #666;\n",
              "  }\n",
              "\n",
              "  .colab-df-quickchart {\n",
              "    background-color: var(--bg-color);\n",
              "    border: none;\n",
              "    border-radius: 50%;\n",
              "    cursor: pointer;\n",
              "    display: none;\n",
              "    fill: var(--fill-color);\n",
              "    height: 32px;\n",
              "    padding: 0;\n",
              "    width: 32px;\n",
              "  }\n",
              "\n",
              "  .colab-df-quickchart:hover {\n",
              "    background-color: var(--hover-bg-color);\n",
              "    box-shadow: 0 1px 2px rgba(60, 64, 67, 0.3), 0 1px 3px 1px rgba(60, 64, 67, 0.15);\n",
              "    fill: var(--button-hover-fill-color);\n",
              "  }\n",
              "\n",
              "  .colab-df-quickchart-complete:disabled,\n",
              "  .colab-df-quickchart-complete:disabled:hover {\n",
              "    background-color: var(--disabled-bg-color);\n",
              "    fill: var(--disabled-fill-color);\n",
              "    box-shadow: none;\n",
              "  }\n",
              "\n",
              "  .colab-df-spinner {\n",
              "    border: 2px solid var(--fill-color);\n",
              "    border-color: transparent;\n",
              "    border-bottom-color: var(--fill-color);\n",
              "    animation:\n",
              "      spin 1s steps(1) infinite;\n",
              "  }\n",
              "\n",
              "  @keyframes spin {\n",
              "    0% {\n",
              "      border-color: transparent;\n",
              "      border-bottom-color: var(--fill-color);\n",
              "      border-left-color: var(--fill-color);\n",
              "    }\n",
              "    20% {\n",
              "      border-color: transparent;\n",
              "      border-left-color: var(--fill-color);\n",
              "      border-top-color: var(--fill-color);\n",
              "    }\n",
              "    30% {\n",
              "      border-color: transparent;\n",
              "      border-left-color: var(--fill-color);\n",
              "      border-top-color: var(--fill-color);\n",
              "      border-right-color: var(--fill-color);\n",
              "    }\n",
              "    40% {\n",
              "      border-color: transparent;\n",
              "      border-right-color: var(--fill-color);\n",
              "      border-top-color: var(--fill-color);\n",
              "    }\n",
              "    60% {\n",
              "      border-color: transparent;\n",
              "      border-right-color: var(--fill-color);\n",
              "    }\n",
              "    80% {\n",
              "      border-color: transparent;\n",
              "      border-right-color: var(--fill-color);\n",
              "      border-bottom-color: var(--fill-color);\n",
              "    }\n",
              "    90% {\n",
              "      border-color: transparent;\n",
              "      border-bottom-color: var(--fill-color);\n",
              "    }\n",
              "  }\n",
              "</style>\n",
              "\n",
              "  <script>\n",
              "    async function quickchart(key) {\n",
              "      const quickchartButtonEl =\n",
              "        document.querySelector('#' + key + ' button');\n",
              "      quickchartButtonEl.disabled = true;  // To prevent multiple clicks.\n",
              "      quickchartButtonEl.classList.add('colab-df-spinner');\n",
              "      try {\n",
              "        const charts = await google.colab.kernel.invokeFunction(\n",
              "            'suggestCharts', [key], {});\n",
              "      } catch (error) {\n",
              "        console.error('Error during call to suggestCharts:', error);\n",
              "      }\n",
              "      quickchartButtonEl.classList.remove('colab-df-spinner');\n",
              "      quickchartButtonEl.classList.add('colab-df-quickchart-complete');\n",
              "    }\n",
              "    (() => {\n",
              "      let quickchartButtonEl =\n",
              "        document.querySelector('#df-ede916ca-5429-42c5-9b18-c1ed06121ba5 button');\n",
              "      quickchartButtonEl.style.display =\n",
              "        google.colab.kernel.accessAllowed ? 'block' : 'none';\n",
              "    })();\n",
              "  </script>\n",
              "</div>\n",
              "    </div>\n",
              "  </div>\n"
            ],
            "application/vnd.google.colaboratory.intrinsic+json": {
              "type": "dataframe",
              "variable_name": "data",
              "summary": "{\n  \"name\": \"data\",\n  \"rows\": 1067,\n  \"fields\": [\n    {\n      \"column\": \"Chromosome\",\n      \"properties\": {\n        \"dtype\": \"category\",\n        \"num_unique_values\": 1,\n        \"samples\": [\n          \"chr17\"\n        ],\n        \"semantic_type\": \"\",\n        \"description\": \"\"\n      }\n    },\n    {\n      \"column\": \"Genomic Position Start\",\n      \"properties\": {\n        \"dtype\": \"number\",\n        \"std\": 25050618,\n        \"min\": 1,\n        \"max\": 83079609,\n        \"num_unique_values\": 1019,\n        \"samples\": [\n          41866917\n        ],\n        \"semantic_type\": \"\",\n        \"description\": \"\"\n      }\n    },\n    {\n      \"column\": \"Genomic Position End\",\n      \"properties\": {\n        \"dtype\": \"number\",\n        \"std\": 25141352,\n        \"min\": 181650,\n        \"max\": 83257441,\n        \"num_unique_values\": 1016,\n        \"samples\": [\n          59215230\n        ],\n        \"semantic_type\": \"\",\n        \"description\": \"\"\n      }\n    },\n    {\n      \"column\": \"Cyto Location\",\n      \"properties\": {\n        \"dtype\": \"category\",\n        \"num_unique_values\": 101,\n        \"samples\": [\n          \"17q24.3\"\n        ],\n        \"semantic_type\": \"\",\n        \"description\": \"\"\n      }\n    },\n    {\n      \"column\": \"Computed Cyto Location\",\n      \"properties\": {\n        \"dtype\": \"category\",\n        \"num_unique_values\": 38,\n        \"samples\": [\n          \"17q25.1\"\n        ],\n        \"semantic_type\": \"\",\n        \"description\": \"\"\n      }\n    },\n    {\n      \"column\": \"MIM Number\",\n      \"properties\": {\n        \"dtype\": \"number\",\n        \"std\": 162956,\n        \"min\": 100660,\n        \"max\": 620650,\n        \"num_unique_values\": 1067,\n        \"samples\": [\n          610465\n        ],\n        \"semantic_type\": \"\",\n        \"description\": \"\"\n      }\n    },\n    {\n      \"column\": \"Gene/Locus And Other Related Symbols\",\n      \"properties\": {\n        \"dtype\": \"string\",\n        \"num_unique_values\": 1067,\n        \"samples\": [\n          \"ACSF2, FLJ20920\"\n        ],\n        \"semantic_type\": \"\",\n        \"description\": \"\"\n      }\n    },\n    {\n      \"column\": \"Gene Name\",\n      \"properties\": {\n        \"dtype\": \"string\",\n        \"num_unique_values\": 1066,\n        \"samples\": [\n          \"Micro RNA 22\"\n        ],\n        \"semantic_type\": \"\",\n        \"description\": \"\"\n      }\n    },\n    {\n      \"column\": \"Approved Gene Symbol\",\n      \"properties\": {\n        \"dtype\": \"string\",\n        \"num_unique_values\": 1006,\n        \"samples\": [\n          \"DNAH17\"\n        ],\n        \"semantic_type\": \"\",\n        \"description\": \"\"\n      }\n    },\n    {\n      \"column\": \"Entrez Gene ID\",\n      \"properties\": {\n        \"dtype\": \"number\",\n        \"std\": 17776538.963555794,\n        \"min\": 15.0,\n        \"max\": 117204002.0,\n        \"num_unique_values\": 1041,\n        \"samples\": [\n          1366.0\n        ],\n        \"semantic_type\": \"\",\n        \"description\": \"\"\n      }\n    },\n    {\n      \"column\": \"Ensembl Gene ID\",\n      \"properties\": {\n        \"dtype\": \"string\",\n        \"num_unique_values\": 989,\n        \"samples\": [\n          \"ENSG00000006744\"\n        ],\n        \"semantic_type\": \"\",\n        \"description\": \"\"\n      }\n    },\n    {\n      \"column\": \"Comments\",\n      \"properties\": {\n        \"dtype\": \"category\",\n        \"num_unique_values\": 151,\n        \"samples\": [\n          \"mutation identified in 1 MGORS5 patient\"\n        ],\n        \"semantic_type\": \"\",\n        \"description\": \"\"\n      }\n    },\n    {\n      \"column\": \"Phenotypes\",\n      \"properties\": {\n        \"dtype\": \"category\",\n        \"num_unique_values\": 352,\n        \"samples\": [\n          \"Osteogenesis imperfecta, type II, 166210 (3), Autosomal dominant; Caffey disease, 114000 (3), Autosomal dominant; Ehlers-Danlos syndrome, arthrochalasia type, 1, 130060 (3), Autosomal dominant; Osteogenesis imperfecta, type I, 166200 (3), Autosomal dominant; {Bone mineral density variation QTL, osteoporosis}, 166710 (3), Autosomal dominant; Combined osteogenesis imperfecta and Ehlers-Danlos syndrome 1, 619115 (3), Autosomal dominant; Osteogenesis imperfecta, type IV, 166220 (3), Autosomal dominant; Osteogenesis imperfecta, type III, 259420 (3), Autosomal dominant\"\n        ],\n        \"semantic_type\": \"\",\n        \"description\": \"\"\n      }\n    },\n    {\n      \"column\": \"Mouse Gene Symbol/ID\",\n      \"properties\": {\n        \"dtype\": \"string\",\n        \"num_unique_values\": 932,\n        \"samples\": [\n          \"Ube2o (MGI:2444266)\"\n        ],\n        \"semantic_type\": \"\",\n        \"description\": \"\"\n      }\n    }\n  ]\n}"
            }
          },
          "metadata": {},
          "execution_count": 9
        }
      ],
      "source": [
        "# Display the DataFrame\n",
        "data.head(5)"
      ]
    },
    {
      "cell_type": "code",
      "source": [
        "gene_interval_list = [(data['Genomic Position Start'][i], data['Genomic Position End'][i]) for i in range(len(data))]"
      ],
      "metadata": {
        "id": "YZtWeceohDg4"
      },
      "execution_count": null,
      "outputs": []
    },
    {
      "cell_type": "code",
      "source": [
        "pos_index_dict = {}\n",
        "for pos in pos_list:\n",
        "  index_list = []\n",
        "  for i ,(start, end) in enumerate(gene_interval_list):\n",
        "    if start <= pos <= end:\n",
        "      index_list.append(i)\n",
        "  pos_index_dict[pos] = index_list"
      ],
      "metadata": {
        "id": "5LN2S2wUixcI"
      },
      "execution_count": null,
      "outputs": []
    },
    {
      "cell_type": "code",
      "source": [
        "count = 0\n",
        "for pos in pos_index_dict.keys():\n",
        "  if count <= 10:\n",
        "    print(pos,': ',pos_index_dict[pos])\n",
        "    count += 1"
      ],
      "metadata": {
        "colab": {
          "base_uri": "https://localhost:8080/"
        },
        "id": "Nv6RbfdojrMJ",
        "outputId": "6f4f36fa-3d15-4327-eda7-31fda233086c"
      },
      "execution_count": null,
      "outputs": [
        {
          "output_type": "stream",
          "name": "stdout",
          "text": [
            "137603 :  [0, 1, 2, 3, 4, 5, 6, 7, 8, 1065, 1066]\n",
            "138213 :  [0, 1, 2, 3, 4, 5, 6, 7, 8, 1065, 1066]\n",
            "261904 :  [0, 1, 2, 3, 4, 5, 6, 7, 8, 10, 1065, 1066]\n",
            "321346 :  [0, 1, 2, 3, 4, 5, 6, 7, 8, 10, 1065, 1066]\n",
            "410351 :  [0, 1, 2, 3, 4, 5, 6, 7, 8, 1065, 1066]\n",
            "413503 :  [0, 1, 2, 3, 4, 5, 6, 7, 8, 1065, 1066]\n",
            "562535 :  [0, 1, 2, 3, 4, 5, 6, 7, 8, 12, 1065, 1066]\n",
            "562753 :  [0, 1, 2, 3, 4, 5, 6, 7, 8, 12, 1065, 1066]\n",
            "733080 :  [0, 1, 2, 3, 4, 5, 6, 7, 8, 13, 1065, 1066]\n",
            "744946 :  [0, 1, 2, 3, 4, 5, 6, 7, 8, 14, 1065, 1066]\n",
            "745827 :  [0, 1, 2, 3, 4, 5, 6, 7, 8, 14, 1065, 1066]\n"
          ]
        }
      ]
    },
    {
      "cell_type": "code",
      "source": [
        "pos_phenotype_dict = {}\n",
        "for pos in pos_list:\n",
        "  phenotype_list = []\n",
        "  for index in pos_index_dict[pos]:\n",
        "    phenotype_list.append(data['Phenotypes'][index])\n",
        "  pos_phenotype_dict[pos] = phenotype_list"
      ],
      "metadata": {
        "id": "m-9hjxySllin"
      },
      "execution_count": null,
      "outputs": []
    },
    {
      "cell_type": "code",
      "source": [
        "count = 0\n",
        "for pos in pos_phenotype_dict.keys():\n",
        "  if count <= 10:\n",
        "    print(pos,': ',pos_phenotype_dict[pos])\n",
        "    count += 1"
      ],
      "metadata": {
        "colab": {
          "base_uri": "https://localhost:8080/"
        },
        "id": "3m7vWDSimf2b",
        "outputId": "c8884e8b-a7b2-4d56-a244-f31165e4423f"
      },
      "execution_count": null,
      "outputs": [
        {
          "output_type": "stream",
          "name": "stdout",
          "text": [
            "137603 :  ['{Asperger syndrome susceptibility 2}, 608631 (2), Multifactorial, Isolated cases', 'Breast cancer (1)', 'Cataract 24, anterior polar, 601202 (2), Autosomal dominant', 'Dowling-Degos disease 3, 615674 (2), Autosomal dominant', 'Chromosome 17p13.3 duplication syndrome, 613215 (4)', 'Miller-Dieker lissencephaly syndrome, 247200 (4), Autosomal dominant', 'Nail disorder, nonsyndromic congenital, 7, 605779 (2), Autosomal dominant', 'Split-hand/foot malformation with long bone deficiency 3, 612576 (4), Autosomal dominant', '[Sex hormone-binding globulin circulating level QTL 1], 613498 (2)', nan, '{Opioid dependence, susceptibility to, 1}, 610064 (2)']\n",
            "138213 :  ['{Asperger syndrome susceptibility 2}, 608631 (2), Multifactorial, Isolated cases', 'Breast cancer (1)', 'Cataract 24, anterior polar, 601202 (2), Autosomal dominant', 'Dowling-Degos disease 3, 615674 (2), Autosomal dominant', 'Chromosome 17p13.3 duplication syndrome, 613215 (4)', 'Miller-Dieker lissencephaly syndrome, 247200 (4), Autosomal dominant', 'Nail disorder, nonsyndromic congenital, 7, 605779 (2), Autosomal dominant', 'Split-hand/foot malformation with long bone deficiency 3, 612576 (4), Autosomal dominant', '[Sex hormone-binding globulin circulating level QTL 1], 613498 (2)', nan, '{Opioid dependence, susceptibility to, 1}, 610064 (2)']\n",
            "261904 :  ['{Asperger syndrome susceptibility 2}, 608631 (2), Multifactorial, Isolated cases', 'Breast cancer (1)', 'Cataract 24, anterior polar, 601202 (2), Autosomal dominant', 'Dowling-Degos disease 3, 615674 (2), Autosomal dominant', 'Chromosome 17p13.3 duplication syndrome, 613215 (4)', 'Miller-Dieker lissencephaly syndrome, 247200 (4), Autosomal dominant', 'Nail disorder, nonsyndromic congenital, 7, 605779 (2), Autosomal dominant', 'Split-hand/foot malformation with long bone deficiency 3, 612576 (4), Autosomal dominant', '[Sex hormone-binding globulin circulating level QTL 1], 613498 (2)', nan, nan, '{Opioid dependence, susceptibility to, 1}, 610064 (2)']\n",
            "321346 :  ['{Asperger syndrome susceptibility 2}, 608631 (2), Multifactorial, Isolated cases', 'Breast cancer (1)', 'Cataract 24, anterior polar, 601202 (2), Autosomal dominant', 'Dowling-Degos disease 3, 615674 (2), Autosomal dominant', 'Chromosome 17p13.3 duplication syndrome, 613215 (4)', 'Miller-Dieker lissencephaly syndrome, 247200 (4), Autosomal dominant', 'Nail disorder, nonsyndromic congenital, 7, 605779 (2), Autosomal dominant', 'Split-hand/foot malformation with long bone deficiency 3, 612576 (4), Autosomal dominant', '[Sex hormone-binding globulin circulating level QTL 1], 613498 (2)', nan, nan, '{Opioid dependence, susceptibility to, 1}, 610064 (2)']\n",
            "410351 :  ['{Asperger syndrome susceptibility 2}, 608631 (2), Multifactorial, Isolated cases', 'Breast cancer (1)', 'Cataract 24, anterior polar, 601202 (2), Autosomal dominant', 'Dowling-Degos disease 3, 615674 (2), Autosomal dominant', 'Chromosome 17p13.3 duplication syndrome, 613215 (4)', 'Miller-Dieker lissencephaly syndrome, 247200 (4), Autosomal dominant', 'Nail disorder, nonsyndromic congenital, 7, 605779 (2), Autosomal dominant', 'Split-hand/foot malformation with long bone deficiency 3, 612576 (4), Autosomal dominant', '[Sex hormone-binding globulin circulating level QTL 1], 613498 (2)', nan, '{Opioid dependence, susceptibility to, 1}, 610064 (2)']\n",
            "413503 :  ['{Asperger syndrome susceptibility 2}, 608631 (2), Multifactorial, Isolated cases', 'Breast cancer (1)', 'Cataract 24, anterior polar, 601202 (2), Autosomal dominant', 'Dowling-Degos disease 3, 615674 (2), Autosomal dominant', 'Chromosome 17p13.3 duplication syndrome, 613215 (4)', 'Miller-Dieker lissencephaly syndrome, 247200 (4), Autosomal dominant', 'Nail disorder, nonsyndromic congenital, 7, 605779 (2), Autosomal dominant', 'Split-hand/foot malformation with long bone deficiency 3, 612576 (4), Autosomal dominant', '[Sex hormone-binding globulin circulating level QTL 1], 613498 (2)', nan, '{Opioid dependence, susceptibility to, 1}, 610064 (2)']\n",
            "562535 :  ['{Asperger syndrome susceptibility 2}, 608631 (2), Multifactorial, Isolated cases', 'Breast cancer (1)', 'Cataract 24, anterior polar, 601202 (2), Autosomal dominant', 'Dowling-Degos disease 3, 615674 (2), Autosomal dominant', 'Chromosome 17p13.3 duplication syndrome, 613215 (4)', 'Miller-Dieker lissencephaly syndrome, 247200 (4), Autosomal dominant', 'Nail disorder, nonsyndromic congenital, 7, 605779 (2), Autosomal dominant', 'Split-hand/foot malformation with long bone deficiency 3, 612576 (4), Autosomal dominant', '[Sex hormone-binding globulin circulating level QTL 1], 613498 (2)', 'Pontocerebellar hypoplasia, type 2E, 615851 (3), Autosomal recessive', nan, '{Opioid dependence, susceptibility to, 1}, 610064 (2)']\n",
            "562753 :  ['{Asperger syndrome susceptibility 2}, 608631 (2), Multifactorial, Isolated cases', 'Breast cancer (1)', 'Cataract 24, anterior polar, 601202 (2), Autosomal dominant', 'Dowling-Degos disease 3, 615674 (2), Autosomal dominant', 'Chromosome 17p13.3 duplication syndrome, 613215 (4)', 'Miller-Dieker lissencephaly syndrome, 247200 (4), Autosomal dominant', 'Nail disorder, nonsyndromic congenital, 7, 605779 (2), Autosomal dominant', 'Split-hand/foot malformation with long bone deficiency 3, 612576 (4), Autosomal dominant', '[Sex hormone-binding globulin circulating level QTL 1], 613498 (2)', 'Pontocerebellar hypoplasia, type 2E, 615851 (3), Autosomal recessive', nan, '{Opioid dependence, susceptibility to, 1}, 610064 (2)']\n",
            "733080 :  ['{Asperger syndrome susceptibility 2}, 608631 (2), Multifactorial, Isolated cases', 'Breast cancer (1)', 'Cataract 24, anterior polar, 601202 (2), Autosomal dominant', 'Dowling-Degos disease 3, 615674 (2), Autosomal dominant', 'Chromosome 17p13.3 duplication syndrome, 613215 (4)', 'Miller-Dieker lissencephaly syndrome, 247200 (4), Autosomal dominant', 'Nail disorder, nonsyndromic congenital, 7, 605779 (2), Autosomal dominant', 'Split-hand/foot malformation with long bone deficiency 3, 612576 (4), Autosomal dominant', '[Sex hormone-binding globulin circulating level QTL 1], 613498 (2)', nan, nan, '{Opioid dependence, susceptibility to, 1}, 610064 (2)']\n",
            "744946 :  ['{Asperger syndrome susceptibility 2}, 608631 (2), Multifactorial, Isolated cases', 'Breast cancer (1)', 'Cataract 24, anterior polar, 601202 (2), Autosomal dominant', 'Dowling-Degos disease 3, 615674 (2), Autosomal dominant', 'Chromosome 17p13.3 duplication syndrome, 613215 (4)', 'Miller-Dieker lissencephaly syndrome, 247200 (4), Autosomal dominant', 'Nail disorder, nonsyndromic congenital, 7, 605779 (2), Autosomal dominant', 'Split-hand/foot malformation with long bone deficiency 3, 612576 (4), Autosomal dominant', '[Sex hormone-binding globulin circulating level QTL 1], 613498 (2)', 'Neurodevelopmental disorder with microcephaly, cataracts, and renal abnormalities, 617913 (3), Autosomal recessive', nan, '{Opioid dependence, susceptibility to, 1}, 610064 (2)']\n",
            "745827 :  ['{Asperger syndrome susceptibility 2}, 608631 (2), Multifactorial, Isolated cases', 'Breast cancer (1)', 'Cataract 24, anterior polar, 601202 (2), Autosomal dominant', 'Dowling-Degos disease 3, 615674 (2), Autosomal dominant', 'Chromosome 17p13.3 duplication syndrome, 613215 (4)', 'Miller-Dieker lissencephaly syndrome, 247200 (4), Autosomal dominant', 'Nail disorder, nonsyndromic congenital, 7, 605779 (2), Autosomal dominant', 'Split-hand/foot malformation with long bone deficiency 3, 612576 (4), Autosomal dominant', '[Sex hormone-binding globulin circulating level QTL 1], 613498 (2)', 'Neurodevelopmental disorder with microcephaly, cataracts, and renal abnormalities, 617913 (3), Autosomal recessive', nan, '{Opioid dependence, susceptibility to, 1}, 610064 (2)']\n"
          ]
        }
      ]
    },
    {
      "cell_type": "code",
      "source": [
        "pos_MOIlist_dict = {}\n",
        "for pos in pos_list:\n",
        "  MOI_list = []\n",
        "  for phenotype in pos_phenotype_dict[pos]:\n",
        "    if \"dominant\" in str(phenotype).lower() and \"recessive\" in str(phenotype).lower():\n",
        "      MOI_list.append('AD/AR')\n",
        "    elif \"dominant\" in str(phenotype).lower():\n",
        "      MOI_list.append('AD')\n",
        "    elif \"recessive\" in str(phenotype).lower():\n",
        "      MOI_list.append('AR')\n",
        "    else:\n",
        "      MOI_list.append('')\n",
        "  pos_MOIlist_dict[pos] = MOI_list"
      ],
      "metadata": {
        "id": "YLPaZ1qZnoQ6"
      },
      "execution_count": null,
      "outputs": []
    },
    {
      "cell_type": "code",
      "source": [
        "count = 0\n",
        "for pos in pos_MOIlist_dict.keys():\n",
        "  if count <= 10:\n",
        "    print(pos,': ',pos_MOIlist_dict[pos])\n",
        "    count += 1"
      ],
      "metadata": {
        "id": "mP3JRd7Op8Mu",
        "colab": {
          "base_uri": "https://localhost:8080/"
        },
        "outputId": "3c8398c9-f404-4e3f-c5e7-58ddd93ff6f9"
      },
      "execution_count": null,
      "outputs": [
        {
          "output_type": "stream",
          "name": "stdout",
          "text": [
            "137603 :  ['', '', 'AD', 'AD', '', 'AD', 'AD', 'AD', '', '', '']\n",
            "138213 :  ['', '', 'AD', 'AD', '', 'AD', 'AD', 'AD', '', '', '']\n",
            "261904 :  ['', '', 'AD', 'AD', '', 'AD', 'AD', 'AD', '', '', '', '']\n",
            "321346 :  ['', '', 'AD', 'AD', '', 'AD', 'AD', 'AD', '', '', '', '']\n",
            "410351 :  ['', '', 'AD', 'AD', '', 'AD', 'AD', 'AD', '', '', '']\n",
            "413503 :  ['', '', 'AD', 'AD', '', 'AD', 'AD', 'AD', '', '', '']\n",
            "562535 :  ['', '', 'AD', 'AD', '', 'AD', 'AD', 'AD', '', 'AR', '', '']\n",
            "562753 :  ['', '', 'AD', 'AD', '', 'AD', 'AD', 'AD', '', 'AR', '', '']\n",
            "733080 :  ['', '', 'AD', 'AD', '', 'AD', 'AD', 'AD', '', '', '', '']\n",
            "744946 :  ['', '', 'AD', 'AD', '', 'AD', 'AD', 'AD', '', 'AR', '', '']\n",
            "745827 :  ['', '', 'AD', 'AD', '', 'AD', 'AD', 'AD', '', 'AR', '', '']\n"
          ]
        }
      ]
    },
    {
      "cell_type": "code",
      "source": [
        "for pos in range(4898000, 4899965):\n",
        "  if pos in pos_list:\n",
        "    print(pos, ' : ', pos_MOIlist_dict[pos])"
      ],
      "metadata": {
        "colab": {
          "base_uri": "https://localhost:8080/"
        },
        "id": "4h39cB9Adcb9",
        "outputId": "d2cd397e-e49a-4b58-e759-4fece819b7fd"
      },
      "execution_count": null,
      "outputs": [
        {
          "output_type": "stream",
          "name": "stdout",
          "text": [
            "4898816  :  ['', 'AD', 'AD', 'AD', '', 'AR', 'AD/AR', '', '']\n",
            "4898960  :  ['', 'AD', 'AD', 'AD', '', 'AR', 'AD/AR', '', '']\n",
            "4899034  :  ['', 'AD', 'AD', 'AD', '', 'AR', 'AD/AR', '', '']\n",
            "4899390  :  ['', 'AD', 'AD', 'AD', '', 'AR', 'AD/AR', '', '']\n",
            "4899534  :  ['', 'AD', 'AD', 'AD', '', 'AR', 'AD/AR', '', '']\n"
          ]
        }
      ]
    },
    {
      "cell_type": "code",
      "source": [
        "def determine_MOI(MOI_list):\n",
        "    # Remove empty strings from MOI list\n",
        "    filtered_MOI_list = [MOI for MOI in MOI_list if MOI]\n",
        "\n",
        "    if not filtered_MOI_list:\n",
        "        return 'Unknown'\n",
        "\n",
        "    if len(set(filtered_MOI_list)) == 1:\n",
        "        return filtered_MOI_list[0]\n",
        "\n",
        "    # If both 'AD' and 'AR' present, assign 'AD/AR'\n",
        "    if 'AD' in filtered_MOI_list and 'AR' in filtered_MOI_list:\n",
        "        return 'AD/AR'\n",
        "\n",
        "    # Handle conflicting MOIs\n",
        "    return 'Mixed/Uncertain'\n",
        "\n",
        "# Determine MOI for each variant"
      ],
      "metadata": {
        "id": "wD-g0Zjki7cf"
      },
      "execution_count": null,
      "outputs": []
    },
    {
      "cell_type": "code",
      "source": [
        "# Determine MOI for each variant\n",
        "pos_MOI_dict = {}\n",
        "for pos, MOI_list in pos_MOIlist_dict.items():\n",
        "    MOI = determine_MOI(MOI_list)\n",
        "    pos_MOI_dict[pos] = MOI"
      ],
      "metadata": {
        "id": "kCMVPDiqjB1z"
      },
      "execution_count": null,
      "outputs": []
    },
    {
      "cell_type": "code",
      "source": [
        "# Print variant MOIs\n",
        "for pos, MOI in pos_MOI_dict.items():\n",
        "    print(f\"Variant at position {pos}: MOI = {MOI}\")"
      ],
      "metadata": {
        "id": "XFwJrwwUjLW-"
      },
      "execution_count": null,
      "outputs": []
    },
    {
      "cell_type": "code",
      "source": [
        "for pos, MOI in pos_MOI_dict.items():\n",
        "  if MOI == 'AR':\n",
        "    print(pos)"
      ],
      "metadata": {
        "colab": {
          "base_uri": "https://localhost:8080/"
        },
        "id": "Nwhrxs1ZjRAc",
        "outputId": "af2c1e5f-f0d6-4858-8226-40deffb2d926"
      },
      "execution_count": null,
      "outputs": [
        {
          "output_type": "stream",
          "name": "stdout",
          "text": [
            "27301794\n",
            "27303362\n",
            "27312362\n",
            "27311633\n",
            "27312303\n"
          ]
        }
      ]
    },
    {
      "cell_type": "code",
      "source": [
        "import matplotlib.pyplot as plt\n",
        "\n",
        "# Count occurrences of each MOI\n",
        "MOIs_count = {'AD': 0, 'AR': 0, 'AD/AR': 0, 'Mixed/Uncertain': 0, 'Unknown': 0}\n",
        "\n",
        "# Count occurrences of each MOI\n",
        "for MOI in pos_MOI_dict.values():\n",
        "    MOIs_count[MOI] += 1\n",
        "\n",
        "# Convert counts to percentages\n",
        "total_variants = sum(MOIs_count.values())\n",
        "percentages = [count / total_variants * 100 for count in MOIs_count.values()]\n",
        "\n",
        "# Define MOIs and colors\n",
        "MOIs = list(MOIs_count.keys())\n",
        "colors = ['lightblue', 'lightgreen', 'orange', 'lightcoral', 'lightgrey']\n",
        "\n",
        "# Create figure and axis\n",
        "fig, ax = plt.subplots()\n",
        "\n",
        "# Plot circle\n",
        "circle = plt.Circle((0, 0), 0.7, color='white')\n",
        "ax.add_artist(circle)\n",
        "\n",
        "# Plot pie chart\n",
        "ax.pie(percentages, labels=MOIs, autopct='%1.1f%%', startangle=90, colors=colors)\n",
        "\n",
        "# Equal aspect ratio ensures that pie is drawn as a circle\n",
        "ax.axis('equal')\n",
        "\n",
        "# Add title\n",
        "plt.title('Percentage of Modes of Inheritance')\n",
        "\n",
        "# Show plot\n",
        "plt.show()\n"
      ],
      "metadata": {
        "colab": {
          "base_uri": "https://localhost:8080/",
          "height": 430
        },
        "id": "31XFbtszjeyG",
        "outputId": "15e587eb-81a5-493a-8f58-ad132769918c"
      },
      "execution_count": null,
      "outputs": [
        {
          "output_type": "display_data",
          "data": {
            "text/plain": [
              "<Figure size 640x480 with 1 Axes>"
            ],
            "image/png": "[encoded data removed]"
          },
          "metadata": {}
        }
      ]
    },
    {
      "cell_type": "code",
      "source": [
        "!pip install biopython"
      ],
      "metadata": {
        "colab": {
          "base_uri": "https://localhost:8080/"
        },
        "id": "7dHQeBuARm9V",
        "outputId": "b707ae6b-b6f0-47d9-d9b6-cda90dc3e317"
      },
      "execution_count": null,
      "outputs": [
        {
          "output_type": "stream",
          "name": "stdout",
          "text": [
            "Collecting biopython\n",
            "  Downloading biopython-1.83-cp310-cp310-manylinux_2_17_x86_64.manylinux2014_x86_64.whl (3.1 MB)\n",
            "\u001b[2K     \u001b[90m━━━━━━━━━━━━━━━━━━━━━━━━━━━━━━━━━━━━━━━━\u001b[0m \u001b[32m3.1/3.1 MB\u001b[0m \u001b[31m9.6 MB/s\u001b[0m eta \u001b[36m0:00:00\u001b[0m\n",
            "\u001b[?25hRequirement already satisfied: numpy in /usr/local/lib/python3.10/dist-packages (from biopython) (1.25.2)\n",
            "Installing collected packages: biopython\n",
            "Successfully installed biopython-1.83\n"
          ]
        }
      ]
    },
    {
      "cell_type": "code",
      "source": [
        "from Bio import Entrez\n",
        "\n",
        "# Entrez email address (required by NCBI)\n",
        "Entrez.email = \"alihajisadeghian250@gmail.com\"\n",
        "\n",
        "# Entrez Gene ID of the gene you're interested in\n",
        "entrez_gene_id = \"2\"\n",
        "\n",
        "# Query Entrez Gene database to retrieve gene information\n",
        "handle = Entrez.efetch(db=\"gene\", id=entrez_gene_id, rettype=\"gb\", retmode=\"text\")\n",
        "gene_record = handle.read()\n",
        "handle.close()\n"
      ],
      "metadata": {
        "id": "4bnqXX1clnWj"
      },
      "execution_count": null,
      "outputs": []
    },
    {
      "cell_type": "code",
      "source": [
        "gene_record"
      ],
      "metadata": {
        "colab": {
          "base_uri": "https://localhost:8080/",
          "height": 72
        },
        "id": "Hiu8XxoXRkne",
        "outputId": "48f4e05d-d16e-4dd2-8cd7-757ef8708c4f"
      },
      "execution_count": null,
      "outputs": [
        {
          "output_type": "execute_result",
          "data": {
            "text/plain": [
              "'\\n1. A2M\\nOfficial Symbol: A2M and Name: alpha-2-macroglobulin [Homo sapiens (human)]\\nOther Aliases: A2MD, CPAMD5, FWP007, S863-7\\nOther Designations: alpha-2-macroglobulin; C3 and PZP-like alpha-2-macroglobulin domain-containing protein 5; alpha-2-M\\nChromosome: 12; Location: 12p13.31\\nAnnotation: Chromosome 12 NC_000012.12 (9067708..9116229, complement)\\nMIM: 103950\\nID: 2\\n\\n'"
            ],
            "application/vnd.google.colaboratory.intrinsic+json": {
              "type": "string"
            }
          },
          "metadata": {},
          "execution_count": 69
        }
      ]
    },
    {
      "cell_type": "code",
      "source": [
        "chr = int(gene_record.split('\\n')[5].split(' ')[1].split(';')[0])"
      ],
      "metadata": {
        "id": "YJt4VnBHR1gN"
      },
      "execution_count": null,
      "outputs": []
    },
    {
      "cell_type": "code",
      "source": [
        "start_pos = int(gene_record.split('\\n')[6].split('(')[1].split('..')[0])"
      ],
      "metadata": {
        "id": "wrL6rG4fSKwN"
      },
      "execution_count": null,
      "outputs": []
    },
    {
      "cell_type": "code",
      "source": [
        "end_pos = int(gene_record.split('\\n')[6].split('(')[1].split('..')[1].split(',')[0].split(')')[0])"
      ],
      "metadata": {
        "id": "GL4g_pYPVhwf"
      },
      "execution_count": null,
      "outputs": []
    },
    {
      "cell_type": "code",
      "source": [
        "chr"
      ],
      "metadata": {
        "colab": {
          "base_uri": "https://localhost:8080/"
        },
        "id": "Hhs1s8flSYd1",
        "outputId": "057307c2-adc8-4d12-f24a-3763ea86520d"
      },
      "execution_count": null,
      "outputs": [
        {
          "output_type": "execute_result",
          "data": {
            "text/plain": [
              "12"
            ]
          },
          "metadata": {},
          "execution_count": 73
        }
      ]
    },
    {
      "cell_type": "code",
      "source": [
        "start_pos"
      ],
      "metadata": {
        "colab": {
          "base_uri": "https://localhost:8080/"
        },
        "id": "558NllEyT9y9",
        "outputId": "576ca0ac-e42e-415a-8b49-60bb99fce32e"
      },
      "execution_count": null,
      "outputs": [
        {
          "output_type": "execute_result",
          "data": {
            "text/plain": [
              "9067708"
            ]
          },
          "metadata": {},
          "execution_count": 74
        }
      ]
    },
    {
      "cell_type": "code",
      "source": [
        "end_pos"
      ],
      "metadata": {
        "colab": {
          "base_uri": "https://localhost:8080/"
        },
        "id": "6mVvP2PlT_n1",
        "outputId": "3d480a26-d622-44c4-be6f-7913d7134a9b"
      },
      "execution_count": null,
      "outputs": [
        {
          "output_type": "execute_result",
          "data": {
            "text/plain": [
              "9116229"
            ]
          },
          "metadata": {},
          "execution_count": 75
        }
      ]
    },
    {
      "cell_type": "code",
      "source": [],
      "metadata": {
        "id": "Ej1i2TD9V_2a"
      },
      "execution_count": null,
      "outputs": []
    }
  ],
  "metadata": {
    "colab": {
      "provenance": []
    },
    "kernelspec": {
      "display_name": "Python 3",
      "name": "python3"
    },
    "language_info": {
      "name": "python"
    }
  },
  "nbformat": 4,
  "nbformat_minor": 0
}