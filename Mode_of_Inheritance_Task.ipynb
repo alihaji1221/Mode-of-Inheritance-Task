{
  "cells": [
    {
      "cell_type": "code",
      "execution_count": 1,
      "metadata": {
        "colab": {
          "base_uri": "https://localhost:8080/"
        },
        "id": "dzRGWmYPwZ5N",
        "outputId": "31e1c077-ced3-44f3-b555-8af775b23b01"
      },
      "outputs": [
        {
          "output_type": "stream",
          "name": "stdout",
          "text": [
            "Mounted at /content/drive\n"
          ]
        }
      ],
      "source": [
        "from google.colab import drive\n",
        "drive.mount('/content/drive')"
      ]
    },
    {
      "cell_type": "code",
      "source": [
        "# install pysam to work with vcf files\n",
        "!pip install pysam"
      ],
      "metadata": {
        "colab": {
          "base_uri": "https://localhost:8080/"
        },
        "id": "WoehS_RZt-Fp",
        "outputId": "cf5763d9-518f-4d22-b49f-49822e88beff"
      },
      "execution_count": 3,
      "outputs": [
        {
          "output_type": "stream",
          "name": "stdout",
          "text": [
            "Requirement already satisfied: pysam in /usr/local/lib/python3.10/dist-packages (0.22.0)\n"
          ]
        }
      ]
    },
    {
      "cell_type": "code",
      "source": [
        "import pysam\n",
        "import os\n",
        "import pandas as pd"
      ],
      "metadata": {
        "id": "ZC_JVzcmuLUn"
      },
      "execution_count": 4,
      "outputs": []
    },
    {
      "cell_type": "code",
      "execution_count": 7,
      "metadata": {
        "id": "tcJSydCyhKtS"
      },
      "outputs": [],
      "source": [
        "# step 3: OMIM database\n",
        "\n",
        "import pandas as pd\n",
        "\n",
        "# Specify the file path\n",
        "file_path = \"/content/drive/MyDrive/Mode of Inheritance Task/Mode of Inheritance Task files/databases/OMIM_genemap2_chr17.txt\"\n",
        "\n",
        "# Read the text file into a DataFrame, skipping initial rows starting with #\n",
        "omim_data = pd.read_csv(file_path, delimiter='\\t', comment='#')\n"
      ]
    },
    {
      "cell_type": "code",
      "execution_count": 24,
      "metadata": {
        "colab": {
          "base_uri": "https://localhost:8080/",
          "height": 185
        },
        "id": "ImRtzYfo6K8w",
        "outputId": "b476a69c-fc3f-4242-aa4b-6669cfede5b5"
      },
      "outputs": [
        {
          "output_type": "execute_result",
          "data": {
            "text/plain": [
              "  Chromosome  Genomic Position Start  Genomic Position End Cyto Location  \\\n",
              "0      chr17                       1              10800000         17p13   \n",
              "\n",
              "  Computed Cyto Location  MIM Number Gene/Locus And Other Related Symbols  \\\n",
              "0                    NaN      608631                                ASPG2   \n",
              "\n",
              "                                 Gene Name Approved Gene Symbol  \\\n",
              "0  Asperger syndrome, susceptibility to, 2                  NaN   \n",
              "\n",
              "   Entrez Gene ID Ensembl Gene ID                             Comments  \\\n",
              "0        431711.0             NaN  breakpoints between CHRNE and GP1BA   \n",
              "\n",
              "                                          Phenotypes Mouse Gene Symbol/ID  \n",
              "0  {Asperger syndrome susceptibility 2}, 608631 (...                  NaN  "
            ],
            "text/html": [
              "\n",
              "  <div id=\"df-d973b593-8e29-4c5e-b6af-b42d0f996934\" class=\"colab-df-container\">\n",
              "    <div>\n",
              "<style scoped>\n",
              "    .dataframe tbody tr th:only-of-type {\n",
              "        vertical-align: middle;\n",
              "    }\n",
              "\n",
              "    .dataframe tbody tr th {\n",
              "        vertical-align: top;\n",
              "    }\n",
              "\n",
              "    .dataframe thead th {\n",
              "        text-align: right;\n",
              "    }\n",
              "</style>\n",
              "<table border=\"1\" class=\"dataframe\">\n",
              "  <thead>\n",
              "    <tr style=\"text-align: right;\">\n",
              "      <th></th>\n",
              "      <th>Chromosome</th>\n",
              "      <th>Genomic Position Start</th>\n",
              "      <th>Genomic Position End</th>\n",
              "      <th>Cyto Location</th>\n",
              "      <th>Computed Cyto Location</th>\n",
              "      <th>MIM Number</th>\n",
              "      <th>Gene/Locus And Other Related Symbols</th>\n",
              "      <th>Gene Name</th>\n",
              "      <th>Approved Gene Symbol</th>\n",
              "      <th>Entrez Gene ID</th>\n",
              "      <th>Ensembl Gene ID</th>\n",
              "      <th>Comments</th>\n",
              "      <th>Phenotypes</th>\n",
              "      <th>Mouse Gene Symbol/ID</th>\n",
              "    </tr>\n",
              "  </thead>\n",
              "  <tbody>\n",
              "    <tr>\n",
              "      <th>0</th>\n",
              "      <td>chr17</td>\n",
              "      <td>1</td>\n",
              "      <td>10800000</td>\n",
              "      <td>17p13</td>\n",
              "      <td>NaN</td>\n",
              "      <td>608631</td>\n",
              "      <td>ASPG2</td>\n",
              "      <td>Asperger syndrome, susceptibility to, 2</td>\n",
              "      <td>NaN</td>\n",
              "      <td>431711.0</td>\n",
              "      <td>NaN</td>\n",
              "      <td>breakpoints between CHRNE and GP1BA</td>\n",
              "      <td>{Asperger syndrome susceptibility 2}, 608631 (...</td>\n",
              "      <td>NaN</td>\n",
              "    </tr>\n",
              "  </tbody>\n",
              "</table>\n",
              "</div>\n",
              "    <div class=\"colab-df-buttons\">\n",
              "\n",
              "  <div class=\"colab-df-container\">\n",
              "    <button class=\"colab-df-convert\" onclick=\"convertToInteractive('df-d973b593-8e29-4c5e-b6af-b42d0f996934')\"\n",
              "            title=\"Convert this dataframe to an interactive table.\"\n",
              "            style=\"display:none;\">\n",
              "\n",
              "  <svg xmlns=\"http://www.w3.org/2000/svg\" height=\"24px\" viewBox=\"0 -960 960 960\">\n",
              "    <path d=\"M120-120v-720h720v720H120Zm60-500h600v-160H180v160Zm220 220h160v-160H400v160Zm0 220h160v-160H400v160ZM180-400h160v-160H180v160Zm440 0h160v-160H620v160ZM180-180h160v-160H180v160Zm440 0h160v-160H620v160Z\"/>\n",
              "  </svg>\n",
              "    </button>\n",
              "\n",
              "  <style>\n",
              "    .colab-df-container {\n",
              "      display:flex;\n",
              "      gap: 12px;\n",
              "    }\n",
              "\n",
              "    .colab-df-convert {\n",
              "      background-color: #E8F0FE;\n",
              "      border: none;\n",
              "      border-radius: 50%;\n",
              "      cursor: pointer;\n",
              "      display: none;\n",
              "      fill: #1967D2;\n",
              "      height: 32px;\n",
              "      padding: 0 0 0 0;\n",
              "      width: 32px;\n",
              "    }\n",
              "\n",
              "    .colab-df-convert:hover {\n",
              "      background-color: #E2EBFA;\n",
              "      box-shadow: 0px 1px 2px rgba(60, 64, 67, 0.3), 0px 1px 3px 1px rgba(60, 64, 67, 0.15);\n",
              "      fill: #174EA6;\n",
              "    }\n",
              "\n",
              "    .colab-df-buttons div {\n",
              "      margin-bottom: 4px;\n",
              "    }\n",
              "\n",
              "    [theme=dark] .colab-df-convert {\n",
              "      background-color: #3B4455;\n",
              "      fill: #D2E3FC;\n",
              "    }\n",
              "\n",
              "    [theme=dark] .colab-df-convert:hover {\n",
              "      background-color: #434B5C;\n",
              "      box-shadow: 0px 1px 3px 1px rgba(0, 0, 0, 0.15);\n",
              "      filter: drop-shadow(0px 1px 2px rgba(0, 0, 0, 0.3));\n",
              "      fill: #FFFFFF;\n",
              "    }\n",
              "  </style>\n",
              "\n",
              "    <script>\n",
              "      const buttonEl =\n",
              "        document.querySelector('#df-d973b593-8e29-4c5e-b6af-b42d0f996934 button.colab-df-convert');\n",
              "      buttonEl.style.display =\n",
              "        google.colab.kernel.accessAllowed ? 'block' : 'none';\n",
              "\n",
              "      async function convertToInteractive(key) {\n",
              "        const element = document.querySelector('#df-d973b593-8e29-4c5e-b6af-b42d0f996934');\n",
              "        const dataTable =\n",
              "          await google.colab.kernel.invokeFunction('convertToInteractive',\n",
              "                                                    [key], {});\n",
              "        if (!dataTable) return;\n",
              "\n",
              "        const docLinkHtml = 'Like what you see? Visit the ' +\n",
              "          '<a target=\"_blank\" href=https://colab.research.google.com/notebooks/data_table.ipynb>data table notebook</a>'\n",
              "          + ' to learn more about interactive tables.';\n",
              "        element.innerHTML = '';\n",
              "        dataTable['output_type'] = 'display_data';\n",
              "        await google.colab.output.renderOutput(dataTable, element);\n",
              "        const docLink = document.createElement('div');\n",
              "        docLink.innerHTML = docLinkHtml;\n",
              "        element.appendChild(docLink);\n",
              "      }\n",
              "    </script>\n",
              "  </div>\n",
              "\n",
              "    </div>\n",
              "  </div>\n"
            ],
            "application/vnd.google.colaboratory.intrinsic+json": {
              "type": "dataframe",
              "variable_name": "omim_data",
              "summary": "{\n  \"name\": \"omim_data\",\n  \"rows\": 1067,\n  \"fields\": [\n    {\n      \"column\": \"Chromosome\",\n      \"properties\": {\n        \"dtype\": \"category\",\n        \"num_unique_values\": 1,\n        \"samples\": [\n          \"chr17\"\n        ],\n        \"semantic_type\": \"\",\n        \"description\": \"\"\n      }\n    },\n    {\n      \"column\": \"Genomic Position Start\",\n      \"properties\": {\n        \"dtype\": \"number\",\n        \"std\": 25050618,\n        \"min\": 1,\n        \"max\": 83079609,\n        \"num_unique_values\": 1019,\n        \"samples\": [\n          41866917\n        ],\n        \"semantic_type\": \"\",\n        \"description\": \"\"\n      }\n    },\n    {\n      \"column\": \"Genomic Position End\",\n      \"properties\": {\n        \"dtype\": \"number\",\n        \"std\": 25141352,\n        \"min\": 181650,\n        \"max\": 83257441,\n        \"num_unique_values\": 1016,\n        \"samples\": [\n          59215230\n        ],\n        \"semantic_type\": \"\",\n        \"description\": \"\"\n      }\n    },\n    {\n      \"column\": \"Cyto Location\",\n      \"properties\": {\n        \"dtype\": \"category\",\n        \"num_unique_values\": 101,\n        \"samples\": [\n          \"17q24.3\"\n        ],\n        \"semantic_type\": \"\",\n        \"description\": \"\"\n      }\n    },\n    {\n      \"column\": \"Computed Cyto Location\",\n      \"properties\": {\n        \"dtype\": \"category\",\n        \"num_unique_values\": 38,\n        \"samples\": [\n          \"17q25.1\"\n        ],\n        \"semantic_type\": \"\",\n        \"description\": \"\"\n      }\n    },\n    {\n      \"column\": \"MIM Number\",\n      \"properties\": {\n        \"dtype\": \"number\",\n        \"std\": 162956,\n        \"min\": 100660,\n        \"max\": 620650,\n        \"num_unique_values\": 1067,\n        \"samples\": [\n          610465\n        ],\n        \"semantic_type\": \"\",\n        \"description\": \"\"\n      }\n    },\n    {\n      \"column\": \"Gene/Locus And Other Related Symbols\",\n      \"properties\": {\n        \"dtype\": \"string\",\n        \"num_unique_values\": 1067,\n        \"samples\": [\n          \"ACSF2, FLJ20920\"\n        ],\n        \"semantic_type\": \"\",\n        \"description\": \"\"\n      }\n    },\n    {\n      \"column\": \"Gene Name\",\n      \"properties\": {\n        \"dtype\": \"string\",\n        \"num_unique_values\": 1066,\n        \"samples\": [\n          \"Micro RNA 22\"\n        ],\n        \"semantic_type\": \"\",\n        \"description\": \"\"\n      }\n    },\n    {\n      \"column\": \"Approved Gene Symbol\",\n      \"properties\": {\n        \"dtype\": \"string\",\n        \"num_unique_values\": 1006,\n        \"samples\": [\n          \"DNAH17\"\n        ],\n        \"semantic_type\": \"\",\n        \"description\": \"\"\n      }\n    },\n    {\n      \"column\": \"Entrez Gene ID\",\n      \"properties\": {\n        \"dtype\": \"number\",\n        \"std\": 17776538.963555794,\n        \"min\": 15.0,\n        \"max\": 117204002.0,\n        \"num_unique_values\": 1041,\n        \"samples\": [\n          1366.0\n        ],\n        \"semantic_type\": \"\",\n        \"description\": \"\"\n      }\n    },\n    {\n      \"column\": \"Ensembl Gene ID\",\n      \"properties\": {\n        \"dtype\": \"string\",\n        \"num_unique_values\": 989,\n        \"samples\": [\n          \"ENSG00000006744\"\n        ],\n        \"semantic_type\": \"\",\n        \"description\": \"\"\n      }\n    },\n    {\n      \"column\": \"Comments\",\n      \"properties\": {\n        \"dtype\": \"category\",\n        \"num_unique_values\": 151,\n        \"samples\": [\n          \"mutation identified in 1 MGORS5 patient\"\n        ],\n        \"semantic_type\": \"\",\n        \"description\": \"\"\n      }\n    },\n    {\n      \"column\": \"Phenotypes\",\n      \"properties\": {\n        \"dtype\": \"category\",\n        \"num_unique_values\": 352,\n        \"samples\": [\n          \"Osteogenesis imperfecta, type II, 166210 (3), Autosomal dominant; Caffey disease, 114000 (3), Autosomal dominant; Ehlers-Danlos syndrome, arthrochalasia type, 1, 130060 (3), Autosomal dominant; Osteogenesis imperfecta, type I, 166200 (3), Autosomal dominant; {Bone mineral density variation QTL, osteoporosis}, 166710 (3), Autosomal dominant; Combined osteogenesis imperfecta and Ehlers-Danlos syndrome 1, 619115 (3), Autosomal dominant; Osteogenesis imperfecta, type IV, 166220 (3), Autosomal dominant; Osteogenesis imperfecta, type III, 259420 (3), Autosomal dominant\"\n        ],\n        \"semantic_type\": \"\",\n        \"description\": \"\"\n      }\n    },\n    {\n      \"column\": \"Mouse Gene Symbol/ID\",\n      \"properties\": {\n        \"dtype\": \"string\",\n        \"num_unique_values\": 932,\n        \"samples\": [\n          \"Ube2o (MGI:2444266)\"\n        ],\n        \"semantic_type\": \"\",\n        \"description\": \"\"\n      }\n    }\n  ]\n}"
            }
          },
          "metadata": {},
          "execution_count": 24
        }
      ],
      "source": [
        "# Display the DataFrame\n",
        "omim_data.head(1)"
      ]
    },
    {
      "cell_type": "code",
      "source": [
        "# preprocess OMIM database: filter some columns and add MOI column based on Phenotypes\n",
        "filtered_columns = ['Genomic Position Start', 'Genomic Position End', 'Gene/Locus And Other Related Symbols', 'Gene Name', 'Phenotypes']\n",
        "\n",
        "filtered_omim_data = omim_data[filtered_columns]\n",
        "\n",
        "filtered_omim_data.loc[:, 'MOI'] = ''\n",
        "\n",
        "for i, phenotype in enumerate(filtered_omim_data['Phenotypes']):\n",
        "    MOI_list = []\n",
        "    if \"dominant\" in str(phenotype).lower() and \"recessive\" in str(phenotype).lower():\n",
        "      MOI_list.append('AD/AR')\n",
        "    elif \"dominant\" in str(phenotype).lower():\n",
        "      MOI_list.append('AD')\n",
        "    elif \"recessive\" in str(phenotype).lower():\n",
        "      MOI_list.append('AR')\n",
        "    else:\n",
        "      MOI_list.append('')\n",
        "    filtered_omim_data.loc[i, 'MOI'] = ', '.join(MOI_list)\n",
        "\n",
        "\n",
        "output_file_path = \"/content/drive/MyDrive/Mode of Inheritance Task/Mode of Inheritance Task files/preprocessed databases/filtered_omim_data.csv\"\n",
        "\n",
        "filtered_omim_data.to_csv(output_file_path, index=False)"
      ],
      "metadata": {
        "colab": {
          "base_uri": "https://localhost:8080/"
        },
        "id": "nS4vUFOyX4aL",
        "outputId": "79528eb0-87ff-4b19-9205-5294a569a17e"
      },
      "execution_count": 39,
      "outputs": [
        {
          "output_type": "stream",
          "name": "stderr",
          "text": [
            "<ipython-input-39-637ce39c1169>:6: SettingWithCopyWarning: \n",
            "A value is trying to be set on a copy of a slice from a DataFrame.\n",
            "Try using .loc[row_indexer,col_indexer] = value instead\n",
            "\n",
            "See the caveats in the documentation: https://pandas.pydata.org/pandas-docs/stable/user_guide/indexing.html#returning-a-view-versus-a-copy\n",
            "  filtered_omim_data.loc[:, 'MOI'] = ''\n"
          ]
        }
      ]
    },
    {
      "cell_type": "code",
      "source": [
        "# CDG database\n",
        "\n",
        "# Specify the file path\n",
        "file_path = \"/content/drive/MyDrive/Mode of Inheritance Task/Mode of Inheritance Task files/databases/CGD.txt.gz\"\n",
        "\n",
        "# Read the text file into a DataFrame, skipping initial rows starting with #\n",
        "CGD_data = pd.read_csv(file_path, delimiter='\\t')\n"
      ],
      "metadata": {
        "id": "phgEI34_Yyc6"
      },
      "execution_count": 47,
      "outputs": []
    },
    {
      "cell_type": "code",
      "source": [
        "# Display the DataFrame\n",
        "CGD_data.head(3)"
      ],
      "metadata": {
        "colab": {
          "base_uri": "https://localhost:8080/",
          "height": 299
        },
        "id": "UXhNyEu_i9Dv",
        "outputId": "a6e07a03-36d6-4961-f0a5-8bb28d973fef"
      },
      "execution_count": 62,
      "outputs": [
        {
          "output_type": "execute_result",
          "data": {
            "text/plain": [
              "    #GENE  HGNC ID  ENTREZ GENE ID                         CONDITION  \\\n",
              "0     A2M        7               2  Alpha-2-macroglobulin deficiency   \n",
              "1   A2ML1    23336          144568   Otitis media, susceptibility to   \n",
              "2  A4GALT    18149           53947          Blood group, P1PK system   \n",
              "\n",
              "  INHERITANCE  AGE GROUP ALLELIC CONDITIONS       MANIFESTATION CATEGORIES  \\\n",
              "0          AD        NaN                NaN                        General   \n",
              "1          AD  Pediatric                NaN  Allergy/Immunology/Infectious   \n",
              "2          BG  Pediatric                NaN                    Hematologic   \n",
              "\n",
              "         INTERVENTION CATEGORIES  \\\n",
              "0                        General   \n",
              "1  Allergy/Immunology/Infectious   \n",
              "2                    Hematologic   \n",
              "\n",
              "                                            COMMENTS  \\\n",
              "0  Variants have been implicated in pulmonary dis...   \n",
              "1                                                NaN   \n",
              "2                                                NaN   \n",
              "\n",
              "                              INTERVENTION/RATIONALE               REFERENCES  \n",
              "0  The clinical consequences of variants are unclear  94459; 2475424; 1370808  \n",
              "1  Individuals may have increased susceptibility ...                 26121085  \n",
              "2  Variants associated with a blood group may be ...                 10993874  "
            ],
            "text/html": [
              "\n",
              "  <div id=\"df-60316ec8-ab5b-4070-88b6-06b3e0e6264a\" class=\"colab-df-container\">\n",
              "    <div>\n",
              "<style scoped>\n",
              "    .dataframe tbody tr th:only-of-type {\n",
              "        vertical-align: middle;\n",
              "    }\n",
              "\n",
              "    .dataframe tbody tr th {\n",
              "        vertical-align: top;\n",
              "    }\n",
              "\n",
              "    .dataframe thead th {\n",
              "        text-align: right;\n",
              "    }\n",
              "</style>\n",
              "<table border=\"1\" class=\"dataframe\">\n",
              "  <thead>\n",
              "    <tr style=\"text-align: right;\">\n",
              "      <th></th>\n",
              "      <th>#GENE</th>\n",
              "      <th>HGNC ID</th>\n",
              "      <th>ENTREZ GENE ID</th>\n",
              "      <th>CONDITION</th>\n",
              "      <th>INHERITANCE</th>\n",
              "      <th>AGE GROUP</th>\n",
              "      <th>ALLELIC CONDITIONS</th>\n",
              "      <th>MANIFESTATION CATEGORIES</th>\n",
              "      <th>INTERVENTION CATEGORIES</th>\n",
              "      <th>COMMENTS</th>\n",
              "      <th>INTERVENTION/RATIONALE</th>\n",
              "      <th>REFERENCES</th>\n",
              "    </tr>\n",
              "  </thead>\n",
              "  <tbody>\n",
              "    <tr>\n",
              "      <th>0</th>\n",
              "      <td>A2M</td>\n",
              "      <td>7</td>\n",
              "      <td>2</td>\n",
              "      <td>Alpha-2-macroglobulin deficiency</td>\n",
              "      <td>AD</td>\n",
              "      <td>NaN</td>\n",
              "      <td>NaN</td>\n",
              "      <td>General</td>\n",
              "      <td>General</td>\n",
              "      <td>Variants have been implicated in pulmonary dis...</td>\n",
              "      <td>The clinical consequences of variants are unclear</td>\n",
              "      <td>94459; 2475424; 1370808</td>\n",
              "    </tr>\n",
              "    <tr>\n",
              "      <th>1</th>\n",
              "      <td>A2ML1</td>\n",
              "      <td>23336</td>\n",
              "      <td>144568</td>\n",
              "      <td>Otitis media, susceptibility to</td>\n",
              "      <td>AD</td>\n",
              "      <td>Pediatric</td>\n",
              "      <td>NaN</td>\n",
              "      <td>Allergy/Immunology/Infectious</td>\n",
              "      <td>Allergy/Immunology/Infectious</td>\n",
              "      <td>NaN</td>\n",
              "      <td>Individuals may have increased susceptibility ...</td>\n",
              "      <td>26121085</td>\n",
              "    </tr>\n",
              "    <tr>\n",
              "      <th>2</th>\n",
              "      <td>A4GALT</td>\n",
              "      <td>18149</td>\n",
              "      <td>53947</td>\n",
              "      <td>Blood group, P1PK system</td>\n",
              "      <td>BG</td>\n",
              "      <td>Pediatric</td>\n",
              "      <td>NaN</td>\n",
              "      <td>Hematologic</td>\n",
              "      <td>Hematologic</td>\n",
              "      <td>NaN</td>\n",
              "      <td>Variants associated with a blood group may be ...</td>\n",
              "      <td>10993874</td>\n",
              "    </tr>\n",
              "  </tbody>\n",
              "</table>\n",
              "</div>\n",
              "    <div class=\"colab-df-buttons\">\n",
              "\n",
              "  <div class=\"colab-df-container\">\n",
              "    <button class=\"colab-df-convert\" onclick=\"convertToInteractive('df-60316ec8-ab5b-4070-88b6-06b3e0e6264a')\"\n",
              "            title=\"Convert this dataframe to an interactive table.\"\n",
              "            style=\"display:none;\">\n",
              "\n",
              "  <svg xmlns=\"http://www.w3.org/2000/svg\" height=\"24px\" viewBox=\"0 -960 960 960\">\n",
              "    <path d=\"M120-120v-720h720v720H120Zm60-500h600v-160H180v160Zm220 220h160v-160H400v160Zm0 220h160v-160H400v160ZM180-400h160v-160H180v160Zm440 0h160v-160H620v160ZM180-180h160v-160H180v160Zm440 0h160v-160H620v160Z\"/>\n",
              "  </svg>\n",
              "    </button>\n",
              "\n",
              "  <style>\n",
              "    .colab-df-container {\n",
              "      display:flex;\n",
              "      gap: 12px;\n",
              "    }\n",
              "\n",
              "    .colab-df-convert {\n",
              "      background-color: #E8F0FE;\n",
              "      border: none;\n",
              "      border-radius: 50%;\n",
              "      cursor: pointer;\n",
              "      display: none;\n",
              "      fill: #1967D2;\n",
              "      height: 32px;\n",
              "      padding: 0 0 0 0;\n",
              "      width: 32px;\n",
              "    }\n",
              "\n",
              "    .colab-df-convert:hover {\n",
              "      background-color: #E2EBFA;\n",
              "      box-shadow: 0px 1px 2px rgba(60, 64, 67, 0.3), 0px 1px 3px 1px rgba(60, 64, 67, 0.15);\n",
              "      fill: #174EA6;\n",
              "    }\n",
              "\n",
              "    .colab-df-buttons div {\n",
              "      margin-bottom: 4px;\n",
              "    }\n",
              "\n",
              "    [theme=dark] .colab-df-convert {\n",
              "      background-color: #3B4455;\n",
              "      fill: #D2E3FC;\n",
              "    }\n",
              "\n",
              "    [theme=dark] .colab-df-convert:hover {\n",
              "      background-color: #434B5C;\n",
              "      box-shadow: 0px 1px 3px 1px rgba(0, 0, 0, 0.15);\n",
              "      filter: drop-shadow(0px 1px 2px rgba(0, 0, 0, 0.3));\n",
              "      fill: #FFFFFF;\n",
              "    }\n",
              "  </style>\n",
              "\n",
              "    <script>\n",
              "      const buttonEl =\n",
              "        document.querySelector('#df-60316ec8-ab5b-4070-88b6-06b3e0e6264a button.colab-df-convert');\n",
              "      buttonEl.style.display =\n",
              "        google.colab.kernel.accessAllowed ? 'block' : 'none';\n",
              "\n",
              "      async function convertToInteractive(key) {\n",
              "        const element = document.querySelector('#df-60316ec8-ab5b-4070-88b6-06b3e0e6264a');\n",
              "        const dataTable =\n",
              "          await google.colab.kernel.invokeFunction('convertToInteractive',\n",
              "                                                    [key], {});\n",
              "        if (!dataTable) return;\n",
              "\n",
              "        const docLinkHtml = 'Like what you see? Visit the ' +\n",
              "          '<a target=\"_blank\" href=https://colab.research.google.com/notebooks/data_table.ipynb>data table notebook</a>'\n",
              "          + ' to learn more about interactive tables.';\n",
              "        element.innerHTML = '';\n",
              "        dataTable['output_type'] = 'display_data';\n",
              "        await google.colab.output.renderOutput(dataTable, element);\n",
              "        const docLink = document.createElement('div');\n",
              "        docLink.innerHTML = docLinkHtml;\n",
              "        element.appendChild(docLink);\n",
              "      }\n",
              "    </script>\n",
              "  </div>\n",
              "\n",
              "\n",
              "<div id=\"df-e51b74ae-1177-4837-851a-e5ed55b2fd68\">\n",
              "  <button class=\"colab-df-quickchart\" onclick=\"quickchart('df-e51b74ae-1177-4837-851a-e5ed55b2fd68')\"\n",
              "            title=\"Suggest charts\"\n",
              "            style=\"display:none;\">\n",
              "\n",
              "<svg xmlns=\"http://www.w3.org/2000/svg\" height=\"24px\"viewBox=\"0 0 24 24\"\n",
              "     width=\"24px\">\n",
              "    <g>\n",
              "        <path d=\"M19 3H5c-1.1 0-2 .9-2 2v14c0 1.1.9 2 2 2h14c1.1 0 2-.9 2-2V5c0-1.1-.9-2-2-2zM9 17H7v-7h2v7zm4 0h-2V7h2v10zm4 0h-2v-4h2v4z\"/>\n",
              "    </g>\n",
              "</svg>\n",
              "  </button>\n",
              "\n",
              "<style>\n",
              "  .colab-df-quickchart {\n",
              "      --bg-color: #E8F0FE;\n",
              "      --fill-color: #1967D2;\n",
              "      --hover-bg-color: #E2EBFA;\n",
              "      --hover-fill-color: #174EA6;\n",
              "      --disabled-fill-color: #AAA;\n",
              "      --disabled-bg-color: #DDD;\n",
              "  }\n",
              "\n",
              "  [theme=dark] .colab-df-quickchart {\n",
              "      --bg-color: #3B4455;\n",
              "      --fill-color: #D2E3FC;\n",
              "      --hover-bg-color: #434B5C;\n",
              "      --hover-fill-color: #FFFFFF;\n",
              "      --disabled-bg-color: #3B4455;\n",
              "      --disabled-fill-color: #666;\n",
              "  }\n",
              "\n",
              "  .colab-df-quickchart {\n",
              "    background-color: var(--bg-color);\n",
              "    border: none;\n",
              "    border-radius: 50%;\n",
              "    cursor: pointer;\n",
              "    display: none;\n",
              "    fill: var(--fill-color);\n",
              "    height: 32px;\n",
              "    padding: 0;\n",
              "    width: 32px;\n",
              "  }\n",
              "\n",
              "  .colab-df-quickchart:hover {\n",
              "    background-color: var(--hover-bg-color);\n",
              "    box-shadow: 0 1px 2px rgba(60, 64, 67, 0.3), 0 1px 3px 1px rgba(60, 64, 67, 0.15);\n",
              "    fill: var(--button-hover-fill-color);\n",
              "  }\n",
              "\n",
              "  .colab-df-quickchart-complete:disabled,\n",
              "  .colab-df-quickchart-complete:disabled:hover {\n",
              "    background-color: var(--disabled-bg-color);\n",
              "    fill: var(--disabled-fill-color);\n",
              "    box-shadow: none;\n",
              "  }\n",
              "\n",
              "  .colab-df-spinner {\n",
              "    border: 2px solid var(--fill-color);\n",
              "    border-color: transparent;\n",
              "    border-bottom-color: var(--fill-color);\n",
              "    animation:\n",
              "      spin 1s steps(1) infinite;\n",
              "  }\n",
              "\n",
              "  @keyframes spin {\n",
              "    0% {\n",
              "      border-color: transparent;\n",
              "      border-bottom-color: var(--fill-color);\n",
              "      border-left-color: var(--fill-color);\n",
              "    }\n",
              "    20% {\n",
              "      border-color: transparent;\n",
              "      border-left-color: var(--fill-color);\n",
              "      border-top-color: var(--fill-color);\n",
              "    }\n",
              "    30% {\n",
              "      border-color: transparent;\n",
              "      border-left-color: var(--fill-color);\n",
              "      border-top-color: var(--fill-color);\n",
              "      border-right-color: var(--fill-color);\n",
              "    }\n",
              "    40% {\n",
              "      border-color: transparent;\n",
              "      border-right-color: var(--fill-color);\n",
              "      border-top-color: var(--fill-color);\n",
              "    }\n",
              "    60% {\n",
              "      border-color: transparent;\n",
              "      border-right-color: var(--fill-color);\n",
              "    }\n",
              "    80% {\n",
              "      border-color: transparent;\n",
              "      border-right-color: var(--fill-color);\n",
              "      border-bottom-color: var(--fill-color);\n",
              "    }\n",
              "    90% {\n",
              "      border-color: transparent;\n",
              "      border-bottom-color: var(--fill-color);\n",
              "    }\n",
              "  }\n",
              "</style>\n",
              "\n",
              "  <script>\n",
              "    async function quickchart(key) {\n",
              "      const quickchartButtonEl =\n",
              "        document.querySelector('#' + key + ' button');\n",
              "      quickchartButtonEl.disabled = true;  // To prevent multiple clicks.\n",
              "      quickchartButtonEl.classList.add('colab-df-spinner');\n",
              "      try {\n",
              "        const charts = await google.colab.kernel.invokeFunction(\n",
              "            'suggestCharts', [key], {});\n",
              "      } catch (error) {\n",
              "        console.error('Error during call to suggestCharts:', error);\n",
              "      }\n",
              "      quickchartButtonEl.classList.remove('colab-df-spinner');\n",
              "      quickchartButtonEl.classList.add('colab-df-quickchart-complete');\n",
              "    }\n",
              "    (() => {\n",
              "      let quickchartButtonEl =\n",
              "        document.querySelector('#df-e51b74ae-1177-4837-851a-e5ed55b2fd68 button');\n",
              "      quickchartButtonEl.style.display =\n",
              "        google.colab.kernel.accessAllowed ? 'block' : 'none';\n",
              "    })();\n",
              "  </script>\n",
              "</div>\n",
              "    </div>\n",
              "  </div>\n"
            ],
            "application/vnd.google.colaboratory.intrinsic+json": {
              "type": "dataframe",
              "variable_name": "CGD_data",
              "summary": "{\n  \"name\": \"CGD_data\",\n  \"rows\": 4680,\n  \"fields\": [\n    {\n      \"column\": \"#GENE\",\n      \"properties\": {\n        \"dtype\": \"string\",\n        \"num_unique_values\": 4680,\n        \"samples\": [\n          \"SLC2A10\",\n          \"ABHD16A\",\n          \"ITGB6\"\n        ],\n        \"semantic_type\": \"\",\n        \"description\": \"\"\n      }\n    },\n    {\n      \"column\": \"HGNC ID\",\n      \"properties\": {\n        \"dtype\": \"number\",\n        \"std\": 9118,\n        \"min\": 1,\n        \"max\": 55085,\n        \"num_unique_values\": 4680,\n        \"samples\": [\n          13444,\n          13921,\n          6161\n        ],\n        \"semantic_type\": \"\",\n        \"description\": \"\"\n      }\n    },\n    {\n      \"column\": \"ENTREZ GENE ID\",\n      \"properties\": {\n        \"dtype\": \"number\",\n        \"std\": 29839254,\n        \"min\": 2,\n        \"max\": 2000000000,\n        \"num_unique_values\": 4680,\n        \"samples\": [\n          81031,\n          7920,\n          3694\n        ],\n        \"semantic_type\": \"\",\n        \"description\": \"\"\n      }\n    },\n    {\n      \"column\": \"CONDITION\",\n      \"properties\": {\n        \"dtype\": \"string\",\n        \"num_unique_values\": 4628,\n        \"samples\": [\n          \"Noonan syndrome 1; LEOPARD syndrome 1\",\n          \"CYP2A6-related drug metabolism\",\n          \"Coronary artery disease, autosomal dominant 2\"\n        ],\n        \"semantic_type\": \"\",\n        \"description\": \"\"\n      }\n    },\n    {\n      \"column\": \"INHERITANCE\",\n      \"properties\": {\n        \"dtype\": \"category\",\n        \"num_unique_values\": 25,\n        \"samples\": [\n          \"Digenic\",\n          \"AD (with imprinting)\",\n          \"AD\"\n        ],\n        \"semantic_type\": \"\",\n        \"description\": \"\"\n      }\n    },\n    {\n      \"column\": \"AGE GROUP\",\n      \"properties\": {\n        \"dtype\": \"category\",\n        \"num_unique_values\": 31,\n        \"samples\": [\n          \"Pediatric (Lymphatic malformation 13); Adult (Aneurysm, intracranial berry, 12)\",\n          \"Adult (Colorectal cancer, hereditary nonpolyposis, type 1; Endometrial cancer; Muir-Torre syndrome)/Pediatric (Mismatch repair cancer syndrome)\",\n          \"Adult (Paragangliomas 5; Gastrointestinal stromal tumors); Pediatric (Cardiomyopathy, dilated, 1GG; Neurodegeneration with ataxia and late-onset optic atrophy; Leigh syndrome/Mitochondrial respiratory chain complex II deficiency)\"\n        ],\n        \"semantic_type\": \"\",\n        \"description\": \"\"\n      }\n    },\n    {\n      \"column\": \"ALLELIC CONDITIONS\",\n      \"properties\": {\n        \"dtype\": \"category\",\n        \"num_unique_values\": 396,\n        \"samples\": [\n          \"Allelic with Brain small vessel disease 2 (AD)\",\n          \"Allelic with Krabbe disease, atypical (AR); Combined saposin deficiency (AR); Gaucher disease, atypical, due to saposin C deficiency (AR); Metachromatic leukodystrophy due to saposin-b deficiency (AR)\",\n          \"Allelic with Amyotrophic lateral sclerosis 12 with or without frontotemporal dementia (AD/AR)\"\n        ],\n        \"semantic_type\": \"\",\n        \"description\": \"\"\n      }\n    },\n    {\n      \"column\": \"MANIFESTATION CATEGORIES\",\n      \"properties\": {\n        \"dtype\": \"category\",\n        \"num_unique_values\": 1117,\n        \"samples\": [\n          \"Cardiovascular; Craniofacial; Endocrine; Musculoskeletal; Neurologic\",\n          \"Biochemical; Hematologic; Neurologic\",\n          \"Craniofacial; Dental; Endocrine; Musculoskeletal; Neurologic\"\n        ],\n        \"semantic_type\": \"\",\n        \"description\": \"\"\n      }\n    },\n    {\n      \"column\": \"INTERVENTION CATEGORIES\",\n      \"properties\": {\n        \"dtype\": \"category\",\n        \"num_unique_values\": 273,\n        \"samples\": [\n          \"Hematologic; Oncologic\",\n          \"Dermatologic\",\n          \"Obstetric; Oncologic\"\n        ],\n        \"semantic_type\": \"\",\n        \"description\": \"\"\n      }\n    },\n    {\n      \"column\": \"COMMENTS\",\n      \"properties\": {\n        \"dtype\": \"category\",\n        \"num_unique_values\": 637,\n        \"samples\": [\n          \"Elevated histidine-rich glycoprotein (HRG) has also been described as associated with risk of thromboembolism\",\n          \"Renal transplantation has been described\",\n          \"Unlike hypobetalipoproteinemia due to variants in APOB, individuals with variants in ANGPTL3 do not appear to to have increased susceptibility to hepatic steatosis or gastrointestinal or cardiovascular manifestations compared to unaffected relatives; Heterozygous individuals may demonstrate laboratory-based manifestations (eg, lower plasma LDL and triglycerides)\"\n        ],\n        \"semantic_type\": \"\",\n        \"description\": \"\"\n      }\n    },\n    {\n      \"column\": \"INTERVENTION/RATIONALE\",\n      \"properties\": {\n        \"dtype\": \"category\",\n        \"num_unique_values\": 1903,\n        \"samples\": [\n          \"Levodopa can be beneficial in individuals with Parkinson disease\",\n          \"The condition may not be clinically relevant\",\n          \"Among other features, early recognition and treatment of hearing impairment may improve outcomes, including speech and language development\"\n        ],\n        \"semantic_type\": \"\",\n        \"description\": \"\"\n      }\n    },\n    {\n      \"column\": \"REFERENCES\",\n      \"properties\": {\n        \"dtype\": \"string\",\n        \"num_unique_values\": 4621,\n        \"samples\": [\n          \"22541560\",\n          \"22279524; 23035047; 25319849; 25500575; 26483087; 26494257; 27282546; 37344571\",\n          \"22693284\"\n        ],\n        \"semantic_type\": \"\",\n        \"description\": \"\"\n      }\n    }\n  ]\n}"
            }
          },
          "metadata": {},
          "execution_count": 62
        }
      ]
    },
    {
      "cell_type": "code",
      "source": [
        "!pip install biopython"
      ],
      "metadata": {
        "colab": {
          "base_uri": "https://localhost:8080/"
        },
        "id": "4aLJx3fOkTuQ",
        "outputId": "52c65e22-d147-4fb1-8d8c-00f1bcbfe190"
      },
      "execution_count": 51,
      "outputs": [
        {
          "output_type": "stream",
          "name": "stdout",
          "text": [
            "Collecting biopython\n",
            "  Downloading biopython-1.83-cp310-cp310-manylinux_2_17_x86_64.manylinux2014_x86_64.whl (3.1 MB)\n",
            "\u001b[2K     \u001b[90m━━━━━━━━━━━━━━━━━━━━━━━━━━━━━━━━━━━━━━━━\u001b[0m \u001b[32m3.1/3.1 MB\u001b[0m \u001b[31m19.5 MB/s\u001b[0m eta \u001b[36m0:00:00\u001b[0m\n",
            "\u001b[?25hRequirement already satisfied: numpy in /usr/local/lib/python3.10/dist-packages (from biopython) (1.25.2)\n",
            "Installing collected packages: biopython\n",
            "Successfully installed biopython-1.83\n"
          ]
        }
      ]
    },
    {
      "cell_type": "code",
      "source": [
        "# note: the next cell takes about 50 minutes to run"
      ],
      "metadata": {
        "id": "q32glV4R4RXg"
      },
      "execution_count": 87,
      "outputs": []
    },
    {
      "cell_type": "code",
      "source": [
        "import pandas as pd\n",
        "from Bio import Entrez\n",
        "\n",
        "file_path = \"/content/drive/MyDrive/Mode of Inheritance Task/Mode of Inheritance Task files/databases/CGD.txt.gz\"\n",
        "\n",
        "CGD_data = pd.read_csv(file_path, delimiter='\\t')\n",
        "\n",
        "# Entrez email address (required by NCBI)\n",
        "Entrez.email = \"alihajisadeghian250@gmail.com\"\n",
        "\n",
        "start_pos_list = []\n",
        "end_pos_list = []\n",
        "\n",
        "import time\n",
        "\n",
        "# Function to retrieve gene information with retry mechanism\n",
        "def retrieve_gene_info_with_retry(entrez_gene_id, max_retries=5, delay=1):\n",
        "    num_retries = 0\n",
        "    while num_retries < max_retries:\n",
        "        try:\n",
        "            handle = Entrez.efetch(db=\"gene\", id=entrez_gene_id, rettype=\"gb\", retmode=\"text\")\n",
        "            gene_record = handle.read()\n",
        "            handle.close()\n",
        "            return gene_record\n",
        "        except Exception as e:\n",
        "            print(\"Error retrieving gene info for Entrez Gene ID:\", entrez_gene_id)\n",
        "            print(\"Error message:\", e)\n",
        "            print(\"Retrying...\")\n",
        "            num_retries += 1\n",
        "            time.sleep(delay)\n",
        "    return None\n",
        "\n",
        "# Iterate over each row in CGD_data DataFrame\n",
        "for index, row in CGD_data.iterrows():\n",
        "    # Retrieve the ENTREZ GENE ID from the current row\n",
        "    entrez_gene_id = str(row['ENTREZ GENE ID'])\n",
        "\n",
        "    # Query Entrez Gene database to retrieve gene information with retry mechanism\n",
        "    gene_record = retrieve_gene_info_with_retry(entrez_gene_id)\n",
        "\n",
        "    # Check if gene_record is None (indicating an error occurred)\n",
        "    if gene_record is None:\n",
        "        # Append None values to start and end positions lists\n",
        "        start_pos_list.append(None)\n",
        "        end_pos_list.append(None)\n",
        "        continue\n",
        "\n",
        "    # Check if the gene is located on chromosome 17\n",
        "    if \"chromosome 17\" in gene_record:\n",
        "        # Extract start and end positions\n",
        "        start_pos = int(gene_record.split('\\n')[6].split('(')[1].split('..')[0])\n",
        "        end_pos = int(gene_record.split('\\n')[6].split('(')[1].split('..')[1].split(',')[0].split(')')[0])\n",
        "    else:\n",
        "        start_pos = None\n",
        "        end_pos = None\n",
        "\n",
        "    # Append start and end positions to lists\n",
        "    start_pos_list.append(start_pos)\n",
        "    end_pos_list.append(end_pos)\n",
        "\n",
        "# Add new columns to CGD_data DataFrame\n",
        "CGD_data['start_pos'] = start_pos_list\n",
        "CGD_data['end_pos'] = end_pos_list\n",
        "\n",
        "# Filter desired columns\n",
        "filtered_CGD_data = CGD_data[['#GENE', 'ENTREZ GENE ID', 'INHERITANCE', 'start_pos', 'end_pos']]\n",
        "\n",
        "# Save the filtered data to a new CSV file\n",
        "filtered_file_path = \"/content/drive/MyDrive/Mode of Inheritance Task/Mode of Inheritance Task files/preprocessed databases/filtered_CGD_data.csv\"\n",
        "filtered_CGD_data.to_csv(filtered_file_path, index=False)\n"
      ],
      "metadata": {
        "colab": {
          "base_uri": "https://localhost:8080/"
        },
        "id": "Z9LVQGbUmoIM",
        "outputId": "de2e76ba-eb43-4907-a1ed-855cccdc1b0d"
      },
      "execution_count": 86,
      "outputs": [
        {
          "output_type": "stream",
          "name": "stdout",
          "text": [
            "Error retrieving gene info for Entrez Gene ID: 80185\n",
            "Error message: HTTP Error 400: Bad Request\n",
            "Retrying...\n",
            "Error retrieving gene info for Entrez Gene ID: 347688\n",
            "Error message: HTTP Error 400: Bad Request\n",
            "Retrying...\n",
            "Error retrieving gene info for Entrez Gene ID: 89910\n",
            "Error message: HTTP Error 400: Bad Request\n",
            "Retrying...\n",
            "Error retrieving gene info for Entrez Gene ID: 197131\n",
            "Error message: HTTP Error 400: Bad Request\n",
            "Retrying...\n",
            "Error retrieving gene info for Entrez Gene ID: 7399\n",
            "Error message: HTTP Error 400: Bad Request\n",
            "Retrying...\n",
            "Error retrieving gene info for Entrez Gene ID: 7716\n",
            "Error message: HTTP Error 400: Bad Request\n",
            "Retrying...\n",
            "Error retrieving gene info for Entrez Gene ID: 7431\n",
            "Error message: HTTP Error 400: Bad Request\n",
            "Retrying...\n",
            "Error retrieving gene info for Entrez Gene ID: 79001\n",
            "Error message: HTTP Error 400: Bad Request\n",
            "Retrying...\n",
            "Error retrieving gene info for Entrez Gene ID: 23325\n",
            "Error message: HTTP Error 400: Bad Request\n",
            "Retrying...\n",
            "Error retrieving gene info for Entrez Gene ID: 23001\n",
            "Error message: HTTP Error 400: Bad Request\n",
            "Retrying...\n",
            "Error retrieving gene info for Entrez Gene ID: 11152\n",
            "Error message: HTTP Error 400: Bad Request\n",
            "Retrying...\n",
            "Error retrieving gene info for Entrez Gene ID: 51067\n",
            "Error message: HTTP Error 400: Bad Request\n",
            "Retrying...\n",
            "Error retrieving gene info for Entrez Gene ID: 55596\n",
            "Error message: HTTP Error 400: Bad Request\n",
            "Retrying...\n"
          ]
        }
      ]
    },
    {
      "cell_type": "code",
      "source": [
        "import pandas as pd\n",
        "\n",
        "# Load the filtered CGD data from the CSV file\n",
        "filtered_file_path = \"/content/drive/MyDrive/Mode of Inheritance Task/Mode of Inheritance Task files/preprocessed databases/filtered_CGD_data.csv\"\n",
        "filtered_CGD_data = pd.read_csv(filtered_file_path)\n",
        "\n",
        "# Filter rows where both 'start_pos' and 'end_pos' columns have values\n",
        "filtered_data_with_positions = filtered_CGD_data.dropna(subset=['start_pos', 'end_pos'])\n",
        "\n",
        "# Save the filtered data to a new CSV file\n",
        "filtered_data_with_positions.to_csv(\"/content/drive/MyDrive/Mode of Inheritance Task/Mode of Inheritance Task files/preprocessed databases/filtered_CGD_data_with_positions.csv\", index=False)\n",
        "\n",
        "print(\"Filtered CGD data with positions saved.\")\n"
      ],
      "metadata": {
        "colab": {
          "base_uri": "https://localhost:8080/"
        },
        "id": "IZKUe1ky5R2W",
        "outputId": "bde90b4a-8788-467a-9ebb-6621325a9670"
      },
      "execution_count": 88,
      "outputs": [
        {
          "output_type": "stream",
          "name": "stdout",
          "text": [
            "Filtered CGD data with positions saved.\n"
          ]
        }
      ]
    },
    {
      "cell_type": "code",
      "source": [
        "# temp\n",
        "vcf_directory = '/content/drive/MyDrive/Mode of Inheritance Task/Mode of Inheritance Task files/vcf_files'\n",
        "ID_list = []\n",
        "pos_list = []\n",
        "for filename in os.listdir(vcf_directory):\n",
        "  vcf_path = os.path.join(vcf_directory, filename)\n",
        "  vcf_file = pysam.VariantFile(vcf_path)\n",
        "  for variant in vcf_file:\n",
        "    if variant.pos == 4898816:\n",
        "      print(variant)\n",
        "  vcf_file.close()"
      ],
      "metadata": {
        "colab": {
          "base_uri": "https://localhost:8080/"
        },
        "id": "fiqyDpzBWnbx",
        "outputId": "f4b5af53-cb32-4732-ad96-5514d27ba4fb"
      },
      "execution_count": null,
      "outputs": [
        {
          "output_type": "stream",
          "name": "stdout",
          "text": [
            "chr17\t4898816\tchr17_4898816_C_G\tC\tG\t2335.6\t.\tAC=1;AF=0.5;AN=2;BaseQRankSum=-0.09;DP=226;ExcessHet=3.0103;FS=1.022;MLEAC=1;MLEAF=0.5;MQ=60;MQRankSum=0;QD=10.33;ReadPosRankSum=1.425;SOR=0.777\tGT:AD:DP:GQ:PL\t0/1:117,109:226:99:2343,0,2512\n",
            "\n",
            "chr17\t4898816\tchr17_4898816_C_G\tC\tG\t1647.6\t.\tAC=1;AF=0.5;AN=2;BaseQRankSum=-1.012;DP=147;ExcessHet=3.0103;FS=0;MLEAC=1;MLEAF=0.5;MQ=60;MQRankSum=0;QD=11.21;ReadPosRankSum=0.455;SOR=0.719\tGT:AD:DP:GQ:PL\t0/1:73,74:147:99:1655,0,1696\n",
            "\n"
          ]
        }
      ]
    },
    {
      "cell_type": "code",
      "source": [
        "# step 1 : save ID and pos of all varients in a list\n",
        "vcf_directory = '/content/drive/MyDrive/Mode of Inheritance Task/Mode of Inheritance Task files/vcf_files'\n",
        "ID_list = []\n",
        "pos_list = []\n",
        "for filename in os.listdir(vcf_directory):\n",
        "  vcf_path = os.path.join(vcf_directory, filename)\n",
        "  vcf_file = pysam.VariantFile(vcf_path)\n",
        "  for variant in vcf_file:\n",
        "    ID_list.append(variant.id)\n",
        "    pos_list.append(variant.pos)\n",
        "  vcf_file.close()\n"
      ],
      "metadata": {
        "id": "GObt6KYsITuJ"
      },
      "execution_count": 5,
      "outputs": []
    },
    {
      "cell_type": "code",
      "source": [
        "# step 2 : create a csv file temp_output.csv\n",
        "\n",
        "csv_data = {'ID': ID_list,\n",
        "            'pos': pos_list,\n",
        "\n",
        "            'symbol_OMIM': [None for i in range(len(ID_list))],\n",
        "            'MOI_OMIM': [None for i in range(len(ID_list))],\n",
        "\n",
        "            'symbol_CGD': [None for i in range(len(ID_list))],\n",
        "            'MOI_CGD': [None for i in range(len(ID_list))],\n",
        "\n",
        "            'symbol_ClinGen': [None for i in range(len(ID_list))],\n",
        "            'MOI_ClinGen': [None for i in range(len(ID_list))],\n",
        "\n",
        "            'symbol_gene2phenotype': [None for i in range(len(ID_list))],\n",
        "            'MOI_gene2phenotype': [None for i in range(len(ID_list))],\n",
        "\n",
        "            'symbol_GenCC': [None for i in range(len(ID_list))],\n",
        "            'MOI_GenCC': [None for i in range(len(ID_list))],\n",
        "\n",
        "            'P_AD': [None for i in range(len(ID_list))]}\n",
        "\n",
        "df = pd.DataFrame(csv_data)\n",
        "\n",
        "df.to_csv('/content/drive/MyDrive/Mode of Inheritance Task/Mode of Inheritance Task files/temp_output.csv', index=False)"
      ],
      "metadata": {
        "id": "PtvlX-A1uPqR"
      },
      "execution_count": null,
      "outputs": []
    },
    {
      "cell_type": "code",
      "source": [
        "len(pos_list)"
      ],
      "metadata": {
        "colab": {
          "base_uri": "https://localhost:8080/"
        },
        "id": "yQetBgKawC14",
        "outputId": "6c59c2c5-ccbc-4d26-8577-a36012ba60fd"
      },
      "execution_count": 6,
      "outputs": [
        {
          "output_type": "execute_result",
          "data": {
            "text/plain": [
              "22554"
            ]
          },
          "metadata": {},
          "execution_count": 6
        }
      ]
    },
    {
      "cell_type": "code",
      "source": [
        "gene_interval_list = [(omim_data['Genomic Position Start'][i], omim_data['Genomic Position End'][i]) for i in range(len(omim_data))]"
      ],
      "metadata": {
        "id": "YZtWeceohDg4"
      },
      "execution_count": 9,
      "outputs": []
    },
    {
      "cell_type": "code",
      "source": [
        "len(gene_interval_list)"
      ],
      "metadata": {
        "colab": {
          "base_uri": "https://localhost:8080/"
        },
        "id": "6uMc0psGIzpR",
        "outputId": "179baeca-49ac-40f1-a6ce-ac03edee3873"
      },
      "execution_count": 10,
      "outputs": [
        {
          "output_type": "execute_result",
          "data": {
            "text/plain": [
              "1067"
            ]
          },
          "metadata": {},
          "execution_count": 10
        }
      ]
    },
    {
      "cell_type": "code",
      "source": [
        "len(pos_list)"
      ],
      "metadata": {
        "colab": {
          "base_uri": "https://localhost:8080/"
        },
        "id": "u3ntYi26K5Nz",
        "outputId": "8b53fa2f-04a6-4803-c688-ef379d13ae8c"
      },
      "execution_count": 11,
      "outputs": [
        {
          "output_type": "execute_result",
          "data": {
            "text/plain": [
              "22554"
            ]
          },
          "metadata": {},
          "execution_count": 11
        }
      ]
    },
    {
      "cell_type": "code",
      "source": [
        "df = pd.read_csv('/content/drive/MyDrive/Mode of Inheritance Task/Mode of Inheritance Task files/temp_output_updated.csv')"
      ],
      "metadata": {
        "id": "TQVECf9RjkET"
      },
      "execution_count": null,
      "outputs": []
    },
    {
      "cell_type": "code",
      "source": [
        "df[df['pos'] == 4898816]"
      ],
      "metadata": {
        "colab": {
          "base_uri": "https://localhost:8080/",
          "height": 132
        },
        "id": "xkZk1xrujse3",
        "outputId": "509f98a5-4c47-4c1a-9e80-0d3a0bbdd493"
      },
      "execution_count": null,
      "outputs": [
        {
          "output_type": "execute_result",
          "data": {
            "text/plain": [
              "                      ID      pos  symbol_OMIM MOI_OMIM  symbol_CGD  MOI_CGD  \\\n",
              "10173  chr17_4898816_C_G  4898816          NaN    AD/AR         NaN      NaN   \n",
              "16964  chr17_4898816_C_G  4898816          NaN    AD/AR         NaN      NaN   \n",
              "\n",
              "       symbol_ClinGen  MOI_ClinGen  symbol_gene2phenotype  MOI_gene2phenotype  \\\n",
              "10173             NaN          NaN                    NaN                 NaN   \n",
              "16964             NaN          NaN                    NaN                 NaN   \n",
              "\n",
              "       symbol_GenCC  MOI_GenCC  P_AD  \n",
              "10173           NaN        NaN   NaN  \n",
              "16964           NaN        NaN   NaN  "
            ],
            "text/html": [
              "\n",
              "  <div id=\"df-12423656-4a14-4947-a203-946bf44e36ed\" class=\"colab-df-container\">\n",
              "    <div>\n",
              "<style scoped>\n",
              "    .dataframe tbody tr th:only-of-type {\n",
              "        vertical-align: middle;\n",
              "    }\n",
              "\n",
              "    .dataframe tbody tr th {\n",
              "        vertical-align: top;\n",
              "    }\n",
              "\n",
              "    .dataframe thead th {\n",
              "        text-align: right;\n",
              "    }\n",
              "</style>\n",
              "<table border=\"1\" class=\"dataframe\">\n",
              "  <thead>\n",
              "    <tr style=\"text-align: right;\">\n",
              "      <th></th>\n",
              "      <th>ID</th>\n",
              "      <th>pos</th>\n",
              "      <th>symbol_OMIM</th>\n",
              "      <th>MOI_OMIM</th>\n",
              "      <th>symbol_CGD</th>\n",
              "      <th>MOI_CGD</th>\n",
              "      <th>symbol_ClinGen</th>\n",
              "      <th>MOI_ClinGen</th>\n",
              "      <th>symbol_gene2phenotype</th>\n",
              "      <th>MOI_gene2phenotype</th>\n",
              "      <th>symbol_GenCC</th>\n",
              "      <th>MOI_GenCC</th>\n",
              "      <th>P_AD</th>\n",
              "    </tr>\n",
              "  </thead>\n",
              "  <tbody>\n",
              "    <tr>\n",
              "      <th>10173</th>\n",
              "      <td>chr17_4898816_C_G</td>\n",
              "      <td>4898816</td>\n",
              "      <td>NaN</td>\n",
              "      <td>AD/AR</td>\n",
              "      <td>NaN</td>\n",
              "      <td>NaN</td>\n",
              "      <td>NaN</td>\n",
              "      <td>NaN</td>\n",
              "      <td>NaN</td>\n",
              "      <td>NaN</td>\n",
              "      <td>NaN</td>\n",
              "      <td>NaN</td>\n",
              "      <td>NaN</td>\n",
              "    </tr>\n",
              "    <tr>\n",
              "      <th>16964</th>\n",
              "      <td>chr17_4898816_C_G</td>\n",
              "      <td>4898816</td>\n",
              "      <td>NaN</td>\n",
              "      <td>AD/AR</td>\n",
              "      <td>NaN</td>\n",
              "      <td>NaN</td>\n",
              "      <td>NaN</td>\n",
              "      <td>NaN</td>\n",
              "      <td>NaN</td>\n",
              "      <td>NaN</td>\n",
              "      <td>NaN</td>\n",
              "      <td>NaN</td>\n",
              "      <td>NaN</td>\n",
              "    </tr>\n",
              "  </tbody>\n",
              "</table>\n",
              "</div>\n",
              "    <div class=\"colab-df-buttons\">\n",
              "\n",
              "  <div class=\"colab-df-container\">\n",
              "    <button class=\"colab-df-convert\" onclick=\"convertToInteractive('df-12423656-4a14-4947-a203-946bf44e36ed')\"\n",
              "            title=\"Convert this dataframe to an interactive table.\"\n",
              "            style=\"display:none;\">\n",
              "\n",
              "  <svg xmlns=\"http://www.w3.org/2000/svg\" height=\"24px\" viewBox=\"0 -960 960 960\">\n",
              "    <path d=\"M120-120v-720h720v720H120Zm60-500h600v-160H180v160Zm220 220h160v-160H400v160Zm0 220h160v-160H400v160ZM180-400h160v-160H180v160Zm440 0h160v-160H620v160ZM180-180h160v-160H180v160Zm440 0h160v-160H620v160Z\"/>\n",
              "  </svg>\n",
              "    </button>\n",
              "\n",
              "  <style>\n",
              "    .colab-df-container {\n",
              "      display:flex;\n",
              "      gap: 12px;\n",
              "    }\n",
              "\n",
              "    .colab-df-convert {\n",
              "      background-color: #E8F0FE;\n",
              "      border: none;\n",
              "      border-radius: 50%;\n",
              "      cursor: pointer;\n",
              "      display: none;\n",
              "      fill: #1967D2;\n",
              "      height: 32px;\n",
              "      padding: 0 0 0 0;\n",
              "      width: 32px;\n",
              "    }\n",
              "\n",
              "    .colab-df-convert:hover {\n",
              "      background-color: #E2EBFA;\n",
              "      box-shadow: 0px 1px 2px rgba(60, 64, 67, 0.3), 0px 1px 3px 1px rgba(60, 64, 67, 0.15);\n",
              "      fill: #174EA6;\n",
              "    }\n",
              "\n",
              "    .colab-df-buttons div {\n",
              "      margin-bottom: 4px;\n",
              "    }\n",
              "\n",
              "    [theme=dark] .colab-df-convert {\n",
              "      background-color: #3B4455;\n",
              "      fill: #D2E3FC;\n",
              "    }\n",
              "\n",
              "    [theme=dark] .colab-df-convert:hover {\n",
              "      background-color: #434B5C;\n",
              "      box-shadow: 0px 1px 3px 1px rgba(0, 0, 0, 0.15);\n",
              "      filter: drop-shadow(0px 1px 2px rgba(0, 0, 0, 0.3));\n",
              "      fill: #FFFFFF;\n",
              "    }\n",
              "  </style>\n",
              "\n",
              "    <script>\n",
              "      const buttonEl =\n",
              "        document.querySelector('#df-12423656-4a14-4947-a203-946bf44e36ed button.colab-df-convert');\n",
              "      buttonEl.style.display =\n",
              "        google.colab.kernel.accessAllowed ? 'block' : 'none';\n",
              "\n",
              "      async function convertToInteractive(key) {\n",
              "        const element = document.querySelector('#df-12423656-4a14-4947-a203-946bf44e36ed');\n",
              "        const dataTable =\n",
              "          await google.colab.kernel.invokeFunction('convertToInteractive',\n",
              "                                                    [key], {});\n",
              "        if (!dataTable) return;\n",
              "\n",
              "        const docLinkHtml = 'Like what you see? Visit the ' +\n",
              "          '<a target=\"_blank\" href=https://colab.research.google.com/notebooks/data_table.ipynb>data table notebook</a>'\n",
              "          + ' to learn more about interactive tables.';\n",
              "        element.innerHTML = '';\n",
              "        dataTable['output_type'] = 'display_data';\n",
              "        await google.colab.output.renderOutput(dataTable, element);\n",
              "        const docLink = document.createElement('div');\n",
              "        docLink.innerHTML = docLinkHtml;\n",
              "        element.appendChild(docLink);\n",
              "      }\n",
              "    </script>\n",
              "  </div>\n",
              "\n",
              "\n",
              "<div id=\"df-9519830a-a3d4-46ea-8a3e-60b07b9665a4\">\n",
              "  <button class=\"colab-df-quickchart\" onclick=\"quickchart('df-9519830a-a3d4-46ea-8a3e-60b07b9665a4')\"\n",
              "            title=\"Suggest charts\"\n",
              "            style=\"display:none;\">\n",
              "\n",
              "<svg xmlns=\"http://www.w3.org/2000/svg\" height=\"24px\"viewBox=\"0 0 24 24\"\n",
              "     width=\"24px\">\n",
              "    <g>\n",
              "        <path d=\"M19 3H5c-1.1 0-2 .9-2 2v14c0 1.1.9 2 2 2h14c1.1 0 2-.9 2-2V5c0-1.1-.9-2-2-2zM9 17H7v-7h2v7zm4 0h-2V7h2v10zm4 0h-2v-4h2v4z\"/>\n",
              "    </g>\n",
              "</svg>\n",
              "  </button>\n",
              "\n",
              "<style>\n",
              "  .colab-df-quickchart {\n",
              "      --bg-color: #E8F0FE;\n",
              "      --fill-color: #1967D2;\n",
              "      --hover-bg-color: #E2EBFA;\n",
              "      --hover-fill-color: #174EA6;\n",
              "      --disabled-fill-color: #AAA;\n",
              "      --disabled-bg-color: #DDD;\n",
              "  }\n",
              "\n",
              "  [theme=dark] .colab-df-quickchart {\n",
              "      --bg-color: #3B4455;\n",
              "      --fill-color: #D2E3FC;\n",
              "      --hover-bg-color: #434B5C;\n",
              "      --hover-fill-color: #FFFFFF;\n",
              "      --disabled-bg-color: #3B4455;\n",
              "      --disabled-fill-color: #666;\n",
              "  }\n",
              "\n",
              "  .colab-df-quickchart {\n",
              "    background-color: var(--bg-color);\n",
              "    border: none;\n",
              "    border-radius: 50%;\n",
              "    cursor: pointer;\n",
              "    display: none;\n",
              "    fill: var(--fill-color);\n",
              "    height: 32px;\n",
              "    padding: 0;\n",
              "    width: 32px;\n",
              "  }\n",
              "\n",
              "  .colab-df-quickchart:hover {\n",
              "    background-color: var(--hover-bg-color);\n",
              "    box-shadow: 0 1px 2px rgba(60, 64, 67, 0.3), 0 1px 3px 1px rgba(60, 64, 67, 0.15);\n",
              "    fill: var(--button-hover-fill-color);\n",
              "  }\n",
              "\n",
              "  .colab-df-quickchart-complete:disabled,\n",
              "  .colab-df-quickchart-complete:disabled:hover {\n",
              "    background-color: var(--disabled-bg-color);\n",
              "    fill: var(--disabled-fill-color);\n",
              "    box-shadow: none;\n",
              "  }\n",
              "\n",
              "  .colab-df-spinner {\n",
              "    border: 2px solid var(--fill-color);\n",
              "    border-color: transparent;\n",
              "    border-bottom-color: var(--fill-color);\n",
              "    animation:\n",
              "      spin 1s steps(1) infinite;\n",
              "  }\n",
              "\n",
              "  @keyframes spin {\n",
              "    0% {\n",
              "      border-color: transparent;\n",
              "      border-bottom-color: var(--fill-color);\n",
              "      border-left-color: var(--fill-color);\n",
              "    }\n",
              "    20% {\n",
              "      border-color: transparent;\n",
              "      border-left-color: var(--fill-color);\n",
              "      border-top-color: var(--fill-color);\n",
              "    }\n",
              "    30% {\n",
              "      border-color: transparent;\n",
              "      border-left-color: var(--fill-color);\n",
              "      border-top-color: var(--fill-color);\n",
              "      border-right-color: var(--fill-color);\n",
              "    }\n",
              "    40% {\n",
              "      border-color: transparent;\n",
              "      border-right-color: var(--fill-color);\n",
              "      border-top-color: var(--fill-color);\n",
              "    }\n",
              "    60% {\n",
              "      border-color: transparent;\n",
              "      border-right-color: var(--fill-color);\n",
              "    }\n",
              "    80% {\n",
              "      border-color: transparent;\n",
              "      border-right-color: var(--fill-color);\n",
              "      border-bottom-color: var(--fill-color);\n",
              "    }\n",
              "    90% {\n",
              "      border-color: transparent;\n",
              "      border-bottom-color: var(--fill-color);\n",
              "    }\n",
              "  }\n",
              "</style>\n",
              "\n",
              "  <script>\n",
              "    async function quickchart(key) {\n",
              "      const quickchartButtonEl =\n",
              "        document.querySelector('#' + key + ' button');\n",
              "      quickchartButtonEl.disabled = true;  // To prevent multiple clicks.\n",
              "      quickchartButtonEl.classList.add('colab-df-spinner');\n",
              "      try {\n",
              "        const charts = await google.colab.kernel.invokeFunction(\n",
              "            'suggestCharts', [key], {});\n",
              "      } catch (error) {\n",
              "        console.error('Error during call to suggestCharts:', error);\n",
              "      }\n",
              "      quickchartButtonEl.classList.remove('colab-df-spinner');\n",
              "      quickchartButtonEl.classList.add('colab-df-quickchart-complete');\n",
              "    }\n",
              "    (() => {\n",
              "      let quickchartButtonEl =\n",
              "        document.querySelector('#df-9519830a-a3d4-46ea-8a3e-60b07b9665a4 button');\n",
              "      quickchartButtonEl.style.display =\n",
              "        google.colab.kernel.accessAllowed ? 'block' : 'none';\n",
              "    })();\n",
              "  </script>\n",
              "</div>\n",
              "    </div>\n",
              "  </div>\n"
            ],
            "application/vnd.google.colaboratory.intrinsic+json": {
              "type": "dataframe",
              "summary": "{\n  \"name\": \"df[df['pos'] == 4898816]\",\n  \"rows\": 2,\n  \"fields\": [\n    {\n      \"column\": \"ID\",\n      \"properties\": {\n        \"dtype\": \"string\",\n        \"num_unique_values\": 1,\n        \"samples\": [\n          \"chr17_4898816_C_G\"\n        ],\n        \"semantic_type\": \"\",\n        \"description\": \"\"\n      }\n    },\n    {\n      \"column\": \"pos\",\n      \"properties\": {\n        \"dtype\": \"number\",\n        \"std\": 0,\n        \"min\": 4898816,\n        \"max\": 4898816,\n        \"num_unique_values\": 1,\n        \"samples\": [\n          4898816\n        ],\n        \"semantic_type\": \"\",\n        \"description\": \"\"\n      }\n    },\n    {\n      \"column\": \"symbol_OMIM\",\n      \"properties\": {\n        \"dtype\": \"number\",\n        \"std\": null,\n        \"min\": null,\n        \"max\": null,\n        \"num_unique_values\": 0,\n        \"samples\": [],\n        \"semantic_type\": \"\",\n        \"description\": \"\"\n      }\n    },\n    {\n      \"column\": \"MOI_OMIM\",\n      \"properties\": {\n        \"dtype\": \"string\",\n        \"num_unique_values\": 1,\n        \"samples\": [],\n        \"semantic_type\": \"\",\n        \"description\": \"\"\n      }\n    },\n    {\n      \"column\": \"symbol_CGD\",\n      \"properties\": {\n        \"dtype\": \"number\",\n        \"std\": null,\n        \"min\": null,\n        \"max\": null,\n        \"num_unique_values\": 0,\n        \"samples\": [],\n        \"semantic_type\": \"\",\n        \"description\": \"\"\n      }\n    },\n    {\n      \"column\": \"MOI_CGD\",\n      \"properties\": {\n        \"dtype\": \"number\",\n        \"std\": null,\n        \"min\": null,\n        \"max\": null,\n        \"num_unique_values\": 0,\n        \"samples\": [],\n        \"semantic_type\": \"\",\n        \"description\": \"\"\n      }\n    },\n    {\n      \"column\": \"symbol_ClinGen\",\n      \"properties\": {\n        \"dtype\": \"number\",\n        \"std\": null,\n        \"min\": null,\n        \"max\": null,\n        \"num_unique_values\": 0,\n        \"samples\": [],\n        \"semantic_type\": \"\",\n        \"description\": \"\"\n      }\n    },\n    {\n      \"column\": \"MOI_ClinGen\",\n      \"properties\": {\n        \"dtype\": \"number\",\n        \"std\": null,\n        \"min\": null,\n        \"max\": null,\n        \"num_unique_values\": 0,\n        \"samples\": [],\n        \"semantic_type\": \"\",\n        \"description\": \"\"\n      }\n    },\n    {\n      \"column\": \"symbol_gene2phenotype\",\n      \"properties\": {\n        \"dtype\": \"number\",\n        \"std\": null,\n        \"min\": null,\n        \"max\": null,\n        \"num_unique_values\": 0,\n        \"samples\": [],\n        \"semantic_type\": \"\",\n        \"description\": \"\"\n      }\n    },\n    {\n      \"column\": \"MOI_gene2phenotype\",\n      \"properties\": {\n        \"dtype\": \"number\",\n        \"std\": null,\n        \"min\": null,\n        \"max\": null,\n        \"num_unique_values\": 0,\n        \"samples\": [],\n        \"semantic_type\": \"\",\n        \"description\": \"\"\n      }\n    },\n    {\n      \"column\": \"symbol_GenCC\",\n      \"properties\": {\n        \"dtype\": \"number\",\n        \"std\": null,\n        \"min\": null,\n        \"max\": null,\n        \"num_unique_values\": 0,\n        \"samples\": [],\n        \"semantic_type\": \"\",\n        \"description\": \"\"\n      }\n    },\n    {\n      \"column\": \"MOI_GenCC\",\n      \"properties\": {\n        \"dtype\": \"number\",\n        \"std\": null,\n        \"min\": null,\n        \"max\": null,\n        \"num_unique_values\": 0,\n        \"samples\": [],\n        \"semantic_type\": \"\",\n        \"description\": \"\"\n      }\n    },\n    {\n      \"column\": \"P_AD\",\n      \"properties\": {\n        \"dtype\": \"number\",\n        \"std\": null,\n        \"min\": null,\n        \"max\": null,\n        \"num_unique_values\": 0,\n        \"samples\": [],\n        \"semantic_type\": \"\",\n        \"description\": \"\"\n      }\n    }\n  ]\n}"
            }
          },
          "metadata": {},
          "execution_count": 141
        }
      ]
    },
    {
      "cell_type": "code",
      "source": [
        "indexes = [index for index, value in enumerate(pos_list) if value == 4898816]\n",
        "print(indexes)"
      ],
      "metadata": {
        "colab": {
          "base_uri": "https://localhost:8080/"
        },
        "id": "GVMLV1Aoiljz",
        "outputId": "3141acc5-efb5-41f3-9ed8-4bcd6cfb02ac"
      },
      "execution_count": null,
      "outputs": [
        {
          "output_type": "stream",
          "name": "stdout",
          "text": [
            "[10173, 16964]\n"
          ]
        }
      ]
    },
    {
      "cell_type": "code",
      "source": [
        "len(set(pos_list))"
      ],
      "metadata": {
        "colab": {
          "base_uri": "https://localhost:8080/"
        },
        "id": "uyYAA4BBiKE6",
        "outputId": "e648f742-41ed-4616-dc74-ba598e158535"
      },
      "execution_count": null,
      "outputs": [
        {
          "output_type": "execute_result",
          "data": {
            "text/plain": [
              "5737"
            ]
          },
          "metadata": {},
          "execution_count": 129
        }
      ]
    },
    {
      "cell_type": "code",
      "source": [
        "pos_index_dict = {}\n",
        "for pos in pos_list:\n",
        "  index_list = []\n",
        "  for i ,(start, end) in enumerate(gene_interval_list):\n",
        "    if start <= pos <= end:\n",
        "      index_list.append(i)\n",
        "  pos_index_dict[pos] = index_list"
      ],
      "metadata": {
        "id": "5LN2S2wUixcI"
      },
      "execution_count": 12,
      "outputs": []
    },
    {
      "cell_type": "code",
      "source": [
        "len(pos_index_dict)"
      ],
      "metadata": {
        "colab": {
          "base_uri": "https://localhost:8080/"
        },
        "id": "osm-BwZcXZUi",
        "outputId": "306706e2-37b8-47fe-cc74-a17c9539db2a"
      },
      "execution_count": 13,
      "outputs": [
        {
          "output_type": "execute_result",
          "data": {
            "text/plain": [
              "5737"
            ]
          },
          "metadata": {},
          "execution_count": 13
        }
      ]
    },
    {
      "cell_type": "code",
      "source": [
        "count = 0\n",
        "for pos in pos_index_dict.keys():\n",
        "  if count <= 10:\n",
        "    print(pos,': ',pos_index_dict[pos])\n",
        "    count += 1"
      ],
      "metadata": {
        "colab": {
          "base_uri": "https://localhost:8080/"
        },
        "id": "Nv6RbfdojrMJ",
        "outputId": "4c7753af-c8fd-4afe-e40f-80cdad68e74d"
      },
      "execution_count": 14,
      "outputs": [
        {
          "output_type": "stream",
          "name": "stdout",
          "text": [
            "137603 :  [0, 1, 2, 3, 4, 5, 6, 7, 8, 1065, 1066]\n",
            "138213 :  [0, 1, 2, 3, 4, 5, 6, 7, 8, 1065, 1066]\n",
            "261904 :  [0, 1, 2, 3, 4, 5, 6, 7, 8, 10, 1065, 1066]\n",
            "321346 :  [0, 1, 2, 3, 4, 5, 6, 7, 8, 10, 1065, 1066]\n",
            "410351 :  [0, 1, 2, 3, 4, 5, 6, 7, 8, 1065, 1066]\n",
            "413503 :  [0, 1, 2, 3, 4, 5, 6, 7, 8, 1065, 1066]\n",
            "562535 :  [0, 1, 2, 3, 4, 5, 6, 7, 8, 12, 1065, 1066]\n",
            "562753 :  [0, 1, 2, 3, 4, 5, 6, 7, 8, 12, 1065, 1066]\n",
            "733080 :  [0, 1, 2, 3, 4, 5, 6, 7, 8, 13, 1065, 1066]\n",
            "744946 :  [0, 1, 2, 3, 4, 5, 6, 7, 8, 14, 1065, 1066]\n",
            "745827 :  [0, 1, 2, 3, 4, 5, 6, 7, 8, 14, 1065, 1066]\n"
          ]
        }
      ]
    },
    {
      "cell_type": "code",
      "source": [
        "pos_index_list = []\n",
        "for pos in pos_list:\n",
        "    index_list = []\n",
        "    for i, (start, end) in enumerate(gene_interval_list):\n",
        "        if start <= pos <= end:\n",
        "            index_list.append(i)\n",
        "    pos_index_list.append((pos, index_list))\n"
      ],
      "metadata": {
        "id": "ZFyKwGDFKViu"
      },
      "execution_count": null,
      "outputs": []
    },
    {
      "cell_type": "code",
      "source": [
        "len(pos_index_list)"
      ],
      "metadata": {
        "colab": {
          "base_uri": "https://localhost:8080/"
        },
        "id": "fcGX-TexLdAU",
        "outputId": "575e6e8b-98b0-4ef8-bc05-03e37a098939"
      },
      "execution_count": null,
      "outputs": [
        {
          "output_type": "execute_result",
          "data": {
            "text/plain": [
              "22554"
            ]
          },
          "metadata": {},
          "execution_count": 100
        }
      ]
    },
    {
      "cell_type": "code",
      "source": [
        "count = 10\n",
        "for i, (pos, index_list) in enumerate(pos_index_list):\n",
        "  if i < count:\n",
        "    print(pos, ' : ', index_list)"
      ],
      "metadata": {
        "colab": {
          "base_uri": "https://localhost:8080/"
        },
        "id": "tEjsLH2zXuAA",
        "outputId": "81396a4c-ef38-4de5-d9d7-3dbb8c057dfd"
      },
      "execution_count": null,
      "outputs": [
        {
          "output_type": "stream",
          "name": "stdout",
          "text": [
            "137603  :  [0, 1, 2, 3, 4, 5, 6, 7, 8, 1065, 1066]\n",
            "138213  :  [0, 1, 2, 3, 4, 5, 6, 7, 8, 1065, 1066]\n",
            "261904  :  [0, 1, 2, 3, 4, 5, 6, 7, 8, 10, 1065, 1066]\n",
            "321346  :  [0, 1, 2, 3, 4, 5, 6, 7, 8, 10, 1065, 1066]\n",
            "410351  :  [0, 1, 2, 3, 4, 5, 6, 7, 8, 1065, 1066]\n",
            "413503  :  [0, 1, 2, 3, 4, 5, 6, 7, 8, 1065, 1066]\n",
            "562535  :  [0, 1, 2, 3, 4, 5, 6, 7, 8, 12, 1065, 1066]\n",
            "562753  :  [0, 1, 2, 3, 4, 5, 6, 7, 8, 12, 1065, 1066]\n",
            "733080  :  [0, 1, 2, 3, 4, 5, 6, 7, 8, 13, 1065, 1066]\n",
            "744946  :  [0, 1, 2, 3, 4, 5, 6, 7, 8, 14, 1065, 1066]\n"
          ]
        }
      ]
    },
    {
      "cell_type": "code",
      "source": [
        "pos_phenotype_dict = {}\n",
        "for pos in pos_list:\n",
        "  phenotype_list = []\n",
        "  for index in pos_index_dict[pos]:\n",
        "    phenotype_list.append(omim_data['Phenotypes'][index])\n",
        "  pos_phenotype_dict[pos] = phenotype_list"
      ],
      "metadata": {
        "id": "m-9hjxySllin"
      },
      "execution_count": 15,
      "outputs": []
    },
    {
      "cell_type": "code",
      "source": [
        "len(pos_phenotype_dict)"
      ],
      "metadata": {
        "colab": {
          "base_uri": "https://localhost:8080/"
        },
        "id": "OEhobEnCZatM",
        "outputId": "6190d78e-0829-461e-d89a-861ccd1936f1"
      },
      "execution_count": 16,
      "outputs": [
        {
          "output_type": "execute_result",
          "data": {
            "text/plain": [
              "5737"
            ]
          },
          "metadata": {},
          "execution_count": 16
        }
      ]
    },
    {
      "cell_type": "code",
      "source": [
        "count = 0\n",
        "for pos in pos_phenotype_dict.keys():\n",
        "  if count <= 10:\n",
        "    print(pos,': ',pos_phenotype_dict[pos])\n",
        "    count += 1"
      ],
      "metadata": {
        "colab": {
          "base_uri": "https://localhost:8080/"
        },
        "id": "3m7vWDSimf2b",
        "outputId": "808b5621-bbe0-490f-b596-37d0e45e1668"
      },
      "execution_count": 17,
      "outputs": [
        {
          "output_type": "stream",
          "name": "stdout",
          "text": [
            "137603 :  ['{Asperger syndrome susceptibility 2}, 608631 (2), Multifactorial, Isolated cases', 'Breast cancer (1)', 'Cataract 24, anterior polar, 601202 (2), Autosomal dominant', 'Dowling-Degos disease 3, 615674 (2), Autosomal dominant', 'Chromosome 17p13.3 duplication syndrome, 613215 (4)', 'Miller-Dieker lissencephaly syndrome, 247200 (4), Autosomal dominant', 'Nail disorder, nonsyndromic congenital, 7, 605779 (2), Autosomal dominant', 'Split-hand/foot malformation with long bone deficiency 3, 612576 (4), Autosomal dominant', '[Sex hormone-binding globulin circulating level QTL 1], 613498 (2)', nan, '{Opioid dependence, susceptibility to, 1}, 610064 (2)']\n",
            "138213 :  ['{Asperger syndrome susceptibility 2}, 608631 (2), Multifactorial, Isolated cases', 'Breast cancer (1)', 'Cataract 24, anterior polar, 601202 (2), Autosomal dominant', 'Dowling-Degos disease 3, 615674 (2), Autosomal dominant', 'Chromosome 17p13.3 duplication syndrome, 613215 (4)', 'Miller-Dieker lissencephaly syndrome, 247200 (4), Autosomal dominant', 'Nail disorder, nonsyndromic congenital, 7, 605779 (2), Autosomal dominant', 'Split-hand/foot malformation with long bone deficiency 3, 612576 (4), Autosomal dominant', '[Sex hormone-binding globulin circulating level QTL 1], 613498 (2)', nan, '{Opioid dependence, susceptibility to, 1}, 610064 (2)']\n",
            "261904 :  ['{Asperger syndrome susceptibility 2}, 608631 (2), Multifactorial, Isolated cases', 'Breast cancer (1)', 'Cataract 24, anterior polar, 601202 (2), Autosomal dominant', 'Dowling-Degos disease 3, 615674 (2), Autosomal dominant', 'Chromosome 17p13.3 duplication syndrome, 613215 (4)', 'Miller-Dieker lissencephaly syndrome, 247200 (4), Autosomal dominant', 'Nail disorder, nonsyndromic congenital, 7, 605779 (2), Autosomal dominant', 'Split-hand/foot malformation with long bone deficiency 3, 612576 (4), Autosomal dominant', '[Sex hormone-binding globulin circulating level QTL 1], 613498 (2)', nan, nan, '{Opioid dependence, susceptibility to, 1}, 610064 (2)']\n",
            "321346 :  ['{Asperger syndrome susceptibility 2}, 608631 (2), Multifactorial, Isolated cases', 'Breast cancer (1)', 'Cataract 24, anterior polar, 601202 (2), Autosomal dominant', 'Dowling-Degos disease 3, 615674 (2), Autosomal dominant', 'Chromosome 17p13.3 duplication syndrome, 613215 (4)', 'Miller-Dieker lissencephaly syndrome, 247200 (4), Autosomal dominant', 'Nail disorder, nonsyndromic congenital, 7, 605779 (2), Autosomal dominant', 'Split-hand/foot malformation with long bone deficiency 3, 612576 (4), Autosomal dominant', '[Sex hormone-binding globulin circulating level QTL 1], 613498 (2)', nan, nan, '{Opioid dependence, susceptibility to, 1}, 610064 (2)']\n",
            "410351 :  ['{Asperger syndrome susceptibility 2}, 608631 (2), Multifactorial, Isolated cases', 'Breast cancer (1)', 'Cataract 24, anterior polar, 601202 (2), Autosomal dominant', 'Dowling-Degos disease 3, 615674 (2), Autosomal dominant', 'Chromosome 17p13.3 duplication syndrome, 613215 (4)', 'Miller-Dieker lissencephaly syndrome, 247200 (4), Autosomal dominant', 'Nail disorder, nonsyndromic congenital, 7, 605779 (2), Autosomal dominant', 'Split-hand/foot malformation with long bone deficiency 3, 612576 (4), Autosomal dominant', '[Sex hormone-binding globulin circulating level QTL 1], 613498 (2)', nan, '{Opioid dependence, susceptibility to, 1}, 610064 (2)']\n",
            "413503 :  ['{Asperger syndrome susceptibility 2}, 608631 (2), Multifactorial, Isolated cases', 'Breast cancer (1)', 'Cataract 24, anterior polar, 601202 (2), Autosomal dominant', 'Dowling-Degos disease 3, 615674 (2), Autosomal dominant', 'Chromosome 17p13.3 duplication syndrome, 613215 (4)', 'Miller-Dieker lissencephaly syndrome, 247200 (4), Autosomal dominant', 'Nail disorder, nonsyndromic congenital, 7, 605779 (2), Autosomal dominant', 'Split-hand/foot malformation with long bone deficiency 3, 612576 (4), Autosomal dominant', '[Sex hormone-binding globulin circulating level QTL 1], 613498 (2)', nan, '{Opioid dependence, susceptibility to, 1}, 610064 (2)']\n",
            "562535 :  ['{Asperger syndrome susceptibility 2}, 608631 (2), Multifactorial, Isolated cases', 'Breast cancer (1)', 'Cataract 24, anterior polar, 601202 (2), Autosomal dominant', 'Dowling-Degos disease 3, 615674 (2), Autosomal dominant', 'Chromosome 17p13.3 duplication syndrome, 613215 (4)', 'Miller-Dieker lissencephaly syndrome, 247200 (4), Autosomal dominant', 'Nail disorder, nonsyndromic congenital, 7, 605779 (2), Autosomal dominant', 'Split-hand/foot malformation with long bone deficiency 3, 612576 (4), Autosomal dominant', '[Sex hormone-binding globulin circulating level QTL 1], 613498 (2)', 'Pontocerebellar hypoplasia, type 2E, 615851 (3), Autosomal recessive', nan, '{Opioid dependence, susceptibility to, 1}, 610064 (2)']\n",
            "562753 :  ['{Asperger syndrome susceptibility 2}, 608631 (2), Multifactorial, Isolated cases', 'Breast cancer (1)', 'Cataract 24, anterior polar, 601202 (2), Autosomal dominant', 'Dowling-Degos disease 3, 615674 (2), Autosomal dominant', 'Chromosome 17p13.3 duplication syndrome, 613215 (4)', 'Miller-Dieker lissencephaly syndrome, 247200 (4), Autosomal dominant', 'Nail disorder, nonsyndromic congenital, 7, 605779 (2), Autosomal dominant', 'Split-hand/foot malformation with long bone deficiency 3, 612576 (4), Autosomal dominant', '[Sex hormone-binding globulin circulating level QTL 1], 613498 (2)', 'Pontocerebellar hypoplasia, type 2E, 615851 (3), Autosomal recessive', nan, '{Opioid dependence, susceptibility to, 1}, 610064 (2)']\n",
            "733080 :  ['{Asperger syndrome susceptibility 2}, 608631 (2), Multifactorial, Isolated cases', 'Breast cancer (1)', 'Cataract 24, anterior polar, 601202 (2), Autosomal dominant', 'Dowling-Degos disease 3, 615674 (2), Autosomal dominant', 'Chromosome 17p13.3 duplication syndrome, 613215 (4)', 'Miller-Dieker lissencephaly syndrome, 247200 (4), Autosomal dominant', 'Nail disorder, nonsyndromic congenital, 7, 605779 (2), Autosomal dominant', 'Split-hand/foot malformation with long bone deficiency 3, 612576 (4), Autosomal dominant', '[Sex hormone-binding globulin circulating level QTL 1], 613498 (2)', nan, nan, '{Opioid dependence, susceptibility to, 1}, 610064 (2)']\n",
            "744946 :  ['{Asperger syndrome susceptibility 2}, 608631 (2), Multifactorial, Isolated cases', 'Breast cancer (1)', 'Cataract 24, anterior polar, 601202 (2), Autosomal dominant', 'Dowling-Degos disease 3, 615674 (2), Autosomal dominant', 'Chromosome 17p13.3 duplication syndrome, 613215 (4)', 'Miller-Dieker lissencephaly syndrome, 247200 (4), Autosomal dominant', 'Nail disorder, nonsyndromic congenital, 7, 605779 (2), Autosomal dominant', 'Split-hand/foot malformation with long bone deficiency 3, 612576 (4), Autosomal dominant', '[Sex hormone-binding globulin circulating level QTL 1], 613498 (2)', 'Neurodevelopmental disorder with microcephaly, cataracts, and renal abnormalities, 617913 (3), Autosomal recessive', nan, '{Opioid dependence, susceptibility to, 1}, 610064 (2)']\n",
            "745827 :  ['{Asperger syndrome susceptibility 2}, 608631 (2), Multifactorial, Isolated cases', 'Breast cancer (1)', 'Cataract 24, anterior polar, 601202 (2), Autosomal dominant', 'Dowling-Degos disease 3, 615674 (2), Autosomal dominant', 'Chromosome 17p13.3 duplication syndrome, 613215 (4)', 'Miller-Dieker lissencephaly syndrome, 247200 (4), Autosomal dominant', 'Nail disorder, nonsyndromic congenital, 7, 605779 (2), Autosomal dominant', 'Split-hand/foot malformation with long bone deficiency 3, 612576 (4), Autosomal dominant', '[Sex hormone-binding globulin circulating level QTL 1], 613498 (2)', 'Neurodevelopmental disorder with microcephaly, cataracts, and renal abnormalities, 617913 (3), Autosomal recessive', nan, '{Opioid dependence, susceptibility to, 1}, 610064 (2)']\n"
          ]
        }
      ]
    },
    {
      "cell_type": "code",
      "source": [
        "pos_phenotype_list = []\n",
        "for (pos, index_list) in pos_index_list:\n",
        "  phenotype_list = []\n",
        "  for index in index_list:\n",
        "    phenotype_list.append(omim_data['Phenotypes'][index])\n",
        "  pos_phenotype_list.append((pos, phenotype_list))"
      ],
      "metadata": {
        "id": "0TOEvTZ4YNEI"
      },
      "execution_count": null,
      "outputs": []
    },
    {
      "cell_type": "code",
      "source": [
        "len(pos_phenotype_list)"
      ],
      "metadata": {
        "colab": {
          "base_uri": "https://localhost:8080/"
        },
        "id": "iSVC0gqVZink",
        "outputId": "597ad8d7-585e-4f81-b3cc-076384549f6a"
      },
      "execution_count": null,
      "outputs": [
        {
          "output_type": "execute_result",
          "data": {
            "text/plain": [
              "22554"
            ]
          },
          "metadata": {},
          "execution_count": 108
        }
      ]
    },
    {
      "cell_type": "code",
      "source": [
        "count = 10\n",
        "for i, (pos, phenotype_list) in enumerate(pos_phenotype_list):\n",
        "  if i < count:\n",
        "    print(pos, \" : \", phenotype_list)"
      ],
      "metadata": {
        "colab": {
          "base_uri": "https://localhost:8080/"
        },
        "id": "YNE-AJX5ZlV4",
        "outputId": "2691a777-c5ae-408d-9cbf-ce90745b6eed"
      },
      "execution_count": null,
      "outputs": [
        {
          "output_type": "stream",
          "name": "stdout",
          "text": [
            "137603  :  ['{Asperger syndrome susceptibility 2}, 608631 (2), Multifactorial, Isolated cases', 'Breast cancer (1)', 'Cataract 24, anterior polar, 601202 (2), Autosomal dominant', 'Dowling-Degos disease 3, 615674 (2), Autosomal dominant', 'Chromosome 17p13.3 duplication syndrome, 613215 (4)', 'Miller-Dieker lissencephaly syndrome, 247200 (4), Autosomal dominant', 'Nail disorder, nonsyndromic congenital, 7, 605779 (2), Autosomal dominant', 'Split-hand/foot malformation with long bone deficiency 3, 612576 (4), Autosomal dominant', '[Sex hormone-binding globulin circulating level QTL 1], 613498 (2)', nan, '{Opioid dependence, susceptibility to, 1}, 610064 (2)']\n",
            "138213  :  ['{Asperger syndrome susceptibility 2}, 608631 (2), Multifactorial, Isolated cases', 'Breast cancer (1)', 'Cataract 24, anterior polar, 601202 (2), Autosomal dominant', 'Dowling-Degos disease 3, 615674 (2), Autosomal dominant', 'Chromosome 17p13.3 duplication syndrome, 613215 (4)', 'Miller-Dieker lissencephaly syndrome, 247200 (4), Autosomal dominant', 'Nail disorder, nonsyndromic congenital, 7, 605779 (2), Autosomal dominant', 'Split-hand/foot malformation with long bone deficiency 3, 612576 (4), Autosomal dominant', '[Sex hormone-binding globulin circulating level QTL 1], 613498 (2)', nan, '{Opioid dependence, susceptibility to, 1}, 610064 (2)']\n",
            "261904  :  ['{Asperger syndrome susceptibility 2}, 608631 (2), Multifactorial, Isolated cases', 'Breast cancer (1)', 'Cataract 24, anterior polar, 601202 (2), Autosomal dominant', 'Dowling-Degos disease 3, 615674 (2), Autosomal dominant', 'Chromosome 17p13.3 duplication syndrome, 613215 (4)', 'Miller-Dieker lissencephaly syndrome, 247200 (4), Autosomal dominant', 'Nail disorder, nonsyndromic congenital, 7, 605779 (2), Autosomal dominant', 'Split-hand/foot malformation with long bone deficiency 3, 612576 (4), Autosomal dominant', '[Sex hormone-binding globulin circulating level QTL 1], 613498 (2)', nan, nan, '{Opioid dependence, susceptibility to, 1}, 610064 (2)']\n",
            "321346  :  ['{Asperger syndrome susceptibility 2}, 608631 (2), Multifactorial, Isolated cases', 'Breast cancer (1)', 'Cataract 24, anterior polar, 601202 (2), Autosomal dominant', 'Dowling-Degos disease 3, 615674 (2), Autosomal dominant', 'Chromosome 17p13.3 duplication syndrome, 613215 (4)', 'Miller-Dieker lissencephaly syndrome, 247200 (4), Autosomal dominant', 'Nail disorder, nonsyndromic congenital, 7, 605779 (2), Autosomal dominant', 'Split-hand/foot malformation with long bone deficiency 3, 612576 (4), Autosomal dominant', '[Sex hormone-binding globulin circulating level QTL 1], 613498 (2)', nan, nan, '{Opioid dependence, susceptibility to, 1}, 610064 (2)']\n",
            "410351  :  ['{Asperger syndrome susceptibility 2}, 608631 (2), Multifactorial, Isolated cases', 'Breast cancer (1)', 'Cataract 24, anterior polar, 601202 (2), Autosomal dominant', 'Dowling-Degos disease 3, 615674 (2), Autosomal dominant', 'Chromosome 17p13.3 duplication syndrome, 613215 (4)', 'Miller-Dieker lissencephaly syndrome, 247200 (4), Autosomal dominant', 'Nail disorder, nonsyndromic congenital, 7, 605779 (2), Autosomal dominant', 'Split-hand/foot malformation with long bone deficiency 3, 612576 (4), Autosomal dominant', '[Sex hormone-binding globulin circulating level QTL 1], 613498 (2)', nan, '{Opioid dependence, susceptibility to, 1}, 610064 (2)']\n",
            "413503  :  ['{Asperger syndrome susceptibility 2}, 608631 (2), Multifactorial, Isolated cases', 'Breast cancer (1)', 'Cataract 24, anterior polar, 601202 (2), Autosomal dominant', 'Dowling-Degos disease 3, 615674 (2), Autosomal dominant', 'Chromosome 17p13.3 duplication syndrome, 613215 (4)', 'Miller-Dieker lissencephaly syndrome, 247200 (4), Autosomal dominant', 'Nail disorder, nonsyndromic congenital, 7, 605779 (2), Autosomal dominant', 'Split-hand/foot malformation with long bone deficiency 3, 612576 (4), Autosomal dominant', '[Sex hormone-binding globulin circulating level QTL 1], 613498 (2)', nan, '{Opioid dependence, susceptibility to, 1}, 610064 (2)']\n",
            "562535  :  ['{Asperger syndrome susceptibility 2}, 608631 (2), Multifactorial, Isolated cases', 'Breast cancer (1)', 'Cataract 24, anterior polar, 601202 (2), Autosomal dominant', 'Dowling-Degos disease 3, 615674 (2), Autosomal dominant', 'Chromosome 17p13.3 duplication syndrome, 613215 (4)', 'Miller-Dieker lissencephaly syndrome, 247200 (4), Autosomal dominant', 'Nail disorder, nonsyndromic congenital, 7, 605779 (2), Autosomal dominant', 'Split-hand/foot malformation with long bone deficiency 3, 612576 (4), Autosomal dominant', '[Sex hormone-binding globulin circulating level QTL 1], 613498 (2)', 'Pontocerebellar hypoplasia, type 2E, 615851 (3), Autosomal recessive', nan, '{Opioid dependence, susceptibility to, 1}, 610064 (2)']\n",
            "562753  :  ['{Asperger syndrome susceptibility 2}, 608631 (2), Multifactorial, Isolated cases', 'Breast cancer (1)', 'Cataract 24, anterior polar, 601202 (2), Autosomal dominant', 'Dowling-Degos disease 3, 615674 (2), Autosomal dominant', 'Chromosome 17p13.3 duplication syndrome, 613215 (4)', 'Miller-Dieker lissencephaly syndrome, 247200 (4), Autosomal dominant', 'Nail disorder, nonsyndromic congenital, 7, 605779 (2), Autosomal dominant', 'Split-hand/foot malformation with long bone deficiency 3, 612576 (4), Autosomal dominant', '[Sex hormone-binding globulin circulating level QTL 1], 613498 (2)', 'Pontocerebellar hypoplasia, type 2E, 615851 (3), Autosomal recessive', nan, '{Opioid dependence, susceptibility to, 1}, 610064 (2)']\n",
            "733080  :  ['{Asperger syndrome susceptibility 2}, 608631 (2), Multifactorial, Isolated cases', 'Breast cancer (1)', 'Cataract 24, anterior polar, 601202 (2), Autosomal dominant', 'Dowling-Degos disease 3, 615674 (2), Autosomal dominant', 'Chromosome 17p13.3 duplication syndrome, 613215 (4)', 'Miller-Dieker lissencephaly syndrome, 247200 (4), Autosomal dominant', 'Nail disorder, nonsyndromic congenital, 7, 605779 (2), Autosomal dominant', 'Split-hand/foot malformation with long bone deficiency 3, 612576 (4), Autosomal dominant', '[Sex hormone-binding globulin circulating level QTL 1], 613498 (2)', nan, nan, '{Opioid dependence, susceptibility to, 1}, 610064 (2)']\n",
            "744946  :  ['{Asperger syndrome susceptibility 2}, 608631 (2), Multifactorial, Isolated cases', 'Breast cancer (1)', 'Cataract 24, anterior polar, 601202 (2), Autosomal dominant', 'Dowling-Degos disease 3, 615674 (2), Autosomal dominant', 'Chromosome 17p13.3 duplication syndrome, 613215 (4)', 'Miller-Dieker lissencephaly syndrome, 247200 (4), Autosomal dominant', 'Nail disorder, nonsyndromic congenital, 7, 605779 (2), Autosomal dominant', 'Split-hand/foot malformation with long bone deficiency 3, 612576 (4), Autosomal dominant', '[Sex hormone-binding globulin circulating level QTL 1], 613498 (2)', 'Neurodevelopmental disorder with microcephaly, cataracts, and renal abnormalities, 617913 (3), Autosomal recessive', nan, '{Opioid dependence, susceptibility to, 1}, 610064 (2)']\n"
          ]
        }
      ]
    },
    {
      "cell_type": "code",
      "source": [
        "pos_MOIlist_dict = {}\n",
        "for pos in pos_list:\n",
        "  MOI_list = []\n",
        "  for phenotype in pos_phenotype_dict[pos]:\n",
        "    if \"dominant\" in str(phenotype).lower() and \"recessive\" in str(phenotype).lower():\n",
        "      MOI_list.append('AD/AR')\n",
        "    elif \"dominant\" in str(phenotype).lower():\n",
        "      MOI_list.append('AD')\n",
        "    elif \"recessive\" in str(phenotype).lower():\n",
        "      MOI_list.append('AR')\n",
        "    else:\n",
        "      MOI_list.append('')\n",
        "  pos_MOIlist_dict[pos] = MOI_list"
      ],
      "metadata": {
        "id": "YLPaZ1qZnoQ6"
      },
      "execution_count": 18,
      "outputs": []
    },
    {
      "cell_type": "code",
      "source": [
        "len(pos_MOIlist_dict)"
      ],
      "metadata": {
        "colab": {
          "base_uri": "https://localhost:8080/"
        },
        "id": "-1P_wG8saOaB",
        "outputId": "17c811f8-f26b-469b-b2f9-6b82af5f0319"
      },
      "execution_count": 19,
      "outputs": [
        {
          "output_type": "execute_result",
          "data": {
            "text/plain": [
              "5737"
            ]
          },
          "metadata": {},
          "execution_count": 19
        }
      ]
    },
    {
      "cell_type": "code",
      "source": [
        "count = 0\n",
        "for pos in pos_MOIlist_dict.keys():\n",
        "  if count <= 10:\n",
        "    print(pos,': ',pos_MOIlist_dict[pos])\n",
        "    count += 1"
      ],
      "metadata": {
        "id": "mP3JRd7Op8Mu",
        "colab": {
          "base_uri": "https://localhost:8080/"
        },
        "outputId": "c836e6be-aec0-4bb6-e7ba-d3cb0247678c"
      },
      "execution_count": 20,
      "outputs": [
        {
          "output_type": "stream",
          "name": "stdout",
          "text": [
            "137603 :  ['', '', 'AD', 'AD', '', 'AD', 'AD', 'AD', '', '', '']\n",
            "138213 :  ['', '', 'AD', 'AD', '', 'AD', 'AD', 'AD', '', '', '']\n",
            "261904 :  ['', '', 'AD', 'AD', '', 'AD', 'AD', 'AD', '', '', '', '']\n",
            "321346 :  ['', '', 'AD', 'AD', '', 'AD', 'AD', 'AD', '', '', '', '']\n",
            "410351 :  ['', '', 'AD', 'AD', '', 'AD', 'AD', 'AD', '', '', '']\n",
            "413503 :  ['', '', 'AD', 'AD', '', 'AD', 'AD', 'AD', '', '', '']\n",
            "562535 :  ['', '', 'AD', 'AD', '', 'AD', 'AD', 'AD', '', 'AR', '', '']\n",
            "562753 :  ['', '', 'AD', 'AD', '', 'AD', 'AD', 'AD', '', 'AR', '', '']\n",
            "733080 :  ['', '', 'AD', 'AD', '', 'AD', 'AD', 'AD', '', '', '', '']\n",
            "744946 :  ['', '', 'AD', 'AD', '', 'AD', 'AD', 'AD', '', 'AR', '', '']\n",
            "745827 :  ['', '', 'AD', 'AD', '', 'AD', 'AD', 'AD', '', 'AR', '', '']\n"
          ]
        }
      ]
    },
    {
      "cell_type": "code",
      "source": [
        "pos_MOIlist_list = []\n",
        "for (pos, phenotype_list) in pos_phenotype_list:\n",
        "  MOI_list = []\n",
        "  for phenotype in phenotype_list:\n",
        "    if \"dominant\" in str(phenotype).lower() and \"recessive\" in str(phenotype).lower():\n",
        "      MOI_list.append('AD/AR')\n",
        "    elif \"dominant\" in str(phenotype).lower():\n",
        "      MOI_list.append('AD')\n",
        "    elif \"recessive\" in str(phenotype).lower():\n",
        "      MOI_list.append('AR')\n",
        "    else:\n",
        "      MOI_list.append('')\n",
        "  pos_MOIlist_list.append((pos, MOI_list))"
      ],
      "metadata": {
        "id": "8hw2lXMmaRdY"
      },
      "execution_count": null,
      "outputs": []
    },
    {
      "cell_type": "code",
      "source": [
        "len(pos_MOIlist_list)"
      ],
      "metadata": {
        "colab": {
          "base_uri": "https://localhost:8080/"
        },
        "id": "4A6XTZoXa8zp",
        "outputId": "f2b8dfe3-c21d-4eb5-e6db-f85b92e01043"
      },
      "execution_count": null,
      "outputs": [
        {
          "output_type": "execute_result",
          "data": {
            "text/plain": [
              "22554"
            ]
          },
          "metadata": {},
          "execution_count": 115
        }
      ]
    },
    {
      "cell_type": "code",
      "source": [
        "count = 10\n",
        "for i, (pos, MOIlist) in enumerate(pos_MOIlist_list):\n",
        "  if i < count:\n",
        "    print(pos, \" : \", MOIlist)"
      ],
      "metadata": {
        "colab": {
          "base_uri": "https://localhost:8080/"
        },
        "id": "dsfhOZvBbBZ1",
        "outputId": "3ebc7750-6ba9-4420-bf3e-6382a7abe3c6"
      },
      "execution_count": null,
      "outputs": [
        {
          "output_type": "stream",
          "name": "stdout",
          "text": [
            "137603  :  ['', '', 'AD', 'AD', '', 'AD', 'AD', 'AD', '', '', '']\n",
            "138213  :  ['', '', 'AD', 'AD', '', 'AD', 'AD', 'AD', '', '', '']\n",
            "261904  :  ['', '', 'AD', 'AD', '', 'AD', 'AD', 'AD', '', '', '', '']\n",
            "321346  :  ['', '', 'AD', 'AD', '', 'AD', 'AD', 'AD', '', '', '', '']\n",
            "410351  :  ['', '', 'AD', 'AD', '', 'AD', 'AD', 'AD', '', '', '']\n",
            "413503  :  ['', '', 'AD', 'AD', '', 'AD', 'AD', 'AD', '', '', '']\n",
            "562535  :  ['', '', 'AD', 'AD', '', 'AD', 'AD', 'AD', '', 'AR', '', '']\n",
            "562753  :  ['', '', 'AD', 'AD', '', 'AD', 'AD', 'AD', '', 'AR', '', '']\n",
            "733080  :  ['', '', 'AD', 'AD', '', 'AD', 'AD', 'AD', '', '', '', '']\n",
            "744946  :  ['', '', 'AD', 'AD', '', 'AD', 'AD', 'AD', '', 'AR', '', '']\n"
          ]
        }
      ]
    },
    {
      "cell_type": "code",
      "source": [
        "for pos in range(4898000, 4899965):\n",
        "  if pos in pos_list:\n",
        "    print(pos, ' : ', pos_MOIlist_dict[pos])"
      ],
      "metadata": {
        "colab": {
          "base_uri": "https://localhost:8080/"
        },
        "id": "4h39cB9Adcb9",
        "outputId": "e28ca71d-75ac-4ecc-9b32-b90e63cf0728"
      },
      "execution_count": null,
      "outputs": [
        {
          "output_type": "stream",
          "name": "stdout",
          "text": [
            "4898816  :  ['', 'AD', 'AD', 'AD', '', 'AR', 'AD/AR', '', '']\n",
            "4898960  :  ['', 'AD', 'AD', 'AD', '', 'AR', 'AD/AR', '', '']\n",
            "4899034  :  ['', 'AD', 'AD', 'AD', '', 'AR', 'AD/AR', '', '']\n",
            "4899390  :  ['', 'AD', 'AD', 'AD', '', 'AR', 'AD/AR', '', '']\n",
            "4899534  :  ['', 'AD', 'AD', 'AD', '', 'AR', 'AD/AR', '', '']\n"
          ]
        }
      ]
    },
    {
      "cell_type": "code",
      "source": [
        "for position in range(4898000, 4899965):\n",
        "  if position in pos_list:\n",
        "    print(position, ' : ', [MOI_list for (pos, MOIlist) in pos_MOIlist_list if pos == position])"
      ],
      "metadata": {
        "colab": {
          "base_uri": "https://localhost:8080/"
        },
        "id": "TNRGAicWbmep",
        "outputId": "d4f07ed8-a97e-4692-bec3-d1b46f601191"
      },
      "execution_count": null,
      "outputs": [
        {
          "output_type": "stream",
          "name": "stdout",
          "text": [
            "4898816  :  [['', '', '', '', 'AD', '', 'AR', '', '', '', '', ''], ['', '', '', '', 'AD', '', 'AR', '', '', '', '', '']]\n",
            "4898960  :  [['', '', '', '', 'AD', '', 'AR', '', '', '', '', ''], ['', '', '', '', 'AD', '', 'AR', '', '', '', '', '']]\n",
            "4899034  :  [['', '', '', '', 'AD', '', 'AR', '', '', '', '', ''], ['', '', '', '', 'AD', '', 'AR', '', '', '', '', '']]\n",
            "4899390  :  [['', '', '', '', 'AD', '', 'AR', '', '', '', '', ''], ['', '', '', '', 'AD', '', 'AR', '', '', '', '', '']]\n",
            "4899534  :  [['', '', '', '', 'AD', '', 'AR', '', '', '', '', '']]\n"
          ]
        }
      ]
    },
    {
      "cell_type": "code",
      "source": [
        "omim_data['']"
      ],
      "metadata": {
        "id": "-horjWCEhNM6"
      },
      "execution_count": null,
      "outputs": []
    },
    {
      "cell_type": "code",
      "source": [
        "def determine_MOI(MOI_list):\n",
        "    # Remove empty strings from MOI list\n",
        "    filtered_MOI_list = [MOI for MOI in MOI_list if MOI]\n",
        "\n",
        "    if not filtered_MOI_list:\n",
        "        return 'Unknown'\n",
        "\n",
        "    if len(set(filtered_MOI_list)) == 1:\n",
        "        return filtered_MOI_list[0]\n",
        "\n",
        "    # If both 'AD' and 'AR' present, assign 'AD/AR'\n",
        "    if 'AD' in filtered_MOI_list and 'AR' in filtered_MOI_list:\n",
        "        return 'AD/AR'\n",
        "\n",
        "    # Handle conflicting MOIs\n",
        "    return 'Mixed/Uncertain'\n",
        "\n",
        "# Determine MOI for each variant"
      ],
      "metadata": {
        "id": "wD-g0Zjki7cf"
      },
      "execution_count": 21,
      "outputs": []
    },
    {
      "cell_type": "code",
      "source": [
        "# Determine MOI for each variant\n",
        "pos_MOI_dict = {}\n",
        "for pos, MOI_list in pos_MOIlist_dict.items():\n",
        "    MOI = determine_MOI(MOI_list)\n",
        "    pos_MOI_dict[pos] = MOI"
      ],
      "metadata": {
        "id": "kCMVPDiqjB1z"
      },
      "execution_count": null,
      "outputs": []
    },
    {
      "cell_type": "code",
      "source": [
        "# Print variant MOIs\n",
        "for pos, MOI in pos_MOI_dict.items():\n",
        "    print(f\"Variant at position {pos}: MOI = {MOI}\")"
      ],
      "metadata": {
        "id": "XFwJrwwUjLW-"
      },
      "execution_count": null,
      "outputs": []
    },
    {
      "cell_type": "code",
      "source": [
        "for pos, MOI in pos_MOI_dict.items():\n",
        "  if MOI == 'AR':\n",
        "    print(pos)"
      ],
      "metadata": {
        "colab": {
          "base_uri": "https://localhost:8080/"
        },
        "id": "Nwhrxs1ZjRAc",
        "outputId": "20d2cf0c-e12f-43c0-9f99-c748aed4e3a4"
      },
      "execution_count": null,
      "outputs": [
        {
          "output_type": "stream",
          "name": "stdout",
          "text": [
            "27301794\n",
            "27303362\n",
            "27312362\n",
            "27311633\n",
            "27312303\n"
          ]
        }
      ]
    },
    {
      "cell_type": "code",
      "source": [
        "import matplotlib.pyplot as plt\n",
        "\n",
        "# Count occurrences of each MOI\n",
        "MOIs_count = {'AD': 0, 'AR': 0, 'AD/AR': 0, 'Mixed/Uncertain': 0, 'Unknown': 0}\n",
        "\n",
        "# Count occurrences of each MOI\n",
        "for MOI in pos_MOI_dict.values():\n",
        "    MOIs_count[MOI] += 1\n",
        "\n",
        "# Convert counts to percentages\n",
        "total_variants = sum(MOIs_count.values())\n",
        "percentages = [count / total_variants * 100 for count in MOIs_count.values()]\n",
        "\n",
        "# Define MOIs and colors\n",
        "MOIs = list(MOIs_count.keys())\n",
        "colors = ['lightblue', 'lightgreen', 'orange', 'lightcoral', 'lightgrey']\n",
        "\n",
        "# Create figure and axis\n",
        "fig, ax = plt.subplots()\n",
        "\n",
        "# Plot circle\n",
        "circle = plt.Circle((0, 0), 0.7, color='white')\n",
        "ax.add_artist(circle)\n",
        "\n",
        "# Plot pie chart\n",
        "ax.pie(percentages, labels=MOIs, autopct='%1.1f%%', startangle=90, colors=colors)\n",
        "\n",
        "# Equal aspect ratio ensures that pie is drawn as a circle\n",
        "ax.axis('equal')\n",
        "\n",
        "# Add title\n",
        "plt.title('Percentage of Modes of Inheritance')\n",
        "\n",
        "# Show plot\n",
        "plt.show()\n"
      ],
      "metadata": {
        "id": "31XFbtszjeyG"
      },
      "execution_count": null,
      "outputs": []
    },
    {
      "cell_type": "code",
      "source": [
        "len(pos_list)"
      ],
      "metadata": {
        "colab": {
          "base_uri": "https://localhost:8080/"
        },
        "id": "eHivEFZmIK_p",
        "outputId": "799d46c7-7928-49dd-acc1-48d3ecd674ec"
      },
      "execution_count": null,
      "outputs": [
        {
          "output_type": "execute_result",
          "data": {
            "text/plain": [
              "22554"
            ]
          },
          "metadata": {},
          "execution_count": 73
        }
      ]
    },
    {
      "cell_type": "code",
      "source": [
        "len(pos_MOIlist_dict)"
      ],
      "metadata": {
        "colab": {
          "base_uri": "https://localhost:8080/"
        },
        "id": "nkxF0VHsINZ4",
        "outputId": "e1bcbb1d-7a76-4aca-e41b-118cb37d1a71"
      },
      "execution_count": null,
      "outputs": [
        {
          "output_type": "execute_result",
          "data": {
            "text/plain": [
              "5737"
            ]
          },
          "metadata": {},
          "execution_count": 74
        }
      ]
    },
    {
      "cell_type": "code",
      "source": [
        "len(pos_index_dict)"
      ],
      "metadata": {
        "colab": {
          "base_uri": "https://localhost:8080/"
        },
        "id": "9DIrvSfBIdvG",
        "outputId": "d3c08c19-2f19-45e9-9098-10f06d0aae91"
      },
      "execution_count": null,
      "outputs": [
        {
          "output_type": "execute_result",
          "data": {
            "text/plain": [
              "5737"
            ]
          },
          "metadata": {},
          "execution_count": 78
        }
      ]
    },
    {
      "cell_type": "code",
      "source": [
        "# pos_symbollidt_dict\n",
        "pos_symbollist_dict = {}\n",
        "for pos in pos_list:\n",
        "  symbollist = []\n",
        "  MOI_list = pos_MOIlist_dict[pos]\n",
        "  for i, MOI in enumerate(MOI_list):\n",
        "    if MOI != '':\n",
        "      index = pos_index_dict[pos][i]\n",
        "      symbollist.append(omim_data['Gene/Locus And Other Related Symbols'][index])\n",
        "  pos_symbollist_dict[pos] = symbollist"
      ],
      "metadata": {
        "id": "R6iEXg_TBTZ5"
      },
      "execution_count": null,
      "outputs": []
    },
    {
      "cell_type": "code",
      "source": [
        "len(pos_symbollist_dict)"
      ],
      "metadata": {
        "colab": {
          "base_uri": "https://localhost:8080/"
        },
        "id": "SNgzFrNMH9JO",
        "outputId": "ba31d053-28a8-4354-81f3-cfc0cc842cd8"
      },
      "execution_count": null,
      "outputs": [
        {
          "output_type": "execute_result",
          "data": {
            "text/plain": [
              "5737"
            ]
          },
          "metadata": {},
          "execution_count": 72
        }
      ]
    },
    {
      "cell_type": "code",
      "source": [
        "count = 0\n",
        "for pos in pos_symbollist_dict.keys():\n",
        "  if count <= 10:\n",
        "    print(pos,': ',pos_symbollist_dict[pos])\n",
        "    count += 1"
      ],
      "metadata": {
        "colab": {
          "base_uri": "https://localhost:8080/"
        },
        "id": "i28eZAJTD9SZ",
        "outputId": "5793bb44-075d-4ee6-f5ea-7c13373147c6"
      },
      "execution_count": null,
      "outputs": [
        {
          "output_type": "stream",
          "name": "stdout",
          "text": [
            "137603 :  ['CTRCT24, CTAA2', 'DDD3', 'MDLS, MDS, MDCR, DEL17p13.3, C17DELp13.3', 'NDNC7', 'SHFLD3, DUP17p13.3, C17DUPp13.3']\n",
            "138213 :  ['CTRCT24, CTAA2', 'DDD3', 'MDLS, MDS, MDCR, DEL17p13.3, C17DELp13.3', 'NDNC7', 'SHFLD3, DUP17p13.3, C17DUPp13.3']\n",
            "261904 :  ['CTRCT24, CTAA2', 'DDD3', 'MDLS, MDS, MDCR, DEL17p13.3, C17DELp13.3', 'NDNC7', 'SHFLD3, DUP17p13.3, C17DUPp13.3']\n",
            "321346 :  ['CTRCT24, CTAA2', 'DDD3', 'MDLS, MDS, MDCR, DEL17p13.3, C17DELp13.3', 'NDNC7', 'SHFLD3, DUP17p13.3, C17DUPp13.3']\n",
            "410351 :  ['CTRCT24, CTAA2', 'DDD3', 'MDLS, MDS, MDCR, DEL17p13.3, C17DELp13.3', 'NDNC7', 'SHFLD3, DUP17p13.3, C17DUPp13.3']\n",
            "413503 :  ['CTRCT24, CTAA2', 'DDD3', 'MDLS, MDS, MDCR, DEL17p13.3, C17DELp13.3', 'NDNC7', 'SHFLD3, DUP17p13.3, C17DUPp13.3']\n",
            "562535 :  ['CTRCT24, CTAA2', 'DDD3', 'MDLS, MDS, MDCR, DEL17p13.3, C17DELp13.3', 'NDNC7', 'SHFLD3, DUP17p13.3, C17DUPp13.3', 'VPS53, HCCS1, PCH2E']\n",
            "562753 :  ['CTRCT24, CTAA2', 'DDD3', 'MDLS, MDS, MDCR, DEL17p13.3, C17DELp13.3', 'NDNC7', 'SHFLD3, DUP17p13.3, C17DUPp13.3', 'VPS53, HCCS1, PCH2E']\n",
            "733080 :  ['CTRCT24, CTAA2', 'DDD3', 'MDLS, MDS, MDCR, DEL17p13.3, C17DELp13.3', 'NDNC7', 'SHFLD3, DUP17p13.3, C17DUPp13.3']\n",
            "744946 :  ['CTRCT24, CTAA2', 'DDD3', 'MDLS, MDS, MDCR, DEL17p13.3, C17DELp13.3', 'NDNC7', 'SHFLD3, DUP17p13.3, C17DUPp13.3', 'GEMIN4, NEDMCR']\n",
            "745827 :  ['CTRCT24, CTAA2', 'DDD3', 'MDLS, MDS, MDCR, DEL17p13.3, C17DELp13.3', 'NDNC7', 'SHFLD3, DUP17p13.3, C17DUPp13.3', 'GEMIN4, NEDMCR']\n"
          ]
        }
      ]
    },
    {
      "cell_type": "code",
      "source": [
        "count = 0\n",
        "for pos in pos_MOI_dict.keys():\n",
        "  if count <= 10:\n",
        "    print(pos,': ',pos_MOI_dict[pos])\n",
        "    count += 1"
      ],
      "metadata": {
        "colab": {
          "base_uri": "https://localhost:8080/"
        },
        "id": "CsLVxxS_Eqlq",
        "outputId": "20671b5f-4663-4ed3-d489-25b32ff41bfa"
      },
      "execution_count": null,
      "outputs": [
        {
          "output_type": "stream",
          "name": "stdout",
          "text": [
            "137603 :  AD\n",
            "138213 :  AD\n",
            "261904 :  AD\n",
            "321346 :  AD\n",
            "410351 :  AD\n",
            "413503 :  AD\n",
            "562535 :  AD/AR\n",
            "562753 :  AD/AR\n",
            "733080 :  AD\n",
            "744946 :  AD/AR\n",
            "745827 :  AD/AR\n"
          ]
        }
      ]
    },
    {
      "cell_type": "code",
      "source": [
        "# adding OMIM database to temp_output csv file\n",
        "df = pd.read_csv('/content/drive/MyDrive/Mode of Inheritance Task/Mode of Inheritance Task files/temp_output.csv')\n",
        "for index, row in df.iterrows():\n",
        "  pos = row['pos']\n",
        "  df.at[index, 'MOI_OMIM'] = pos_MOI_dict[pos]\n",
        "  df.at[index, 'symbol_OMIM'] = pos_symbollist_dict[pos]\n",
        "df.to_csv('/content/drive/MyDrive/Mode of Inheritance Task/Mode of Inheritance Task files/temp_output_updated.csv', index=False)"
      ],
      "metadata": {
        "colab": {
          "base_uri": "https://localhost:8080/",
          "height": 441
        },
        "id": "W44IAXVtE6og",
        "outputId": "131ee331-c484-4b65-df54-169756fe3f6e"
      },
      "execution_count": null,
      "outputs": [
        {
          "output_type": "error",
          "ename": "ValueError",
          "evalue": "Must have equal len keys and value when setting with an iterable",
          "traceback": [
            "\u001b[0;31m---------------------------------------------------------------------------\u001b[0m",
            "\u001b[0;31mLossySetitemError\u001b[0m                         Traceback (most recent call last)",
            "\u001b[0;32m/usr/local/lib/python3.10/dist-packages/pandas/core/frame.py\u001b[0m in \u001b[0;36m_set_value\u001b[0;34m(self, index, col, value, takeable)\u001b[0m\n\u001b[1;32m   4211\u001b[0m                 \u001b[0miindex\u001b[0m \u001b[0;34m=\u001b[0m \u001b[0mself\u001b[0m\u001b[0;34m.\u001b[0m\u001b[0mindex\u001b[0m\u001b[0;34m.\u001b[0m\u001b[0mget_loc\u001b[0m\u001b[0;34m(\u001b[0m\u001b[0mindex\u001b[0m\u001b[0;34m)\u001b[0m\u001b[0;34m\u001b[0m\u001b[0;34m\u001b[0m\u001b[0m\n\u001b[0;32m-> 4212\u001b[0;31m             \u001b[0mself\u001b[0m\u001b[0;34m.\u001b[0m\u001b[0m_mgr\u001b[0m\u001b[0;34m.\u001b[0m\u001b[0mcolumn_setitem\u001b[0m\u001b[0;34m(\u001b[0m\u001b[0micol\u001b[0m\u001b[0;34m,\u001b[0m \u001b[0miindex\u001b[0m\u001b[0;34m,\u001b[0m \u001b[0mvalue\u001b[0m\u001b[0;34m,\u001b[0m \u001b[0minplace\u001b[0m\u001b[0;34m=\u001b[0m\u001b[0;32mTrue\u001b[0m\u001b[0;34m)\u001b[0m\u001b[0;34m\u001b[0m\u001b[0;34m\u001b[0m\u001b[0m\n\u001b[0m\u001b[1;32m   4213\u001b[0m             \u001b[0mself\u001b[0m\u001b[0;34m.\u001b[0m\u001b[0m_clear_item_cache\u001b[0m\u001b[0;34m(\u001b[0m\u001b[0;34m)\u001b[0m\u001b[0;34m\u001b[0m\u001b[0;34m\u001b[0m\u001b[0m\n",
            "\u001b[0;32m/usr/local/lib/python3.10/dist-packages/pandas/core/internals/managers.py\u001b[0m in \u001b[0;36mcolumn_setitem\u001b[0;34m(self, loc, idx, value, inplace)\u001b[0m\n\u001b[1;32m   1388\u001b[0m         \u001b[0;32mif\u001b[0m \u001b[0minplace\u001b[0m\u001b[0;34m:\u001b[0m\u001b[0;34m\u001b[0m\u001b[0;34m\u001b[0m\u001b[0m\n\u001b[0;32m-> 1389\u001b[0;31m             \u001b[0mcol_mgr\u001b[0m\u001b[0;34m.\u001b[0m\u001b[0msetitem_inplace\u001b[0m\u001b[0;34m(\u001b[0m\u001b[0midx\u001b[0m\u001b[0;34m,\u001b[0m \u001b[0mvalue\u001b[0m\u001b[0;34m)\u001b[0m\u001b[0;34m\u001b[0m\u001b[0;34m\u001b[0m\u001b[0m\n\u001b[0m\u001b[1;32m   1390\u001b[0m         \u001b[0;32melse\u001b[0m\u001b[0;34m:\u001b[0m\u001b[0;34m\u001b[0m\u001b[0;34m\u001b[0m\u001b[0m\n",
            "\u001b[0;32m/usr/local/lib/python3.10/dist-packages/pandas/core/internals/managers.py\u001b[0m in \u001b[0;36msetitem_inplace\u001b[0;34m(self, indexer, value)\u001b[0m\n\u001b[1;32m   2101\u001b[0m \u001b[0;34m\u001b[0m\u001b[0m\n\u001b[0;32m-> 2102\u001b[0;31m         \u001b[0msuper\u001b[0m\u001b[0;34m(\u001b[0m\u001b[0;34m)\u001b[0m\u001b[0;34m.\u001b[0m\u001b[0msetitem_inplace\u001b[0m\u001b[0;34m(\u001b[0m\u001b[0mindexer\u001b[0m\u001b[0;34m,\u001b[0m \u001b[0mvalue\u001b[0m\u001b[0;34m)\u001b[0m\u001b[0;34m\u001b[0m\u001b[0;34m\u001b[0m\u001b[0m\n\u001b[0m\u001b[1;32m   2103\u001b[0m \u001b[0;34m\u001b[0m\u001b[0m\n",
            "\u001b[0;32m/usr/local/lib/python3.10/dist-packages/pandas/core/internals/base.py\u001b[0m in \u001b[0;36msetitem_inplace\u001b[0;34m(self, indexer, value)\u001b[0m\n\u001b[1;32m    187\u001b[0m             \u001b[0;31m#  dt64/td64, which do their own validation.\u001b[0m\u001b[0;34m\u001b[0m\u001b[0;34m\u001b[0m\u001b[0m\n\u001b[0;32m--> 188\u001b[0;31m             \u001b[0mvalue\u001b[0m \u001b[0;34m=\u001b[0m \u001b[0mnp_can_hold_element\u001b[0m\u001b[0;34m(\u001b[0m\u001b[0marr\u001b[0m\u001b[0;34m.\u001b[0m\u001b[0mdtype\u001b[0m\u001b[0;34m,\u001b[0m \u001b[0mvalue\u001b[0m\u001b[0;34m)\u001b[0m\u001b[0;34m\u001b[0m\u001b[0;34m\u001b[0m\u001b[0m\n\u001b[0m\u001b[1;32m    189\u001b[0m \u001b[0;34m\u001b[0m\u001b[0m\n",
            "\u001b[0;32m/usr/local/lib/python3.10/dist-packages/pandas/core/dtypes/cast.py\u001b[0m in \u001b[0;36mnp_can_hold_element\u001b[0;34m(dtype, element)\u001b[0m\n\u001b[1;32m   2022\u001b[0m                 \u001b[0;31m# Anything other than float/integer we cannot hold\u001b[0m\u001b[0;34m\u001b[0m\u001b[0;34m\u001b[0m\u001b[0m\n\u001b[0;32m-> 2023\u001b[0;31m                 \u001b[0;32mraise\u001b[0m \u001b[0mLossySetitemError\u001b[0m\u001b[0;34m\u001b[0m\u001b[0;34m\u001b[0m\u001b[0m\n\u001b[0m\u001b[1;32m   2024\u001b[0m             \u001b[0;32melif\u001b[0m \u001b[0;32mnot\u001b[0m \u001b[0misinstance\u001b[0m\u001b[0;34m(\u001b[0m\u001b[0mtipo\u001b[0m\u001b[0;34m,\u001b[0m \u001b[0mnp\u001b[0m\u001b[0;34m.\u001b[0m\u001b[0mdtype\u001b[0m\u001b[0;34m)\u001b[0m\u001b[0;34m:\u001b[0m\u001b[0;34m\u001b[0m\u001b[0;34m\u001b[0m\u001b[0m\n",
            "\u001b[0;31mLossySetitemError\u001b[0m: ",
            "\nDuring handling of the above exception, another exception occurred:\n",
            "\u001b[0;31mValueError\u001b[0m                                Traceback (most recent call last)",
            "\u001b[0;32m<ipython-input-70-04f1013da941>\u001b[0m in \u001b[0;36m<cell line: 3>\u001b[0;34m()\u001b[0m\n\u001b[1;32m      4\u001b[0m   \u001b[0mpos\u001b[0m \u001b[0;34m=\u001b[0m \u001b[0mrow\u001b[0m\u001b[0;34m[\u001b[0m\u001b[0;34m'pos'\u001b[0m\u001b[0;34m]\u001b[0m\u001b[0;34m\u001b[0m\u001b[0;34m\u001b[0m\u001b[0m\n\u001b[1;32m      5\u001b[0m   \u001b[0mdf\u001b[0m\u001b[0;34m.\u001b[0m\u001b[0mat\u001b[0m\u001b[0;34m[\u001b[0m\u001b[0mindex\u001b[0m\u001b[0;34m,\u001b[0m \u001b[0;34m'MOI_OMIM'\u001b[0m\u001b[0;34m]\u001b[0m \u001b[0;34m=\u001b[0m \u001b[0mpos_MOI_dict\u001b[0m\u001b[0;34m[\u001b[0m\u001b[0mpos\u001b[0m\u001b[0;34m]\u001b[0m\u001b[0;34m\u001b[0m\u001b[0;34m\u001b[0m\u001b[0m\n\u001b[0;32m----> 6\u001b[0;31m   \u001b[0mdf\u001b[0m\u001b[0;34m.\u001b[0m\u001b[0mat\u001b[0m\u001b[0;34m[\u001b[0m\u001b[0mindex\u001b[0m\u001b[0;34m,\u001b[0m \u001b[0;34m'symbol_OMIM'\u001b[0m\u001b[0;34m]\u001b[0m \u001b[0;34m=\u001b[0m \u001b[0mpos_symbollist_dict\u001b[0m\u001b[0;34m[\u001b[0m\u001b[0mpos\u001b[0m\u001b[0;34m]\u001b[0m\u001b[0;34m\u001b[0m\u001b[0;34m\u001b[0m\u001b[0m\n\u001b[0m\u001b[1;32m      7\u001b[0m \u001b[0mdf\u001b[0m\u001b[0;34m.\u001b[0m\u001b[0mto_csv\u001b[0m\u001b[0;34m(\u001b[0m\u001b[0;34m'/content/drive/MyDrive/Mode of Inheritance Task/Mode of Inheritance Task files/temp_output_updated.csv'\u001b[0m\u001b[0;34m,\u001b[0m \u001b[0mindex\u001b[0m\u001b[0;34m=\u001b[0m\u001b[0;32mFalse\u001b[0m\u001b[0;34m)\u001b[0m\u001b[0;34m\u001b[0m\u001b[0;34m\u001b[0m\u001b[0m\n",
            "\u001b[0;32m/usr/local/lib/python3.10/dist-packages/pandas/core/indexing.py\u001b[0m in \u001b[0;36m__setitem__\u001b[0;34m(self, key, value)\u001b[0m\n\u001b[1;32m   2440\u001b[0m             \u001b[0;32mreturn\u001b[0m\u001b[0;34m\u001b[0m\u001b[0;34m\u001b[0m\u001b[0m\n\u001b[1;32m   2441\u001b[0m \u001b[0;34m\u001b[0m\u001b[0m\n\u001b[0;32m-> 2442\u001b[0;31m         \u001b[0;32mreturn\u001b[0m \u001b[0msuper\u001b[0m\u001b[0;34m(\u001b[0m\u001b[0;34m)\u001b[0m\u001b[0;34m.\u001b[0m\u001b[0m__setitem__\u001b[0m\u001b[0;34m(\u001b[0m\u001b[0mkey\u001b[0m\u001b[0;34m,\u001b[0m \u001b[0mvalue\u001b[0m\u001b[0;34m)\u001b[0m\u001b[0;34m\u001b[0m\u001b[0;34m\u001b[0m\u001b[0m\n\u001b[0m\u001b[1;32m   2443\u001b[0m \u001b[0;34m\u001b[0m\u001b[0m\n\u001b[1;32m   2444\u001b[0m \u001b[0;34m\u001b[0m\u001b[0m\n",
            "\u001b[0;32m/usr/local/lib/python3.10/dist-packages/pandas/core/indexing.py\u001b[0m in \u001b[0;36m__setitem__\u001b[0;34m(self, key, value)\u001b[0m\n\u001b[1;32m   2395\u001b[0m             \u001b[0;32mraise\u001b[0m \u001b[0mValueError\u001b[0m\u001b[0;34m(\u001b[0m\u001b[0;34m\"Not enough indexers for scalar access (setting)!\"\u001b[0m\u001b[0;34m)\u001b[0m\u001b[0;34m\u001b[0m\u001b[0;34m\u001b[0m\u001b[0m\n\u001b[1;32m   2396\u001b[0m \u001b[0;34m\u001b[0m\u001b[0m\n\u001b[0;32m-> 2397\u001b[0;31m         \u001b[0mself\u001b[0m\u001b[0;34m.\u001b[0m\u001b[0mobj\u001b[0m\u001b[0;34m.\u001b[0m\u001b[0m_set_value\u001b[0m\u001b[0;34m(\u001b[0m\u001b[0;34m*\u001b[0m\u001b[0mkey\u001b[0m\u001b[0;34m,\u001b[0m \u001b[0mvalue\u001b[0m\u001b[0;34m=\u001b[0m\u001b[0mvalue\u001b[0m\u001b[0;34m,\u001b[0m \u001b[0mtakeable\u001b[0m\u001b[0;34m=\u001b[0m\u001b[0mself\u001b[0m\u001b[0;34m.\u001b[0m\u001b[0m_takeable\u001b[0m\u001b[0;34m)\u001b[0m\u001b[0;34m\u001b[0m\u001b[0;34m\u001b[0m\u001b[0m\n\u001b[0m\u001b[1;32m   2398\u001b[0m \u001b[0;34m\u001b[0m\u001b[0m\n\u001b[1;32m   2399\u001b[0m \u001b[0;34m\u001b[0m\u001b[0m\n",
            "\u001b[0;32m/usr/local/lib/python3.10/dist-packages/pandas/core/frame.py\u001b[0m in \u001b[0;36m_set_value\u001b[0;34m(self, index, col, value, takeable)\u001b[0m\n\u001b[1;32m   4222\u001b[0m                 \u001b[0mself\u001b[0m\u001b[0;34m.\u001b[0m\u001b[0miloc\u001b[0m\u001b[0;34m[\u001b[0m\u001b[0mindex\u001b[0m\u001b[0;34m,\u001b[0m \u001b[0mcol\u001b[0m\u001b[0;34m]\u001b[0m \u001b[0;34m=\u001b[0m \u001b[0mvalue\u001b[0m\u001b[0;34m\u001b[0m\u001b[0;34m\u001b[0m\u001b[0m\n\u001b[1;32m   4223\u001b[0m             \u001b[0;32melse\u001b[0m\u001b[0;34m:\u001b[0m\u001b[0;34m\u001b[0m\u001b[0;34m\u001b[0m\u001b[0m\n\u001b[0;32m-> 4224\u001b[0;31m                 \u001b[0mself\u001b[0m\u001b[0;34m.\u001b[0m\u001b[0mloc\u001b[0m\u001b[0;34m[\u001b[0m\u001b[0mindex\u001b[0m\u001b[0;34m,\u001b[0m \u001b[0mcol\u001b[0m\u001b[0;34m]\u001b[0m \u001b[0;34m=\u001b[0m \u001b[0mvalue\u001b[0m\u001b[0;34m\u001b[0m\u001b[0;34m\u001b[0m\u001b[0m\n\u001b[0m\u001b[1;32m   4225\u001b[0m             \u001b[0mself\u001b[0m\u001b[0;34m.\u001b[0m\u001b[0m_item_cache\u001b[0m\u001b[0;34m.\u001b[0m\u001b[0mpop\u001b[0m\u001b[0;34m(\u001b[0m\u001b[0mcol\u001b[0m\u001b[0;34m,\u001b[0m \u001b[0;32mNone\u001b[0m\u001b[0;34m)\u001b[0m\u001b[0;34m\u001b[0m\u001b[0;34m\u001b[0m\u001b[0m\n\u001b[1;32m   4226\u001b[0m \u001b[0;34m\u001b[0m\u001b[0m\n",
            "\u001b[0;32m/usr/local/lib/python3.10/dist-packages/pandas/core/indexing.py\u001b[0m in \u001b[0;36m__setitem__\u001b[0;34m(self, key, value)\u001b[0m\n\u001b[1;32m    816\u001b[0m \u001b[0;34m\u001b[0m\u001b[0m\n\u001b[1;32m    817\u001b[0m         \u001b[0miloc\u001b[0m \u001b[0;34m=\u001b[0m \u001b[0mself\u001b[0m \u001b[0;32mif\u001b[0m \u001b[0mself\u001b[0m\u001b[0;34m.\u001b[0m\u001b[0mname\u001b[0m \u001b[0;34m==\u001b[0m \u001b[0;34m\"iloc\"\u001b[0m \u001b[0;32melse\u001b[0m \u001b[0mself\u001b[0m\u001b[0;34m.\u001b[0m\u001b[0mobj\u001b[0m\u001b[0;34m.\u001b[0m\u001b[0miloc\u001b[0m\u001b[0;34m\u001b[0m\u001b[0;34m\u001b[0m\u001b[0m\n\u001b[0;32m--> 818\u001b[0;31m         \u001b[0miloc\u001b[0m\u001b[0;34m.\u001b[0m\u001b[0m_setitem_with_indexer\u001b[0m\u001b[0;34m(\u001b[0m\u001b[0mindexer\u001b[0m\u001b[0;34m,\u001b[0m \u001b[0mvalue\u001b[0m\u001b[0;34m,\u001b[0m \u001b[0mself\u001b[0m\u001b[0;34m.\u001b[0m\u001b[0mname\u001b[0m\u001b[0;34m)\u001b[0m\u001b[0;34m\u001b[0m\u001b[0;34m\u001b[0m\u001b[0m\n\u001b[0m\u001b[1;32m    819\u001b[0m \u001b[0;34m\u001b[0m\u001b[0m\n\u001b[1;32m    820\u001b[0m     \u001b[0;32mdef\u001b[0m \u001b[0m_validate_key\u001b[0m\u001b[0;34m(\u001b[0m\u001b[0mself\u001b[0m\u001b[0;34m,\u001b[0m \u001b[0mkey\u001b[0m\u001b[0;34m,\u001b[0m \u001b[0maxis\u001b[0m\u001b[0;34m:\u001b[0m \u001b[0mint\u001b[0m\u001b[0;34m)\u001b[0m\u001b[0;34m:\u001b[0m\u001b[0;34m\u001b[0m\u001b[0;34m\u001b[0m\u001b[0m\n",
            "\u001b[0;32m/usr/local/lib/python3.10/dist-packages/pandas/core/indexing.py\u001b[0m in \u001b[0;36m_setitem_with_indexer\u001b[0;34m(self, indexer, value, name)\u001b[0m\n\u001b[1;32m   1793\u001b[0m         \u001b[0;32mif\u001b[0m \u001b[0mtake_split_path\u001b[0m\u001b[0;34m:\u001b[0m\u001b[0;34m\u001b[0m\u001b[0;34m\u001b[0m\u001b[0m\n\u001b[1;32m   1794\u001b[0m             \u001b[0;31m# We have to operate column-wise\u001b[0m\u001b[0;34m\u001b[0m\u001b[0;34m\u001b[0m\u001b[0m\n\u001b[0;32m-> 1795\u001b[0;31m             \u001b[0mself\u001b[0m\u001b[0;34m.\u001b[0m\u001b[0m_setitem_with_indexer_split_path\u001b[0m\u001b[0;34m(\u001b[0m\u001b[0mindexer\u001b[0m\u001b[0;34m,\u001b[0m \u001b[0mvalue\u001b[0m\u001b[0;34m,\u001b[0m \u001b[0mname\u001b[0m\u001b[0;34m)\u001b[0m\u001b[0;34m\u001b[0m\u001b[0;34m\u001b[0m\u001b[0m\n\u001b[0m\u001b[1;32m   1796\u001b[0m         \u001b[0;32melse\u001b[0m\u001b[0;34m:\u001b[0m\u001b[0;34m\u001b[0m\u001b[0;34m\u001b[0m\u001b[0m\n\u001b[1;32m   1797\u001b[0m             \u001b[0mself\u001b[0m\u001b[0;34m.\u001b[0m\u001b[0m_setitem_single_block\u001b[0m\u001b[0;34m(\u001b[0m\u001b[0mindexer\u001b[0m\u001b[0;34m,\u001b[0m \u001b[0mvalue\u001b[0m\u001b[0;34m,\u001b[0m \u001b[0mname\u001b[0m\u001b[0;34m)\u001b[0m\u001b[0;34m\u001b[0m\u001b[0;34m\u001b[0m\u001b[0m\n",
            "\u001b[0;32m/usr/local/lib/python3.10/dist-packages/pandas/core/indexing.py\u001b[0m in \u001b[0;36m_setitem_with_indexer_split_path\u001b[0;34m(self, indexer, value, name)\u001b[0m\n\u001b[1;32m   1848\u001b[0m                     \u001b[0;32mreturn\u001b[0m \u001b[0mself\u001b[0m\u001b[0;34m.\u001b[0m\u001b[0m_setitem_with_indexer\u001b[0m\u001b[0;34m(\u001b[0m\u001b[0;34m(\u001b[0m\u001b[0mpi\u001b[0m\u001b[0;34m,\u001b[0m \u001b[0minfo_axis\u001b[0m\u001b[0;34m[\u001b[0m\u001b[0;36m0\u001b[0m\u001b[0;34m]\u001b[0m\u001b[0;34m)\u001b[0m\u001b[0;34m,\u001b[0m \u001b[0mvalue\u001b[0m\u001b[0;34m[\u001b[0m\u001b[0;36m0\u001b[0m\u001b[0;34m]\u001b[0m\u001b[0;34m)\u001b[0m\u001b[0;34m\u001b[0m\u001b[0;34m\u001b[0m\u001b[0m\n\u001b[1;32m   1849\u001b[0m \u001b[0;34m\u001b[0m\u001b[0m\n\u001b[0;32m-> 1850\u001b[0;31m                 raise ValueError(\n\u001b[0m\u001b[1;32m   1851\u001b[0m                     \u001b[0;34m\"Must have equal len keys and value \"\u001b[0m\u001b[0;34m\u001b[0m\u001b[0;34m\u001b[0m\u001b[0m\n\u001b[1;32m   1852\u001b[0m                     \u001b[0;34m\"when setting with an iterable\"\u001b[0m\u001b[0;34m\u001b[0m\u001b[0;34m\u001b[0m\u001b[0m\n",
            "\u001b[0;31mValueError\u001b[0m: Must have equal len keys and value when setting with an iterable"
          ]
        }
      ]
    },
    {
      "cell_type": "code",
      "source": [],
      "metadata": {
        "id": "TEtL9YaUFcAM"
      },
      "execution_count": null,
      "outputs": []
    },
    {
      "cell_type": "code",
      "source": [
        "!pip install biopython"
      ],
      "metadata": {
        "colab": {
          "base_uri": "https://localhost:8080/"
        },
        "id": "7dHQeBuARm9V",
        "outputId": "b707ae6b-b6f0-47d9-d9b6-cda90dc3e317"
      },
      "execution_count": null,
      "outputs": [
        {
          "output_type": "stream",
          "name": "stdout",
          "text": [
            "Collecting biopython\n",
            "  Downloading biopython-1.83-cp310-cp310-manylinux_2_17_x86_64.manylinux2014_x86_64.whl (3.1 MB)\n",
            "\u001b[2K     \u001b[90m━━━━━━━━━━━━━━━━━━━━━━━━━━━━━━━━━━━━━━━━\u001b[0m \u001b[32m3.1/3.1 MB\u001b[0m \u001b[31m9.6 MB/s\u001b[0m eta \u001b[36m0:00:00\u001b[0m\n",
            "\u001b[?25hRequirement already satisfied: numpy in /usr/local/lib/python3.10/dist-packages (from biopython) (1.25.2)\n",
            "Installing collected packages: biopython\n",
            "Successfully installed biopython-1.83\n"
          ]
        }
      ]
    },
    {
      "cell_type": "code",
      "source": [
        "from Bio import Entrez\n",
        "\n",
        "# Entrez email address (required by NCBI)\n",
        "Entrez.email = \"alihajisadeghian250@gmail.com\"\n",
        "\n",
        "# Entrez Gene ID of the gene you're interested in\n",
        "entrez_gene_id = \"2\"\n",
        "\n",
        "# Query Entrez Gene database to retrieve gene information\n",
        "handle = Entrez.efetch(db=\"gene\", id=entrez_gene_id, rettype=\"gb\", retmode=\"text\")\n",
        "gene_record = handle.read()\n",
        "handle.close()\n"
      ],
      "metadata": {
        "id": "4bnqXX1clnWj"
      },
      "execution_count": null,
      "outputs": []
    },
    {
      "cell_type": "code",
      "source": [
        "gene_record"
      ],
      "metadata": {
        "colab": {
          "base_uri": "https://localhost:8080/",
          "height": 72
        },
        "id": "Hiu8XxoXRkne",
        "outputId": "c903bcb4-ef5b-43f1-a241-7697a4c0b90e"
      },
      "execution_count": 53,
      "outputs": [
        {
          "output_type": "execute_result",
          "data": {
            "text/plain": [
              "'\\n1. A2M\\nOfficial Symbol: A2M and Name: alpha-2-macroglobulin [Homo sapiens (human)]\\nOther Aliases: A2MD, CPAMD5, FWP007, S863-7\\nOther Designations: alpha-2-macroglobulin; C3 and PZP-like alpha-2-macroglobulin domain-containing protein 5; alpha-2-M\\nChromosome: 12; Location: 12p13.31\\nAnnotation: Chromosome 12 NC_000012.12 (9067708..9116229, complement)\\nMIM: 103950\\nID: 2\\n\\n'"
            ],
            "application/vnd.google.colaboratory.intrinsic+json": {
              "type": "string"
            }
          },
          "metadata": {},
          "execution_count": 53
        }
      ]
    },
    {
      "cell_type": "code",
      "source": [],
      "metadata": {
        "id": "ejd6NFHzkmXh"
      },
      "execution_count": null,
      "outputs": []
    },
    {
      "cell_type": "code",
      "source": [
        "chr = int(gene_record.split('\\n')[5].split(' ')[1].split(';')[0])"
      ],
      "metadata": {
        "id": "YJt4VnBHR1gN"
      },
      "execution_count": null,
      "outputs": []
    },
    {
      "cell_type": "code",
      "source": [
        "start_pos = int(gene_record.split('\\n')[6].split('(')[1].split('..')[0])"
      ],
      "metadata": {
        "id": "wrL6rG4fSKwN"
      },
      "execution_count": null,
      "outputs": []
    },
    {
      "cell_type": "code",
      "source": [
        "end_pos = int(gene_record.split('\\n')[6].split('(')[1].split('..')[1].split(',')[0].split(')')[0])"
      ],
      "metadata": {
        "id": "GL4g_pYPVhwf"
      },
      "execution_count": null,
      "outputs": []
    },
    {
      "cell_type": "code",
      "source": [
        "chr"
      ],
      "metadata": {
        "colab": {
          "base_uri": "https://localhost:8080/"
        },
        "id": "Hhs1s8flSYd1",
        "outputId": "057307c2-adc8-4d12-f24a-3763ea86520d"
      },
      "execution_count": null,
      "outputs": [
        {
          "output_type": "execute_result",
          "data": {
            "text/plain": [
              "12"
            ]
          },
          "metadata": {},
          "execution_count": 73
        }
      ]
    },
    {
      "cell_type": "code",
      "source": [
        "start_pos"
      ],
      "metadata": {
        "colab": {
          "base_uri": "https://localhost:8080/"
        },
        "id": "558NllEyT9y9",
        "outputId": "576ca0ac-e42e-415a-8b49-60bb99fce32e"
      },
      "execution_count": null,
      "outputs": [
        {
          "output_type": "execute_result",
          "data": {
            "text/plain": [
              "9067708"
            ]
          },
          "metadata": {},
          "execution_count": 74
        }
      ]
    },
    {
      "cell_type": "code",
      "source": [
        "end_pos"
      ],
      "metadata": {
        "colab": {
          "base_uri": "https://localhost:8080/"
        },
        "id": "6mVvP2PlT_n1",
        "outputId": "3d480a26-d622-44c4-be6f-7913d7134a9b"
      },
      "execution_count": null,
      "outputs": [
        {
          "output_type": "execute_result",
          "data": {
            "text/plain": [
              "9116229"
            ]
          },
          "metadata": {},
          "execution_count": 75
        }
      ]
    },
    {
      "cell_type": "code",
      "source": [],
      "metadata": {
        "id": "Ej1i2TD9V_2a"
      },
      "execution_count": null,
      "outputs": []
    }
  ],
  "metadata": {
    "colab": {
      "provenance": []
    },
    "kernelspec": {
      "display_name": "Python 3",
      "name": "python3"
    },
    "language_info": {
      "name": "python"
    }
  },
  "nbformat": 4,
  "nbformat_minor": 0
}